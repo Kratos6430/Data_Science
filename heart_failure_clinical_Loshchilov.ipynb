{
  "nbformat": 4,
  "nbformat_minor": 0,
  "metadata": {
    "colab": {
      "provenance": [],
      "authorship_tag": "ABX9TyNe4raN0pKBY10yD5/eDE5X",
      "include_colab_link": true
    },
    "kernelspec": {
      "name": "python3",
      "display_name": "Python 3"
    },
    "language_info": {
      "name": "python"
    }
  },
  "cells": [
    {
      "cell_type": "markdown",
      "metadata": {
        "id": "view-in-github",
        "colab_type": "text"
      },
      "source": [
        "<a href=\"https://colab.research.google.com/github/loshchilovv/Data_Science/blob/main/heart_failure_clinical_Loshchilov.ipynb\" target=\"_parent\"><img src=\"https://colab.research.google.com/assets/colab-badge.svg\" alt=\"Open In Colab\"/></a>"
      ]
    },
    {
      "cell_type": "code",
      "source": [
        "! pip install -q kaggle"
      ],
      "metadata": {
        "id": "D9f6cnES-k76"
      },
      "execution_count": 1,
      "outputs": []
    },
    {
      "cell_type": "code",
      "source": [
        "from google.colab import files\n",
        "\n",
        "files.upload()"
      ],
      "metadata": {
        "colab": {
          "base_uri": "https://localhost:8080/",
          "height": 92
        },
        "id": "I88Rkdhe-tEA",
        "outputId": "9fa0e3fc-6346-4c30-eb56-738082699282"
      },
      "execution_count": 2,
      "outputs": [
        {
          "output_type": "display_data",
          "data": {
            "text/plain": [
              "<IPython.core.display.HTML object>"
            ],
            "text/html": [
              "\n",
              "     <input type=\"file\" id=\"files-11700dc6-b904-4f35-844f-4edc8a4ce9da\" name=\"files[]\" multiple disabled\n",
              "        style=\"border:none\" />\n",
              "     <output id=\"result-11700dc6-b904-4f35-844f-4edc8a4ce9da\">\n",
              "      Upload widget is only available when the cell has been executed in the\n",
              "      current browser session. Please rerun this cell to enable.\n",
              "      </output>\n",
              "      <script>// Copyright 2017 Google LLC\n",
              "//\n",
              "// Licensed under the Apache License, Version 2.0 (the \"License\");\n",
              "// you may not use this file except in compliance with the License.\n",
              "// You may obtain a copy of the License at\n",
              "//\n",
              "//      http://www.apache.org/licenses/LICENSE-2.0\n",
              "//\n",
              "// Unless required by applicable law or agreed to in writing, software\n",
              "// distributed under the License is distributed on an \"AS IS\" BASIS,\n",
              "// WITHOUT WARRANTIES OR CONDITIONS OF ANY KIND, either express or implied.\n",
              "// See the License for the specific language governing permissions and\n",
              "// limitations under the License.\n",
              "\n",
              "/**\n",
              " * @fileoverview Helpers for google.colab Python module.\n",
              " */\n",
              "(function(scope) {\n",
              "function span(text, styleAttributes = {}) {\n",
              "  const element = document.createElement('span');\n",
              "  element.textContent = text;\n",
              "  for (const key of Object.keys(styleAttributes)) {\n",
              "    element.style[key] = styleAttributes[key];\n",
              "  }\n",
              "  return element;\n",
              "}\n",
              "\n",
              "// Max number of bytes which will be uploaded at a time.\n",
              "const MAX_PAYLOAD_SIZE = 100 * 1024;\n",
              "\n",
              "function _uploadFiles(inputId, outputId) {\n",
              "  const steps = uploadFilesStep(inputId, outputId);\n",
              "  const outputElement = document.getElementById(outputId);\n",
              "  // Cache steps on the outputElement to make it available for the next call\n",
              "  // to uploadFilesContinue from Python.\n",
              "  outputElement.steps = steps;\n",
              "\n",
              "  return _uploadFilesContinue(outputId);\n",
              "}\n",
              "\n",
              "// This is roughly an async generator (not supported in the browser yet),\n",
              "// where there are multiple asynchronous steps and the Python side is going\n",
              "// to poll for completion of each step.\n",
              "// This uses a Promise to block the python side on completion of each step,\n",
              "// then passes the result of the previous step as the input to the next step.\n",
              "function _uploadFilesContinue(outputId) {\n",
              "  const outputElement = document.getElementById(outputId);\n",
              "  const steps = outputElement.steps;\n",
              "\n",
              "  const next = steps.next(outputElement.lastPromiseValue);\n",
              "  return Promise.resolve(next.value.promise).then((value) => {\n",
              "    // Cache the last promise value to make it available to the next\n",
              "    // step of the generator.\n",
              "    outputElement.lastPromiseValue = value;\n",
              "    return next.value.response;\n",
              "  });\n",
              "}\n",
              "\n",
              "/**\n",
              " * Generator function which is called between each async step of the upload\n",
              " * process.\n",
              " * @param {string} inputId Element ID of the input file picker element.\n",
              " * @param {string} outputId Element ID of the output display.\n",
              " * @return {!Iterable<!Object>} Iterable of next steps.\n",
              " */\n",
              "function* uploadFilesStep(inputId, outputId) {\n",
              "  const inputElement = document.getElementById(inputId);\n",
              "  inputElement.disabled = false;\n",
              "\n",
              "  const outputElement = document.getElementById(outputId);\n",
              "  outputElement.innerHTML = '';\n",
              "\n",
              "  const pickedPromise = new Promise((resolve) => {\n",
              "    inputElement.addEventListener('change', (e) => {\n",
              "      resolve(e.target.files);\n",
              "    });\n",
              "  });\n",
              "\n",
              "  const cancel = document.createElement('button');\n",
              "  inputElement.parentElement.appendChild(cancel);\n",
              "  cancel.textContent = 'Cancel upload';\n",
              "  const cancelPromise = new Promise((resolve) => {\n",
              "    cancel.onclick = () => {\n",
              "      resolve(null);\n",
              "    };\n",
              "  });\n",
              "\n",
              "  // Wait for the user to pick the files.\n",
              "  const files = yield {\n",
              "    promise: Promise.race([pickedPromise, cancelPromise]),\n",
              "    response: {\n",
              "      action: 'starting',\n",
              "    }\n",
              "  };\n",
              "\n",
              "  cancel.remove();\n",
              "\n",
              "  // Disable the input element since further picks are not allowed.\n",
              "  inputElement.disabled = true;\n",
              "\n",
              "  if (!files) {\n",
              "    return {\n",
              "      response: {\n",
              "        action: 'complete',\n",
              "      }\n",
              "    };\n",
              "  }\n",
              "\n",
              "  for (const file of files) {\n",
              "    const li = document.createElement('li');\n",
              "    li.append(span(file.name, {fontWeight: 'bold'}));\n",
              "    li.append(span(\n",
              "        `(${file.type || 'n/a'}) - ${file.size} bytes, ` +\n",
              "        `last modified: ${\n",
              "            file.lastModifiedDate ? file.lastModifiedDate.toLocaleDateString() :\n",
              "                                    'n/a'} - `));\n",
              "    const percent = span('0% done');\n",
              "    li.appendChild(percent);\n",
              "\n",
              "    outputElement.appendChild(li);\n",
              "\n",
              "    const fileDataPromise = new Promise((resolve) => {\n",
              "      const reader = new FileReader();\n",
              "      reader.onload = (e) => {\n",
              "        resolve(e.target.result);\n",
              "      };\n",
              "      reader.readAsArrayBuffer(file);\n",
              "    });\n",
              "    // Wait for the data to be ready.\n",
              "    let fileData = yield {\n",
              "      promise: fileDataPromise,\n",
              "      response: {\n",
              "        action: 'continue',\n",
              "      }\n",
              "    };\n",
              "\n",
              "    // Use a chunked sending to avoid message size limits. See b/62115660.\n",
              "    let position = 0;\n",
              "    do {\n",
              "      const length = Math.min(fileData.byteLength - position, MAX_PAYLOAD_SIZE);\n",
              "      const chunk = new Uint8Array(fileData, position, length);\n",
              "      position += length;\n",
              "\n",
              "      const base64 = btoa(String.fromCharCode.apply(null, chunk));\n",
              "      yield {\n",
              "        response: {\n",
              "          action: 'append',\n",
              "          file: file.name,\n",
              "          data: base64,\n",
              "        },\n",
              "      };\n",
              "\n",
              "      let percentDone = fileData.byteLength === 0 ?\n",
              "          100 :\n",
              "          Math.round((position / fileData.byteLength) * 100);\n",
              "      percent.textContent = `${percentDone}% done`;\n",
              "\n",
              "    } while (position < fileData.byteLength);\n",
              "  }\n",
              "\n",
              "  // All done.\n",
              "  yield {\n",
              "    response: {\n",
              "      action: 'complete',\n",
              "    }\n",
              "  };\n",
              "}\n",
              "\n",
              "scope.google = scope.google || {};\n",
              "scope.google.colab = scope.google.colab || {};\n",
              "scope.google.colab._files = {\n",
              "  _uploadFiles,\n",
              "  _uploadFilesContinue,\n",
              "};\n",
              "})(self);\n",
              "</script> "
            ]
          },
          "metadata": {}
        },
        {
          "output_type": "stream",
          "name": "stdout",
          "text": [
            "Saving kaggle.json to kaggle.json\n"
          ]
        },
        {
          "output_type": "execute_result",
          "data": {
            "text/plain": [
              "{'kaggle.json': b'{\"username\":\"leonidloshchilovv\",\"key\":\"390a426d73e69c4b3f00cba377483439\"}'}"
            ]
          },
          "metadata": {},
          "execution_count": 2
        }
      ]
    },
    {
      "cell_type": "code",
      "source": [
        "! mkdir ~/.kaggle\n",
        "! cp kaggle.json ~/.kaggle/\n",
        "! chmod 600 ~/.kaggle/kaggle.json"
      ],
      "metadata": {
        "id": "YsMFo7jE_mDt"
      },
      "execution_count": 3,
      "outputs": []
    },
    {
      "cell_type": "code",
      "source": [
        "! kaggle datasets download andrewmvd/heart-failure-clinical-data"
      ],
      "metadata": {
        "colab": {
          "base_uri": "https://localhost:8080/"
        },
        "id": "3ToiTgb1DJ0z",
        "outputId": "6e3e779f-740f-49a1-b804-59e4056c3673"
      },
      "execution_count": 4,
      "outputs": [
        {
          "output_type": "stream",
          "name": "stdout",
          "text": [
            "Dataset URL: https://www.kaggle.com/datasets/andrewmvd/heart-failure-clinical-data\n",
            "License(s): Attribution 4.0 International (CC BY 4.0)\n",
            "Downloading heart-failure-clinical-data.zip to /content\n",
            "  0% 0.00/3.97k [00:00<?, ?B/s]\n",
            "100% 3.97k/3.97k [00:00<00:00, 5.70MB/s]\n"
          ]
        }
      ]
    },
    {
      "cell_type": "code",
      "source": [
        "from IPython.core.display import clear_output\n",
        "! unzip '/content/heart-failure-clinical-data.zip' -d '/content/heart-failure-clinical-data'"
      ],
      "metadata": {
        "colab": {
          "base_uri": "https://localhost:8080/"
        },
        "id": "EZY3MoN1PR3P",
        "outputId": "8f76eec1-3de6-4560-edd3-a92729ed935b"
      },
      "execution_count": 5,
      "outputs": [
        {
          "output_type": "stream",
          "name": "stdout",
          "text": [
            "Archive:  /content/heart-failure-clinical-data.zip\n",
            "  inflating: /content/heart-failure-clinical-data/heart_failure_clinical_records_dataset.csv  \n"
          ]
        }
      ]
    },
    {
      "cell_type": "code",
      "source": [
        "import numpy as np\n",
        "import pandas as pd\n",
        "from matplotlib import pyplot as plt\n",
        "%matplotlib inline"
      ],
      "metadata": {
        "id": "expygGkHSvN4"
      },
      "execution_count": 6,
      "outputs": []
    },
    {
      "cell_type": "code",
      "source": [
        "df=pd.read_csv('/content/heart-failure-clinical-data/heart_failure_clinical_records_dataset.csv')\n",
        "df.head()\n",
        "# Пол\n",
        "#Женщина 0\n",
        "#Мужчина 1"
      ],
      "metadata": {
        "colab": {
          "base_uri": "https://localhost:8080/",
          "height": 226
        },
        "id": "1p_dng2NSwlc",
        "outputId": "275927fb-0cf8-4c64-836b-065c2ad96e7c"
      },
      "execution_count": 7,
      "outputs": [
        {
          "output_type": "execute_result",
          "data": {
            "text/plain": [
              "    age  anaemia  creatinine_phosphokinase  diabetes  ejection_fraction  \\\n",
              "0  75.0        0                       582         0                 20   \n",
              "1  55.0        0                      7861         0                 38   \n",
              "2  65.0        0                       146         0                 20   \n",
              "3  50.0        1                       111         0                 20   \n",
              "4  65.0        1                       160         1                 20   \n",
              "\n",
              "   high_blood_pressure  platelets  serum_creatinine  serum_sodium  sex  \\\n",
              "0                    1  265000.00               1.9           130    1   \n",
              "1                    0  263358.03               1.1           136    1   \n",
              "2                    0  162000.00               1.3           129    1   \n",
              "3                    0  210000.00               1.9           137    1   \n",
              "4                    0  327000.00               2.7           116    0   \n",
              "\n",
              "   smoking  time  DEATH_EVENT  \n",
              "0        0     4            1  \n",
              "1        0     6            1  \n",
              "2        1     7            1  \n",
              "3        0     7            1  \n",
              "4        0     8            1  "
            ],
            "text/html": [
              "\n",
              "  <div id=\"df-b868394c-5a41-4f87-8dae-b0ffbe875b62\" class=\"colab-df-container\">\n",
              "    <div>\n",
              "<style scoped>\n",
              "    .dataframe tbody tr th:only-of-type {\n",
              "        vertical-align: middle;\n",
              "    }\n",
              "\n",
              "    .dataframe tbody tr th {\n",
              "        vertical-align: top;\n",
              "    }\n",
              "\n",
              "    .dataframe thead th {\n",
              "        text-align: right;\n",
              "    }\n",
              "</style>\n",
              "<table border=\"1\" class=\"dataframe\">\n",
              "  <thead>\n",
              "    <tr style=\"text-align: right;\">\n",
              "      <th></th>\n",
              "      <th>age</th>\n",
              "      <th>anaemia</th>\n",
              "      <th>creatinine_phosphokinase</th>\n",
              "      <th>diabetes</th>\n",
              "      <th>ejection_fraction</th>\n",
              "      <th>high_blood_pressure</th>\n",
              "      <th>platelets</th>\n",
              "      <th>serum_creatinine</th>\n",
              "      <th>serum_sodium</th>\n",
              "      <th>sex</th>\n",
              "      <th>smoking</th>\n",
              "      <th>time</th>\n",
              "      <th>DEATH_EVENT</th>\n",
              "    </tr>\n",
              "  </thead>\n",
              "  <tbody>\n",
              "    <tr>\n",
              "      <th>0</th>\n",
              "      <td>75.0</td>\n",
              "      <td>0</td>\n",
              "      <td>582</td>\n",
              "      <td>0</td>\n",
              "      <td>20</td>\n",
              "      <td>1</td>\n",
              "      <td>265000.00</td>\n",
              "      <td>1.9</td>\n",
              "      <td>130</td>\n",
              "      <td>1</td>\n",
              "      <td>0</td>\n",
              "      <td>4</td>\n",
              "      <td>1</td>\n",
              "    </tr>\n",
              "    <tr>\n",
              "      <th>1</th>\n",
              "      <td>55.0</td>\n",
              "      <td>0</td>\n",
              "      <td>7861</td>\n",
              "      <td>0</td>\n",
              "      <td>38</td>\n",
              "      <td>0</td>\n",
              "      <td>263358.03</td>\n",
              "      <td>1.1</td>\n",
              "      <td>136</td>\n",
              "      <td>1</td>\n",
              "      <td>0</td>\n",
              "      <td>6</td>\n",
              "      <td>1</td>\n",
              "    </tr>\n",
              "    <tr>\n",
              "      <th>2</th>\n",
              "      <td>65.0</td>\n",
              "      <td>0</td>\n",
              "      <td>146</td>\n",
              "      <td>0</td>\n",
              "      <td>20</td>\n",
              "      <td>0</td>\n",
              "      <td>162000.00</td>\n",
              "      <td>1.3</td>\n",
              "      <td>129</td>\n",
              "      <td>1</td>\n",
              "      <td>1</td>\n",
              "      <td>7</td>\n",
              "      <td>1</td>\n",
              "    </tr>\n",
              "    <tr>\n",
              "      <th>3</th>\n",
              "      <td>50.0</td>\n",
              "      <td>1</td>\n",
              "      <td>111</td>\n",
              "      <td>0</td>\n",
              "      <td>20</td>\n",
              "      <td>0</td>\n",
              "      <td>210000.00</td>\n",
              "      <td>1.9</td>\n",
              "      <td>137</td>\n",
              "      <td>1</td>\n",
              "      <td>0</td>\n",
              "      <td>7</td>\n",
              "      <td>1</td>\n",
              "    </tr>\n",
              "    <tr>\n",
              "      <th>4</th>\n",
              "      <td>65.0</td>\n",
              "      <td>1</td>\n",
              "      <td>160</td>\n",
              "      <td>1</td>\n",
              "      <td>20</td>\n",
              "      <td>0</td>\n",
              "      <td>327000.00</td>\n",
              "      <td>2.7</td>\n",
              "      <td>116</td>\n",
              "      <td>0</td>\n",
              "      <td>0</td>\n",
              "      <td>8</td>\n",
              "      <td>1</td>\n",
              "    </tr>\n",
              "  </tbody>\n",
              "</table>\n",
              "</div>\n",
              "    <div class=\"colab-df-buttons\">\n",
              "\n",
              "  <div class=\"colab-df-container\">\n",
              "    <button class=\"colab-df-convert\" onclick=\"convertToInteractive('df-b868394c-5a41-4f87-8dae-b0ffbe875b62')\"\n",
              "            title=\"Convert this dataframe to an interactive table.\"\n",
              "            style=\"display:none;\">\n",
              "\n",
              "  <svg xmlns=\"http://www.w3.org/2000/svg\" height=\"24px\" viewBox=\"0 -960 960 960\">\n",
              "    <path d=\"M120-120v-720h720v720H120Zm60-500h600v-160H180v160Zm220 220h160v-160H400v160Zm0 220h160v-160H400v160ZM180-400h160v-160H180v160Zm440 0h160v-160H620v160ZM180-180h160v-160H180v160Zm440 0h160v-160H620v160Z\"/>\n",
              "  </svg>\n",
              "    </button>\n",
              "\n",
              "  <style>\n",
              "    .colab-df-container {\n",
              "      display:flex;\n",
              "      gap: 12px;\n",
              "    }\n",
              "\n",
              "    .colab-df-convert {\n",
              "      background-color: #E8F0FE;\n",
              "      border: none;\n",
              "      border-radius: 50%;\n",
              "      cursor: pointer;\n",
              "      display: none;\n",
              "      fill: #1967D2;\n",
              "      height: 32px;\n",
              "      padding: 0 0 0 0;\n",
              "      width: 32px;\n",
              "    }\n",
              "\n",
              "    .colab-df-convert:hover {\n",
              "      background-color: #E2EBFA;\n",
              "      box-shadow: 0px 1px 2px rgba(60, 64, 67, 0.3), 0px 1px 3px 1px rgba(60, 64, 67, 0.15);\n",
              "      fill: #174EA6;\n",
              "    }\n",
              "\n",
              "    .colab-df-buttons div {\n",
              "      margin-bottom: 4px;\n",
              "    }\n",
              "\n",
              "    [theme=dark] .colab-df-convert {\n",
              "      background-color: #3B4455;\n",
              "      fill: #D2E3FC;\n",
              "    }\n",
              "\n",
              "    [theme=dark] .colab-df-convert:hover {\n",
              "      background-color: #434B5C;\n",
              "      box-shadow: 0px 1px 3px 1px rgba(0, 0, 0, 0.15);\n",
              "      filter: drop-shadow(0px 1px 2px rgba(0, 0, 0, 0.3));\n",
              "      fill: #FFFFFF;\n",
              "    }\n",
              "  </style>\n",
              "\n",
              "    <script>\n",
              "      const buttonEl =\n",
              "        document.querySelector('#df-b868394c-5a41-4f87-8dae-b0ffbe875b62 button.colab-df-convert');\n",
              "      buttonEl.style.display =\n",
              "        google.colab.kernel.accessAllowed ? 'block' : 'none';\n",
              "\n",
              "      async function convertToInteractive(key) {\n",
              "        const element = document.querySelector('#df-b868394c-5a41-4f87-8dae-b0ffbe875b62');\n",
              "        const dataTable =\n",
              "          await google.colab.kernel.invokeFunction('convertToInteractive',\n",
              "                                                    [key], {});\n",
              "        if (!dataTable) return;\n",
              "\n",
              "        const docLinkHtml = 'Like what you see? Visit the ' +\n",
              "          '<a target=\"_blank\" href=https://colab.research.google.com/notebooks/data_table.ipynb>data table notebook</a>'\n",
              "          + ' to learn more about interactive tables.';\n",
              "        element.innerHTML = '';\n",
              "        dataTable['output_type'] = 'display_data';\n",
              "        await google.colab.output.renderOutput(dataTable, element);\n",
              "        const docLink = document.createElement('div');\n",
              "        docLink.innerHTML = docLinkHtml;\n",
              "        element.appendChild(docLink);\n",
              "      }\n",
              "    </script>\n",
              "  </div>\n",
              "\n",
              "\n",
              "<div id=\"df-f69f972e-d4d6-4659-ad53-92ffdebb7745\">\n",
              "  <button class=\"colab-df-quickchart\" onclick=\"quickchart('df-f69f972e-d4d6-4659-ad53-92ffdebb7745')\"\n",
              "            title=\"Suggest charts\"\n",
              "            style=\"display:none;\">\n",
              "\n",
              "<svg xmlns=\"http://www.w3.org/2000/svg\" height=\"24px\"viewBox=\"0 0 24 24\"\n",
              "     width=\"24px\">\n",
              "    <g>\n",
              "        <path d=\"M19 3H5c-1.1 0-2 .9-2 2v14c0 1.1.9 2 2 2h14c1.1 0 2-.9 2-2V5c0-1.1-.9-2-2-2zM9 17H7v-7h2v7zm4 0h-2V7h2v10zm4 0h-2v-4h2v4z\"/>\n",
              "    </g>\n",
              "</svg>\n",
              "  </button>\n",
              "\n",
              "<style>\n",
              "  .colab-df-quickchart {\n",
              "      --bg-color: #E8F0FE;\n",
              "      --fill-color: #1967D2;\n",
              "      --hover-bg-color: #E2EBFA;\n",
              "      --hover-fill-color: #174EA6;\n",
              "      --disabled-fill-color: #AAA;\n",
              "      --disabled-bg-color: #DDD;\n",
              "  }\n",
              "\n",
              "  [theme=dark] .colab-df-quickchart {\n",
              "      --bg-color: #3B4455;\n",
              "      --fill-color: #D2E3FC;\n",
              "      --hover-bg-color: #434B5C;\n",
              "      --hover-fill-color: #FFFFFF;\n",
              "      --disabled-bg-color: #3B4455;\n",
              "      --disabled-fill-color: #666;\n",
              "  }\n",
              "\n",
              "  .colab-df-quickchart {\n",
              "    background-color: var(--bg-color);\n",
              "    border: none;\n",
              "    border-radius: 50%;\n",
              "    cursor: pointer;\n",
              "    display: none;\n",
              "    fill: var(--fill-color);\n",
              "    height: 32px;\n",
              "    padding: 0;\n",
              "    width: 32px;\n",
              "  }\n",
              "\n",
              "  .colab-df-quickchart:hover {\n",
              "    background-color: var(--hover-bg-color);\n",
              "    box-shadow: 0 1px 2px rgba(60, 64, 67, 0.3), 0 1px 3px 1px rgba(60, 64, 67, 0.15);\n",
              "    fill: var(--button-hover-fill-color);\n",
              "  }\n",
              "\n",
              "  .colab-df-quickchart-complete:disabled,\n",
              "  .colab-df-quickchart-complete:disabled:hover {\n",
              "    background-color: var(--disabled-bg-color);\n",
              "    fill: var(--disabled-fill-color);\n",
              "    box-shadow: none;\n",
              "  }\n",
              "\n",
              "  .colab-df-spinner {\n",
              "    border: 2px solid var(--fill-color);\n",
              "    border-color: transparent;\n",
              "    border-bottom-color: var(--fill-color);\n",
              "    animation:\n",
              "      spin 1s steps(1) infinite;\n",
              "  }\n",
              "\n",
              "  @keyframes spin {\n",
              "    0% {\n",
              "      border-color: transparent;\n",
              "      border-bottom-color: var(--fill-color);\n",
              "      border-left-color: var(--fill-color);\n",
              "    }\n",
              "    20% {\n",
              "      border-color: transparent;\n",
              "      border-left-color: var(--fill-color);\n",
              "      border-top-color: var(--fill-color);\n",
              "    }\n",
              "    30% {\n",
              "      border-color: transparent;\n",
              "      border-left-color: var(--fill-color);\n",
              "      border-top-color: var(--fill-color);\n",
              "      border-right-color: var(--fill-color);\n",
              "    }\n",
              "    40% {\n",
              "      border-color: transparent;\n",
              "      border-right-color: var(--fill-color);\n",
              "      border-top-color: var(--fill-color);\n",
              "    }\n",
              "    60% {\n",
              "      border-color: transparent;\n",
              "      border-right-color: var(--fill-color);\n",
              "    }\n",
              "    80% {\n",
              "      border-color: transparent;\n",
              "      border-right-color: var(--fill-color);\n",
              "      border-bottom-color: var(--fill-color);\n",
              "    }\n",
              "    90% {\n",
              "      border-color: transparent;\n",
              "      border-bottom-color: var(--fill-color);\n",
              "    }\n",
              "  }\n",
              "</style>\n",
              "\n",
              "  <script>\n",
              "    async function quickchart(key) {\n",
              "      const quickchartButtonEl =\n",
              "        document.querySelector('#' + key + ' button');\n",
              "      quickchartButtonEl.disabled = true;  // To prevent multiple clicks.\n",
              "      quickchartButtonEl.classList.add('colab-df-spinner');\n",
              "      try {\n",
              "        const charts = await google.colab.kernel.invokeFunction(\n",
              "            'suggestCharts', [key], {});\n",
              "      } catch (error) {\n",
              "        console.error('Error during call to suggestCharts:', error);\n",
              "      }\n",
              "      quickchartButtonEl.classList.remove('colab-df-spinner');\n",
              "      quickchartButtonEl.classList.add('colab-df-quickchart-complete');\n",
              "    }\n",
              "    (() => {\n",
              "      let quickchartButtonEl =\n",
              "        document.querySelector('#df-f69f972e-d4d6-4659-ad53-92ffdebb7745 button');\n",
              "      quickchartButtonEl.style.display =\n",
              "        google.colab.kernel.accessAllowed ? 'block' : 'none';\n",
              "    })();\n",
              "  </script>\n",
              "</div>\n",
              "    </div>\n",
              "  </div>\n"
            ],
            "application/vnd.google.colaboratory.intrinsic+json": {
              "type": "dataframe",
              "summary": "{\n  \"name\": \"#\\u041c\\u0443\\u0436\\u0447\\u0438\\u043d\\u0430 1\",\n  \"rows\": 5,\n  \"fields\": [\n    {\n      \"column\": \"age\",\n      \"properties\": {\n        \"dtype\": \"number\",\n        \"std\": 9.746794344808963,\n        \"min\": 50.0,\n        \"max\": 75.0,\n        \"num_unique_values\": 4,\n        \"samples\": [\n          55.0,\n          50.0,\n          75.0\n        ],\n        \"semantic_type\": \"\",\n        \"description\": \"\"\n      }\n    },\n    {\n      \"column\": \"anaemia\",\n      \"properties\": {\n        \"dtype\": \"number\",\n        \"std\": 0,\n        \"min\": 0,\n        \"max\": 1,\n        \"num_unique_values\": 2,\n        \"samples\": [\n          1,\n          0\n        ],\n        \"semantic_type\": \"\",\n        \"description\": \"\"\n      }\n    },\n    {\n      \"column\": \"creatinine_phosphokinase\",\n      \"properties\": {\n        \"dtype\": \"number\",\n        \"std\": 3409,\n        \"min\": 111,\n        \"max\": 7861,\n        \"num_unique_values\": 5,\n        \"samples\": [\n          7861,\n          160\n        ],\n        \"semantic_type\": \"\",\n        \"description\": \"\"\n      }\n    },\n    {\n      \"column\": \"diabetes\",\n      \"properties\": {\n        \"dtype\": \"number\",\n        \"std\": 0,\n        \"min\": 0,\n        \"max\": 1,\n        \"num_unique_values\": 2,\n        \"samples\": [\n          1,\n          0\n        ],\n        \"semantic_type\": \"\",\n        \"description\": \"\"\n      }\n    },\n    {\n      \"column\": \"ejection_fraction\",\n      \"properties\": {\n        \"dtype\": \"number\",\n        \"std\": 8,\n        \"min\": 20,\n        \"max\": 38,\n        \"num_unique_values\": 2,\n        \"samples\": [\n          38,\n          20\n        ],\n        \"semantic_type\": \"\",\n        \"description\": \"\"\n      }\n    },\n    {\n      \"column\": \"high_blood_pressure\",\n      \"properties\": {\n        \"dtype\": \"number\",\n        \"std\": 0,\n        \"min\": 0,\n        \"max\": 1,\n        \"num_unique_values\": 2,\n        \"samples\": [\n          0,\n          1\n        ],\n        \"semantic_type\": \"\",\n        \"description\": \"\"\n      }\n    },\n    {\n      \"column\": \"platelets\",\n      \"properties\": {\n        \"dtype\": \"number\",\n        \"std\": 62397.72673019571,\n        \"min\": 162000.0,\n        \"max\": 327000.0,\n        \"num_unique_values\": 5,\n        \"samples\": [\n          263358.03,\n          327000.0\n        ],\n        \"semantic_type\": \"\",\n        \"description\": \"\"\n      }\n    },\n    {\n      \"column\": \"serum_creatinine\",\n      \"properties\": {\n        \"dtype\": \"number\",\n        \"std\": 0.6260990336999411,\n        \"min\": 1.1,\n        \"max\": 2.7,\n        \"num_unique_values\": 4,\n        \"samples\": [\n          1.1,\n          2.7\n        ],\n        \"semantic_type\": \"\",\n        \"description\": \"\"\n      }\n    },\n    {\n      \"column\": \"serum_sodium\",\n      \"properties\": {\n        \"dtype\": \"number\",\n        \"std\": 8,\n        \"min\": 116,\n        \"max\": 137,\n        \"num_unique_values\": 5,\n        \"samples\": [\n          136,\n          116\n        ],\n        \"semantic_type\": \"\",\n        \"description\": \"\"\n      }\n    },\n    {\n      \"column\": \"sex\",\n      \"properties\": {\n        \"dtype\": \"number\",\n        \"std\": 0,\n        \"min\": 0,\n        \"max\": 1,\n        \"num_unique_values\": 2,\n        \"samples\": [\n          0,\n          1\n        ],\n        \"semantic_type\": \"\",\n        \"description\": \"\"\n      }\n    },\n    {\n      \"column\": \"smoking\",\n      \"properties\": {\n        \"dtype\": \"number\",\n        \"std\": 0,\n        \"min\": 0,\n        \"max\": 1,\n        \"num_unique_values\": 2,\n        \"samples\": [\n          1,\n          0\n        ],\n        \"semantic_type\": \"\",\n        \"description\": \"\"\n      }\n    },\n    {\n      \"column\": \"time\",\n      \"properties\": {\n        \"dtype\": \"number\",\n        \"std\": 1,\n        \"min\": 4,\n        \"max\": 8,\n        \"num_unique_values\": 4,\n        \"samples\": [\n          6,\n          8\n        ],\n        \"semantic_type\": \"\",\n        \"description\": \"\"\n      }\n    },\n    {\n      \"column\": \"DEATH_EVENT\",\n      \"properties\": {\n        \"dtype\": \"number\",\n        \"std\": 0,\n        \"min\": 1,\n        \"max\": 1,\n        \"num_unique_values\": 1,\n        \"samples\": [\n          1\n        ],\n        \"semantic_type\": \"\",\n        \"description\": \"\"\n      }\n    }\n  ]\n}"
            }
          },
          "metadata": {},
          "execution_count": 7
        }
      ]
    },
    {
      "cell_type": "code",
      "source": [
        "target=df['DEATH_EVENT']\n",
        "df=df.drop(['DEATH_EVENT'],axis=1)\n",
        "df.head()"
      ],
      "metadata": {
        "colab": {
          "base_uri": "https://localhost:8080/",
          "height": 226
        },
        "id": "LXAdfuPYwHUj",
        "outputId": "8236a412-9819-4457-c71f-7e6bd79f0b9f"
      },
      "execution_count": 8,
      "outputs": [
        {
          "output_type": "execute_result",
          "data": {
            "text/plain": [
              "    age  anaemia  creatinine_phosphokinase  diabetes  ejection_fraction  \\\n",
              "0  75.0        0                       582         0                 20   \n",
              "1  55.0        0                      7861         0                 38   \n",
              "2  65.0        0                       146         0                 20   \n",
              "3  50.0        1                       111         0                 20   \n",
              "4  65.0        1                       160         1                 20   \n",
              "\n",
              "   high_blood_pressure  platelets  serum_creatinine  serum_sodium  sex  \\\n",
              "0                    1  265000.00               1.9           130    1   \n",
              "1                    0  263358.03               1.1           136    1   \n",
              "2                    0  162000.00               1.3           129    1   \n",
              "3                    0  210000.00               1.9           137    1   \n",
              "4                    0  327000.00               2.7           116    0   \n",
              "\n",
              "   smoking  time  \n",
              "0        0     4  \n",
              "1        0     6  \n",
              "2        1     7  \n",
              "3        0     7  \n",
              "4        0     8  "
            ],
            "text/html": [
              "\n",
              "  <div id=\"df-b484fd20-9d0e-4a7e-8a9f-9c46ce1b9ba5\" class=\"colab-df-container\">\n",
              "    <div>\n",
              "<style scoped>\n",
              "    .dataframe tbody tr th:only-of-type {\n",
              "        vertical-align: middle;\n",
              "    }\n",
              "\n",
              "    .dataframe tbody tr th {\n",
              "        vertical-align: top;\n",
              "    }\n",
              "\n",
              "    .dataframe thead th {\n",
              "        text-align: right;\n",
              "    }\n",
              "</style>\n",
              "<table border=\"1\" class=\"dataframe\">\n",
              "  <thead>\n",
              "    <tr style=\"text-align: right;\">\n",
              "      <th></th>\n",
              "      <th>age</th>\n",
              "      <th>anaemia</th>\n",
              "      <th>creatinine_phosphokinase</th>\n",
              "      <th>diabetes</th>\n",
              "      <th>ejection_fraction</th>\n",
              "      <th>high_blood_pressure</th>\n",
              "      <th>platelets</th>\n",
              "      <th>serum_creatinine</th>\n",
              "      <th>serum_sodium</th>\n",
              "      <th>sex</th>\n",
              "      <th>smoking</th>\n",
              "      <th>time</th>\n",
              "    </tr>\n",
              "  </thead>\n",
              "  <tbody>\n",
              "    <tr>\n",
              "      <th>0</th>\n",
              "      <td>75.0</td>\n",
              "      <td>0</td>\n",
              "      <td>582</td>\n",
              "      <td>0</td>\n",
              "      <td>20</td>\n",
              "      <td>1</td>\n",
              "      <td>265000.00</td>\n",
              "      <td>1.9</td>\n",
              "      <td>130</td>\n",
              "      <td>1</td>\n",
              "      <td>0</td>\n",
              "      <td>4</td>\n",
              "    </tr>\n",
              "    <tr>\n",
              "      <th>1</th>\n",
              "      <td>55.0</td>\n",
              "      <td>0</td>\n",
              "      <td>7861</td>\n",
              "      <td>0</td>\n",
              "      <td>38</td>\n",
              "      <td>0</td>\n",
              "      <td>263358.03</td>\n",
              "      <td>1.1</td>\n",
              "      <td>136</td>\n",
              "      <td>1</td>\n",
              "      <td>0</td>\n",
              "      <td>6</td>\n",
              "    </tr>\n",
              "    <tr>\n",
              "      <th>2</th>\n",
              "      <td>65.0</td>\n",
              "      <td>0</td>\n",
              "      <td>146</td>\n",
              "      <td>0</td>\n",
              "      <td>20</td>\n",
              "      <td>0</td>\n",
              "      <td>162000.00</td>\n",
              "      <td>1.3</td>\n",
              "      <td>129</td>\n",
              "      <td>1</td>\n",
              "      <td>1</td>\n",
              "      <td>7</td>\n",
              "    </tr>\n",
              "    <tr>\n",
              "      <th>3</th>\n",
              "      <td>50.0</td>\n",
              "      <td>1</td>\n",
              "      <td>111</td>\n",
              "      <td>0</td>\n",
              "      <td>20</td>\n",
              "      <td>0</td>\n",
              "      <td>210000.00</td>\n",
              "      <td>1.9</td>\n",
              "      <td>137</td>\n",
              "      <td>1</td>\n",
              "      <td>0</td>\n",
              "      <td>7</td>\n",
              "    </tr>\n",
              "    <tr>\n",
              "      <th>4</th>\n",
              "      <td>65.0</td>\n",
              "      <td>1</td>\n",
              "      <td>160</td>\n",
              "      <td>1</td>\n",
              "      <td>20</td>\n",
              "      <td>0</td>\n",
              "      <td>327000.00</td>\n",
              "      <td>2.7</td>\n",
              "      <td>116</td>\n",
              "      <td>0</td>\n",
              "      <td>0</td>\n",
              "      <td>8</td>\n",
              "    </tr>\n",
              "  </tbody>\n",
              "</table>\n",
              "</div>\n",
              "    <div class=\"colab-df-buttons\">\n",
              "\n",
              "  <div class=\"colab-df-container\">\n",
              "    <button class=\"colab-df-convert\" onclick=\"convertToInteractive('df-b484fd20-9d0e-4a7e-8a9f-9c46ce1b9ba5')\"\n",
              "            title=\"Convert this dataframe to an interactive table.\"\n",
              "            style=\"display:none;\">\n",
              "\n",
              "  <svg xmlns=\"http://www.w3.org/2000/svg\" height=\"24px\" viewBox=\"0 -960 960 960\">\n",
              "    <path d=\"M120-120v-720h720v720H120Zm60-500h600v-160H180v160Zm220 220h160v-160H400v160Zm0 220h160v-160H400v160ZM180-400h160v-160H180v160Zm440 0h160v-160H620v160ZM180-180h160v-160H180v160Zm440 0h160v-160H620v160Z\"/>\n",
              "  </svg>\n",
              "    </button>\n",
              "\n",
              "  <style>\n",
              "    .colab-df-container {\n",
              "      display:flex;\n",
              "      gap: 12px;\n",
              "    }\n",
              "\n",
              "    .colab-df-convert {\n",
              "      background-color: #E8F0FE;\n",
              "      border: none;\n",
              "      border-radius: 50%;\n",
              "      cursor: pointer;\n",
              "      display: none;\n",
              "      fill: #1967D2;\n",
              "      height: 32px;\n",
              "      padding: 0 0 0 0;\n",
              "      width: 32px;\n",
              "    }\n",
              "\n",
              "    .colab-df-convert:hover {\n",
              "      background-color: #E2EBFA;\n",
              "      box-shadow: 0px 1px 2px rgba(60, 64, 67, 0.3), 0px 1px 3px 1px rgba(60, 64, 67, 0.15);\n",
              "      fill: #174EA6;\n",
              "    }\n",
              "\n",
              "    .colab-df-buttons div {\n",
              "      margin-bottom: 4px;\n",
              "    }\n",
              "\n",
              "    [theme=dark] .colab-df-convert {\n",
              "      background-color: #3B4455;\n",
              "      fill: #D2E3FC;\n",
              "    }\n",
              "\n",
              "    [theme=dark] .colab-df-convert:hover {\n",
              "      background-color: #434B5C;\n",
              "      box-shadow: 0px 1px 3px 1px rgba(0, 0, 0, 0.15);\n",
              "      filter: drop-shadow(0px 1px 2px rgba(0, 0, 0, 0.3));\n",
              "      fill: #FFFFFF;\n",
              "    }\n",
              "  </style>\n",
              "\n",
              "    <script>\n",
              "      const buttonEl =\n",
              "        document.querySelector('#df-b484fd20-9d0e-4a7e-8a9f-9c46ce1b9ba5 button.colab-df-convert');\n",
              "      buttonEl.style.display =\n",
              "        google.colab.kernel.accessAllowed ? 'block' : 'none';\n",
              "\n",
              "      async function convertToInteractive(key) {\n",
              "        const element = document.querySelector('#df-b484fd20-9d0e-4a7e-8a9f-9c46ce1b9ba5');\n",
              "        const dataTable =\n",
              "          await google.colab.kernel.invokeFunction('convertToInteractive',\n",
              "                                                    [key], {});\n",
              "        if (!dataTable) return;\n",
              "\n",
              "        const docLinkHtml = 'Like what you see? Visit the ' +\n",
              "          '<a target=\"_blank\" href=https://colab.research.google.com/notebooks/data_table.ipynb>data table notebook</a>'\n",
              "          + ' to learn more about interactive tables.';\n",
              "        element.innerHTML = '';\n",
              "        dataTable['output_type'] = 'display_data';\n",
              "        await google.colab.output.renderOutput(dataTable, element);\n",
              "        const docLink = document.createElement('div');\n",
              "        docLink.innerHTML = docLinkHtml;\n",
              "        element.appendChild(docLink);\n",
              "      }\n",
              "    </script>\n",
              "  </div>\n",
              "\n",
              "\n",
              "<div id=\"df-34f8d0f6-4579-451e-8719-81208ffbf242\">\n",
              "  <button class=\"colab-df-quickchart\" onclick=\"quickchart('df-34f8d0f6-4579-451e-8719-81208ffbf242')\"\n",
              "            title=\"Suggest charts\"\n",
              "            style=\"display:none;\">\n",
              "\n",
              "<svg xmlns=\"http://www.w3.org/2000/svg\" height=\"24px\"viewBox=\"0 0 24 24\"\n",
              "     width=\"24px\">\n",
              "    <g>\n",
              "        <path d=\"M19 3H5c-1.1 0-2 .9-2 2v14c0 1.1.9 2 2 2h14c1.1 0 2-.9 2-2V5c0-1.1-.9-2-2-2zM9 17H7v-7h2v7zm4 0h-2V7h2v10zm4 0h-2v-4h2v4z\"/>\n",
              "    </g>\n",
              "</svg>\n",
              "  </button>\n",
              "\n",
              "<style>\n",
              "  .colab-df-quickchart {\n",
              "      --bg-color: #E8F0FE;\n",
              "      --fill-color: #1967D2;\n",
              "      --hover-bg-color: #E2EBFA;\n",
              "      --hover-fill-color: #174EA6;\n",
              "      --disabled-fill-color: #AAA;\n",
              "      --disabled-bg-color: #DDD;\n",
              "  }\n",
              "\n",
              "  [theme=dark] .colab-df-quickchart {\n",
              "      --bg-color: #3B4455;\n",
              "      --fill-color: #D2E3FC;\n",
              "      --hover-bg-color: #434B5C;\n",
              "      --hover-fill-color: #FFFFFF;\n",
              "      --disabled-bg-color: #3B4455;\n",
              "      --disabled-fill-color: #666;\n",
              "  }\n",
              "\n",
              "  .colab-df-quickchart {\n",
              "    background-color: var(--bg-color);\n",
              "    border: none;\n",
              "    border-radius: 50%;\n",
              "    cursor: pointer;\n",
              "    display: none;\n",
              "    fill: var(--fill-color);\n",
              "    height: 32px;\n",
              "    padding: 0;\n",
              "    width: 32px;\n",
              "  }\n",
              "\n",
              "  .colab-df-quickchart:hover {\n",
              "    background-color: var(--hover-bg-color);\n",
              "    box-shadow: 0 1px 2px rgba(60, 64, 67, 0.3), 0 1px 3px 1px rgba(60, 64, 67, 0.15);\n",
              "    fill: var(--button-hover-fill-color);\n",
              "  }\n",
              "\n",
              "  .colab-df-quickchart-complete:disabled,\n",
              "  .colab-df-quickchart-complete:disabled:hover {\n",
              "    background-color: var(--disabled-bg-color);\n",
              "    fill: var(--disabled-fill-color);\n",
              "    box-shadow: none;\n",
              "  }\n",
              "\n",
              "  .colab-df-spinner {\n",
              "    border: 2px solid var(--fill-color);\n",
              "    border-color: transparent;\n",
              "    border-bottom-color: var(--fill-color);\n",
              "    animation:\n",
              "      spin 1s steps(1) infinite;\n",
              "  }\n",
              "\n",
              "  @keyframes spin {\n",
              "    0% {\n",
              "      border-color: transparent;\n",
              "      border-bottom-color: var(--fill-color);\n",
              "      border-left-color: var(--fill-color);\n",
              "    }\n",
              "    20% {\n",
              "      border-color: transparent;\n",
              "      border-left-color: var(--fill-color);\n",
              "      border-top-color: var(--fill-color);\n",
              "    }\n",
              "    30% {\n",
              "      border-color: transparent;\n",
              "      border-left-color: var(--fill-color);\n",
              "      border-top-color: var(--fill-color);\n",
              "      border-right-color: var(--fill-color);\n",
              "    }\n",
              "    40% {\n",
              "      border-color: transparent;\n",
              "      border-right-color: var(--fill-color);\n",
              "      border-top-color: var(--fill-color);\n",
              "    }\n",
              "    60% {\n",
              "      border-color: transparent;\n",
              "      border-right-color: var(--fill-color);\n",
              "    }\n",
              "    80% {\n",
              "      border-color: transparent;\n",
              "      border-right-color: var(--fill-color);\n",
              "      border-bottom-color: var(--fill-color);\n",
              "    }\n",
              "    90% {\n",
              "      border-color: transparent;\n",
              "      border-bottom-color: var(--fill-color);\n",
              "    }\n",
              "  }\n",
              "</style>\n",
              "\n",
              "  <script>\n",
              "    async function quickchart(key) {\n",
              "      const quickchartButtonEl =\n",
              "        document.querySelector('#' + key + ' button');\n",
              "      quickchartButtonEl.disabled = true;  // To prevent multiple clicks.\n",
              "      quickchartButtonEl.classList.add('colab-df-spinner');\n",
              "      try {\n",
              "        const charts = await google.colab.kernel.invokeFunction(\n",
              "            'suggestCharts', [key], {});\n",
              "      } catch (error) {\n",
              "        console.error('Error during call to suggestCharts:', error);\n",
              "      }\n",
              "      quickchartButtonEl.classList.remove('colab-df-spinner');\n",
              "      quickchartButtonEl.classList.add('colab-df-quickchart-complete');\n",
              "    }\n",
              "    (() => {\n",
              "      let quickchartButtonEl =\n",
              "        document.querySelector('#df-34f8d0f6-4579-451e-8719-81208ffbf242 button');\n",
              "      quickchartButtonEl.style.display =\n",
              "        google.colab.kernel.accessAllowed ? 'block' : 'none';\n",
              "    })();\n",
              "  </script>\n",
              "</div>\n",
              "    </div>\n",
              "  </div>\n"
            ],
            "application/vnd.google.colaboratory.intrinsic+json": {
              "type": "dataframe",
              "variable_name": "df",
              "summary": "{\n  \"name\": \"df\",\n  \"rows\": 299,\n  \"fields\": [\n    {\n      \"column\": \"age\",\n      \"properties\": {\n        \"dtype\": \"number\",\n        \"std\": 11.894809074044478,\n        \"min\": 40.0,\n        \"max\": 95.0,\n        \"num_unique_values\": 47,\n        \"samples\": [\n          79.0,\n          40.0,\n          67.0\n        ],\n        \"semantic_type\": \"\",\n        \"description\": \"\"\n      }\n    },\n    {\n      \"column\": \"anaemia\",\n      \"properties\": {\n        \"dtype\": \"number\",\n        \"std\": 0,\n        \"min\": 0,\n        \"max\": 1,\n        \"num_unique_values\": 2,\n        \"samples\": [\n          1,\n          0\n        ],\n        \"semantic_type\": \"\",\n        \"description\": \"\"\n      }\n    },\n    {\n      \"column\": \"creatinine_phosphokinase\",\n      \"properties\": {\n        \"dtype\": \"number\",\n        \"std\": 970,\n        \"min\": 23,\n        \"max\": 7861,\n        \"num_unique_values\": 208,\n        \"samples\": [\n          86,\n          379\n        ],\n        \"semantic_type\": \"\",\n        \"description\": \"\"\n      }\n    },\n    {\n      \"column\": \"diabetes\",\n      \"properties\": {\n        \"dtype\": \"number\",\n        \"std\": 0,\n        \"min\": 0,\n        \"max\": 1,\n        \"num_unique_values\": 2,\n        \"samples\": [\n          1,\n          0\n        ],\n        \"semantic_type\": \"\",\n        \"description\": \"\"\n      }\n    },\n    {\n      \"column\": \"ejection_fraction\",\n      \"properties\": {\n        \"dtype\": \"number\",\n        \"std\": 11,\n        \"min\": 14,\n        \"max\": 80,\n        \"num_unique_values\": 17,\n        \"samples\": [\n          20,\n          38\n        ],\n        \"semantic_type\": \"\",\n        \"description\": \"\"\n      }\n    },\n    {\n      \"column\": \"high_blood_pressure\",\n      \"properties\": {\n        \"dtype\": \"number\",\n        \"std\": 0,\n        \"min\": 0,\n        \"max\": 1,\n        \"num_unique_values\": 2,\n        \"samples\": [\n          0,\n          1\n        ],\n        \"semantic_type\": \"\",\n        \"description\": \"\"\n      }\n    },\n    {\n      \"column\": \"platelets\",\n      \"properties\": {\n        \"dtype\": \"number\",\n        \"std\": 97804.23686859828,\n        \"min\": 25100.0,\n        \"max\": 850000.0,\n        \"num_unique_values\": 176,\n        \"samples\": [\n          297000.0,\n          255000.0\n        ],\n        \"semantic_type\": \"\",\n        \"description\": \"\"\n      }\n    },\n    {\n      \"column\": \"serum_creatinine\",\n      \"properties\": {\n        \"dtype\": \"number\",\n        \"std\": 1.034510064089853,\n        \"min\": 0.5,\n        \"max\": 9.4,\n        \"num_unique_values\": 40,\n        \"samples\": [\n          4.4,\n          3.5\n        ],\n        \"semantic_type\": \"\",\n        \"description\": \"\"\n      }\n    },\n    {\n      \"column\": \"serum_sodium\",\n      \"properties\": {\n        \"dtype\": \"number\",\n        \"std\": 4,\n        \"min\": 113,\n        \"max\": 148,\n        \"num_unique_values\": 27,\n        \"samples\": [\n          133,\n          134\n        ],\n        \"semantic_type\": \"\",\n        \"description\": \"\"\n      }\n    },\n    {\n      \"column\": \"sex\",\n      \"properties\": {\n        \"dtype\": \"number\",\n        \"std\": 0,\n        \"min\": 0,\n        \"max\": 1,\n        \"num_unique_values\": 2,\n        \"samples\": [\n          0,\n          1\n        ],\n        \"semantic_type\": \"\",\n        \"description\": \"\"\n      }\n    },\n    {\n      \"column\": \"smoking\",\n      \"properties\": {\n        \"dtype\": \"number\",\n        \"std\": 0,\n        \"min\": 0,\n        \"max\": 1,\n        \"num_unique_values\": 2,\n        \"samples\": [\n          1,\n          0\n        ],\n        \"semantic_type\": \"\",\n        \"description\": \"\"\n      }\n    },\n    {\n      \"column\": \"time\",\n      \"properties\": {\n        \"dtype\": \"number\",\n        \"std\": 77,\n        \"min\": 4,\n        \"max\": 285,\n        \"num_unique_values\": 148,\n        \"samples\": [\n          215,\n          79\n        ],\n        \"semantic_type\": \"\",\n        \"description\": \"\"\n      }\n    }\n  ]\n}"
            }
          },
          "metadata": {},
          "execution_count": 8
        }
      ]
    },
    {
      "cell_type": "code",
      "source": [
        "# Считаем уникальные значения diabetes\n",
        "target.value_counts()"
      ],
      "metadata": {
        "colab": {
          "base_uri": "https://localhost:8080/",
          "height": 178
        },
        "id": "hsUZv_VowYcS",
        "outputId": "4479532f-ee7d-47c7-85db-3b6839f835f1"
      },
      "execution_count": 9,
      "outputs": [
        {
          "output_type": "execute_result",
          "data": {
            "text/plain": [
              "DEATH_EVENT\n",
              "0    203\n",
              "1     96\n",
              "Name: count, dtype: int64"
            ],
            "text/html": [
              "<div>\n",
              "<style scoped>\n",
              "    .dataframe tbody tr th:only-of-type {\n",
              "        vertical-align: middle;\n",
              "    }\n",
              "\n",
              "    .dataframe tbody tr th {\n",
              "        vertical-align: top;\n",
              "    }\n",
              "\n",
              "    .dataframe thead th {\n",
              "        text-align: right;\n",
              "    }\n",
              "</style>\n",
              "<table border=\"1\" class=\"dataframe\">\n",
              "  <thead>\n",
              "    <tr style=\"text-align: right;\">\n",
              "      <th></th>\n",
              "      <th>count</th>\n",
              "    </tr>\n",
              "    <tr>\n",
              "      <th>DEATH_EVENT</th>\n",
              "      <th></th>\n",
              "    </tr>\n",
              "  </thead>\n",
              "  <tbody>\n",
              "    <tr>\n",
              "      <th>0</th>\n",
              "      <td>203</td>\n",
              "    </tr>\n",
              "    <tr>\n",
              "      <th>1</th>\n",
              "      <td>96</td>\n",
              "    </tr>\n",
              "  </tbody>\n",
              "</table>\n",
              "</div><br><label><b>dtype:</b> int64</label>"
            ]
          },
          "metadata": {},
          "execution_count": 9
        }
      ]
    },
    {
      "cell_type": "code",
      "source": [
        "df.isna().sum()"
      ],
      "metadata": {
        "colab": {
          "base_uri": "https://localhost:8080/",
          "height": 460
        },
        "id": "kg-lZCGyldCP",
        "outputId": "dedc9162-a5a8-4f20-c77e-dbf6e9cd249c"
      },
      "execution_count": 10,
      "outputs": [
        {
          "output_type": "execute_result",
          "data": {
            "text/plain": [
              "age                         0\n",
              "anaemia                     0\n",
              "creatinine_phosphokinase    0\n",
              "diabetes                    0\n",
              "ejection_fraction           0\n",
              "high_blood_pressure         0\n",
              "platelets                   0\n",
              "serum_creatinine            0\n",
              "serum_sodium                0\n",
              "sex                         0\n",
              "smoking                     0\n",
              "time                        0\n",
              "dtype: int64"
            ],
            "text/html": [
              "<div>\n",
              "<style scoped>\n",
              "    .dataframe tbody tr th:only-of-type {\n",
              "        vertical-align: middle;\n",
              "    }\n",
              "\n",
              "    .dataframe tbody tr th {\n",
              "        vertical-align: top;\n",
              "    }\n",
              "\n",
              "    .dataframe thead th {\n",
              "        text-align: right;\n",
              "    }\n",
              "</style>\n",
              "<table border=\"1\" class=\"dataframe\">\n",
              "  <thead>\n",
              "    <tr style=\"text-align: right;\">\n",
              "      <th></th>\n",
              "      <th>0</th>\n",
              "    </tr>\n",
              "  </thead>\n",
              "  <tbody>\n",
              "    <tr>\n",
              "      <th>age</th>\n",
              "      <td>0</td>\n",
              "    </tr>\n",
              "    <tr>\n",
              "      <th>anaemia</th>\n",
              "      <td>0</td>\n",
              "    </tr>\n",
              "    <tr>\n",
              "      <th>creatinine_phosphokinase</th>\n",
              "      <td>0</td>\n",
              "    </tr>\n",
              "    <tr>\n",
              "      <th>diabetes</th>\n",
              "      <td>0</td>\n",
              "    </tr>\n",
              "    <tr>\n",
              "      <th>ejection_fraction</th>\n",
              "      <td>0</td>\n",
              "    </tr>\n",
              "    <tr>\n",
              "      <th>high_blood_pressure</th>\n",
              "      <td>0</td>\n",
              "    </tr>\n",
              "    <tr>\n",
              "      <th>platelets</th>\n",
              "      <td>0</td>\n",
              "    </tr>\n",
              "    <tr>\n",
              "      <th>serum_creatinine</th>\n",
              "      <td>0</td>\n",
              "    </tr>\n",
              "    <tr>\n",
              "      <th>serum_sodium</th>\n",
              "      <td>0</td>\n",
              "    </tr>\n",
              "    <tr>\n",
              "      <th>sex</th>\n",
              "      <td>0</td>\n",
              "    </tr>\n",
              "    <tr>\n",
              "      <th>smoking</th>\n",
              "      <td>0</td>\n",
              "    </tr>\n",
              "    <tr>\n",
              "      <th>time</th>\n",
              "      <td>0</td>\n",
              "    </tr>\n",
              "  </tbody>\n",
              "</table>\n",
              "</div><br><label><b>dtype:</b> int64</label>"
            ]
          },
          "metadata": {},
          "execution_count": 10
        }
      ]
    },
    {
      "cell_type": "code",
      "source": [
        "categ=['sex']\n",
        "cont=[]\n",
        "for col in df.columns:\n",
        "  if col not in categ:\n",
        "    cont.append(col)"
      ],
      "metadata": {
        "id": "GBBRcfdTlo70"
      },
      "execution_count": 11,
      "outputs": []
    },
    {
      "cell_type": "code",
      "source": [
        "cont"
      ],
      "metadata": {
        "colab": {
          "base_uri": "https://localhost:8080/"
        },
        "id": "genoSYSIlw7N",
        "outputId": "fbab1546-1da4-4886-d385-1cd20a419c6b"
      },
      "execution_count": 12,
      "outputs": [
        {
          "output_type": "execute_result",
          "data": {
            "text/plain": [
              "['age',\n",
              " 'anaemia',\n",
              " 'creatinine_phosphokinase',\n",
              " 'diabetes',\n",
              " 'ejection_fraction',\n",
              " 'high_blood_pressure',\n",
              " 'platelets',\n",
              " 'serum_creatinine',\n",
              " 'serum_sodium',\n",
              " 'smoking',\n",
              " 'time']"
            ]
          },
          "metadata": {},
          "execution_count": 12
        }
      ]
    },
    {
      "cell_type": "code",
      "source": [
        "# количество уникальных значений в каждом столбце\n",
        "for col in df.columns:\n",
        "  print('{} : {}'.format(col, len(df[col].unique())))"
      ],
      "metadata": {
        "colab": {
          "base_uri": "https://localhost:8080/"
        },
        "id": "g6JondQkl1xS",
        "outputId": "95dda43d-4250-41be-91a7-2cfdd089b643"
      },
      "execution_count": 13,
      "outputs": [
        {
          "output_type": "stream",
          "name": "stdout",
          "text": [
            "age : 47\n",
            "anaemia : 2\n",
            "creatinine_phosphokinase : 208\n",
            "diabetes : 2\n",
            "ejection_fraction : 17\n",
            "high_blood_pressure : 2\n",
            "platelets : 176\n",
            "serum_creatinine : 40\n",
            "serum_sodium : 27\n",
            "sex : 2\n",
            "smoking : 2\n",
            "time : 148\n"
          ]
        }
      ]
    },
    {
      "cell_type": "code",
      "source": [
        "for name in categ:\n",
        "    dummies = pd.get_dummies(df[name], prefix=name, drop_first=False)\n",
        "    # Переименовываем столбцы в sex_female и sex_male\n",
        "    dummies.columns = ['sex_female', 'sex_male']\n",
        "    # Преобразуем значения в 0 и 1\n",
        "    dummies = dummies.astype(int)\n",
        "    # Объединяем с оригинальным DataFrame\n",
        "    df = pd.concat([df, dummies], axis=1)\n",
        "\n",
        "# Удаляем исходный столбец\n",
        "df = df.drop(columns=categ)\n",
        "\n",
        "df.head()"
      ],
      "metadata": {
        "colab": {
          "base_uri": "https://localhost:8080/",
          "height": 226
        },
        "id": "1KCKsLSQqazj",
        "outputId": "b6e9cb1b-605d-49d0-828e-3f2c4bc1d901"
      },
      "execution_count": 14,
      "outputs": [
        {
          "output_type": "execute_result",
          "data": {
            "text/plain": [
              "    age  anaemia  creatinine_phosphokinase  diabetes  ejection_fraction  \\\n",
              "0  75.0        0                       582         0                 20   \n",
              "1  55.0        0                      7861         0                 38   \n",
              "2  65.0        0                       146         0                 20   \n",
              "3  50.0        1                       111         0                 20   \n",
              "4  65.0        1                       160         1                 20   \n",
              "\n",
              "   high_blood_pressure  platelets  serum_creatinine  serum_sodium  smoking  \\\n",
              "0                    1  265000.00               1.9           130        0   \n",
              "1                    0  263358.03               1.1           136        0   \n",
              "2                    0  162000.00               1.3           129        1   \n",
              "3                    0  210000.00               1.9           137        0   \n",
              "4                    0  327000.00               2.7           116        0   \n",
              "\n",
              "   time  sex_female  sex_male  \n",
              "0     4           0         1  \n",
              "1     6           0         1  \n",
              "2     7           0         1  \n",
              "3     7           0         1  \n",
              "4     8           1         0  "
            ],
            "text/html": [
              "\n",
              "  <div id=\"df-c059bd61-3b52-483a-9817-783c7a27ee6c\" class=\"colab-df-container\">\n",
              "    <div>\n",
              "<style scoped>\n",
              "    .dataframe tbody tr th:only-of-type {\n",
              "        vertical-align: middle;\n",
              "    }\n",
              "\n",
              "    .dataframe tbody tr th {\n",
              "        vertical-align: top;\n",
              "    }\n",
              "\n",
              "    .dataframe thead th {\n",
              "        text-align: right;\n",
              "    }\n",
              "</style>\n",
              "<table border=\"1\" class=\"dataframe\">\n",
              "  <thead>\n",
              "    <tr style=\"text-align: right;\">\n",
              "      <th></th>\n",
              "      <th>age</th>\n",
              "      <th>anaemia</th>\n",
              "      <th>creatinine_phosphokinase</th>\n",
              "      <th>diabetes</th>\n",
              "      <th>ejection_fraction</th>\n",
              "      <th>high_blood_pressure</th>\n",
              "      <th>platelets</th>\n",
              "      <th>serum_creatinine</th>\n",
              "      <th>serum_sodium</th>\n",
              "      <th>smoking</th>\n",
              "      <th>time</th>\n",
              "      <th>sex_female</th>\n",
              "      <th>sex_male</th>\n",
              "    </tr>\n",
              "  </thead>\n",
              "  <tbody>\n",
              "    <tr>\n",
              "      <th>0</th>\n",
              "      <td>75.0</td>\n",
              "      <td>0</td>\n",
              "      <td>582</td>\n",
              "      <td>0</td>\n",
              "      <td>20</td>\n",
              "      <td>1</td>\n",
              "      <td>265000.00</td>\n",
              "      <td>1.9</td>\n",
              "      <td>130</td>\n",
              "      <td>0</td>\n",
              "      <td>4</td>\n",
              "      <td>0</td>\n",
              "      <td>1</td>\n",
              "    </tr>\n",
              "    <tr>\n",
              "      <th>1</th>\n",
              "      <td>55.0</td>\n",
              "      <td>0</td>\n",
              "      <td>7861</td>\n",
              "      <td>0</td>\n",
              "      <td>38</td>\n",
              "      <td>0</td>\n",
              "      <td>263358.03</td>\n",
              "      <td>1.1</td>\n",
              "      <td>136</td>\n",
              "      <td>0</td>\n",
              "      <td>6</td>\n",
              "      <td>0</td>\n",
              "      <td>1</td>\n",
              "    </tr>\n",
              "    <tr>\n",
              "      <th>2</th>\n",
              "      <td>65.0</td>\n",
              "      <td>0</td>\n",
              "      <td>146</td>\n",
              "      <td>0</td>\n",
              "      <td>20</td>\n",
              "      <td>0</td>\n",
              "      <td>162000.00</td>\n",
              "      <td>1.3</td>\n",
              "      <td>129</td>\n",
              "      <td>1</td>\n",
              "      <td>7</td>\n",
              "      <td>0</td>\n",
              "      <td>1</td>\n",
              "    </tr>\n",
              "    <tr>\n",
              "      <th>3</th>\n",
              "      <td>50.0</td>\n",
              "      <td>1</td>\n",
              "      <td>111</td>\n",
              "      <td>0</td>\n",
              "      <td>20</td>\n",
              "      <td>0</td>\n",
              "      <td>210000.00</td>\n",
              "      <td>1.9</td>\n",
              "      <td>137</td>\n",
              "      <td>0</td>\n",
              "      <td>7</td>\n",
              "      <td>0</td>\n",
              "      <td>1</td>\n",
              "    </tr>\n",
              "    <tr>\n",
              "      <th>4</th>\n",
              "      <td>65.0</td>\n",
              "      <td>1</td>\n",
              "      <td>160</td>\n",
              "      <td>1</td>\n",
              "      <td>20</td>\n",
              "      <td>0</td>\n",
              "      <td>327000.00</td>\n",
              "      <td>2.7</td>\n",
              "      <td>116</td>\n",
              "      <td>0</td>\n",
              "      <td>8</td>\n",
              "      <td>1</td>\n",
              "      <td>0</td>\n",
              "    </tr>\n",
              "  </tbody>\n",
              "</table>\n",
              "</div>\n",
              "    <div class=\"colab-df-buttons\">\n",
              "\n",
              "  <div class=\"colab-df-container\">\n",
              "    <button class=\"colab-df-convert\" onclick=\"convertToInteractive('df-c059bd61-3b52-483a-9817-783c7a27ee6c')\"\n",
              "            title=\"Convert this dataframe to an interactive table.\"\n",
              "            style=\"display:none;\">\n",
              "\n",
              "  <svg xmlns=\"http://www.w3.org/2000/svg\" height=\"24px\" viewBox=\"0 -960 960 960\">\n",
              "    <path d=\"M120-120v-720h720v720H120Zm60-500h600v-160H180v160Zm220 220h160v-160H400v160Zm0 220h160v-160H400v160ZM180-400h160v-160H180v160Zm440 0h160v-160H620v160ZM180-180h160v-160H180v160Zm440 0h160v-160H620v160Z\"/>\n",
              "  </svg>\n",
              "    </button>\n",
              "\n",
              "  <style>\n",
              "    .colab-df-container {\n",
              "      display:flex;\n",
              "      gap: 12px;\n",
              "    }\n",
              "\n",
              "    .colab-df-convert {\n",
              "      background-color: #E8F0FE;\n",
              "      border: none;\n",
              "      border-radius: 50%;\n",
              "      cursor: pointer;\n",
              "      display: none;\n",
              "      fill: #1967D2;\n",
              "      height: 32px;\n",
              "      padding: 0 0 0 0;\n",
              "      width: 32px;\n",
              "    }\n",
              "\n",
              "    .colab-df-convert:hover {\n",
              "      background-color: #E2EBFA;\n",
              "      box-shadow: 0px 1px 2px rgba(60, 64, 67, 0.3), 0px 1px 3px 1px rgba(60, 64, 67, 0.15);\n",
              "      fill: #174EA6;\n",
              "    }\n",
              "\n",
              "    .colab-df-buttons div {\n",
              "      margin-bottom: 4px;\n",
              "    }\n",
              "\n",
              "    [theme=dark] .colab-df-convert {\n",
              "      background-color: #3B4455;\n",
              "      fill: #D2E3FC;\n",
              "    }\n",
              "\n",
              "    [theme=dark] .colab-df-convert:hover {\n",
              "      background-color: #434B5C;\n",
              "      box-shadow: 0px 1px 3px 1px rgba(0, 0, 0, 0.15);\n",
              "      filter: drop-shadow(0px 1px 2px rgba(0, 0, 0, 0.3));\n",
              "      fill: #FFFFFF;\n",
              "    }\n",
              "  </style>\n",
              "\n",
              "    <script>\n",
              "      const buttonEl =\n",
              "        document.querySelector('#df-c059bd61-3b52-483a-9817-783c7a27ee6c button.colab-df-convert');\n",
              "      buttonEl.style.display =\n",
              "        google.colab.kernel.accessAllowed ? 'block' : 'none';\n",
              "\n",
              "      async function convertToInteractive(key) {\n",
              "        const element = document.querySelector('#df-c059bd61-3b52-483a-9817-783c7a27ee6c');\n",
              "        const dataTable =\n",
              "          await google.colab.kernel.invokeFunction('convertToInteractive',\n",
              "                                                    [key], {});\n",
              "        if (!dataTable) return;\n",
              "\n",
              "        const docLinkHtml = 'Like what you see? Visit the ' +\n",
              "          '<a target=\"_blank\" href=https://colab.research.google.com/notebooks/data_table.ipynb>data table notebook</a>'\n",
              "          + ' to learn more about interactive tables.';\n",
              "        element.innerHTML = '';\n",
              "        dataTable['output_type'] = 'display_data';\n",
              "        await google.colab.output.renderOutput(dataTable, element);\n",
              "        const docLink = document.createElement('div');\n",
              "        docLink.innerHTML = docLinkHtml;\n",
              "        element.appendChild(docLink);\n",
              "      }\n",
              "    </script>\n",
              "  </div>\n",
              "\n",
              "\n",
              "<div id=\"df-848ae764-1f1b-4895-9c32-9377356ff7f5\">\n",
              "  <button class=\"colab-df-quickchart\" onclick=\"quickchart('df-848ae764-1f1b-4895-9c32-9377356ff7f5')\"\n",
              "            title=\"Suggest charts\"\n",
              "            style=\"display:none;\">\n",
              "\n",
              "<svg xmlns=\"http://www.w3.org/2000/svg\" height=\"24px\"viewBox=\"0 0 24 24\"\n",
              "     width=\"24px\">\n",
              "    <g>\n",
              "        <path d=\"M19 3H5c-1.1 0-2 .9-2 2v14c0 1.1.9 2 2 2h14c1.1 0 2-.9 2-2V5c0-1.1-.9-2-2-2zM9 17H7v-7h2v7zm4 0h-2V7h2v10zm4 0h-2v-4h2v4z\"/>\n",
              "    </g>\n",
              "</svg>\n",
              "  </button>\n",
              "\n",
              "<style>\n",
              "  .colab-df-quickchart {\n",
              "      --bg-color: #E8F0FE;\n",
              "      --fill-color: #1967D2;\n",
              "      --hover-bg-color: #E2EBFA;\n",
              "      --hover-fill-color: #174EA6;\n",
              "      --disabled-fill-color: #AAA;\n",
              "      --disabled-bg-color: #DDD;\n",
              "  }\n",
              "\n",
              "  [theme=dark] .colab-df-quickchart {\n",
              "      --bg-color: #3B4455;\n",
              "      --fill-color: #D2E3FC;\n",
              "      --hover-bg-color: #434B5C;\n",
              "      --hover-fill-color: #FFFFFF;\n",
              "      --disabled-bg-color: #3B4455;\n",
              "      --disabled-fill-color: #666;\n",
              "  }\n",
              "\n",
              "  .colab-df-quickchart {\n",
              "    background-color: var(--bg-color);\n",
              "    border: none;\n",
              "    border-radius: 50%;\n",
              "    cursor: pointer;\n",
              "    display: none;\n",
              "    fill: var(--fill-color);\n",
              "    height: 32px;\n",
              "    padding: 0;\n",
              "    width: 32px;\n",
              "  }\n",
              "\n",
              "  .colab-df-quickchart:hover {\n",
              "    background-color: var(--hover-bg-color);\n",
              "    box-shadow: 0 1px 2px rgba(60, 64, 67, 0.3), 0 1px 3px 1px rgba(60, 64, 67, 0.15);\n",
              "    fill: var(--button-hover-fill-color);\n",
              "  }\n",
              "\n",
              "  .colab-df-quickchart-complete:disabled,\n",
              "  .colab-df-quickchart-complete:disabled:hover {\n",
              "    background-color: var(--disabled-bg-color);\n",
              "    fill: var(--disabled-fill-color);\n",
              "    box-shadow: none;\n",
              "  }\n",
              "\n",
              "  .colab-df-spinner {\n",
              "    border: 2px solid var(--fill-color);\n",
              "    border-color: transparent;\n",
              "    border-bottom-color: var(--fill-color);\n",
              "    animation:\n",
              "      spin 1s steps(1) infinite;\n",
              "  }\n",
              "\n",
              "  @keyframes spin {\n",
              "    0% {\n",
              "      border-color: transparent;\n",
              "      border-bottom-color: var(--fill-color);\n",
              "      border-left-color: var(--fill-color);\n",
              "    }\n",
              "    20% {\n",
              "      border-color: transparent;\n",
              "      border-left-color: var(--fill-color);\n",
              "      border-top-color: var(--fill-color);\n",
              "    }\n",
              "    30% {\n",
              "      border-color: transparent;\n",
              "      border-left-color: var(--fill-color);\n",
              "      border-top-color: var(--fill-color);\n",
              "      border-right-color: var(--fill-color);\n",
              "    }\n",
              "    40% {\n",
              "      border-color: transparent;\n",
              "      border-right-color: var(--fill-color);\n",
              "      border-top-color: var(--fill-color);\n",
              "    }\n",
              "    60% {\n",
              "      border-color: transparent;\n",
              "      border-right-color: var(--fill-color);\n",
              "    }\n",
              "    80% {\n",
              "      border-color: transparent;\n",
              "      border-right-color: var(--fill-color);\n",
              "      border-bottom-color: var(--fill-color);\n",
              "    }\n",
              "    90% {\n",
              "      border-color: transparent;\n",
              "      border-bottom-color: var(--fill-color);\n",
              "    }\n",
              "  }\n",
              "</style>\n",
              "\n",
              "  <script>\n",
              "    async function quickchart(key) {\n",
              "      const quickchartButtonEl =\n",
              "        document.querySelector('#' + key + ' button');\n",
              "      quickchartButtonEl.disabled = true;  // To prevent multiple clicks.\n",
              "      quickchartButtonEl.classList.add('colab-df-spinner');\n",
              "      try {\n",
              "        const charts = await google.colab.kernel.invokeFunction(\n",
              "            'suggestCharts', [key], {});\n",
              "      } catch (error) {\n",
              "        console.error('Error during call to suggestCharts:', error);\n",
              "      }\n",
              "      quickchartButtonEl.classList.remove('colab-df-spinner');\n",
              "      quickchartButtonEl.classList.add('colab-df-quickchart-complete');\n",
              "    }\n",
              "    (() => {\n",
              "      let quickchartButtonEl =\n",
              "        document.querySelector('#df-848ae764-1f1b-4895-9c32-9377356ff7f5 button');\n",
              "      quickchartButtonEl.style.display =\n",
              "        google.colab.kernel.accessAllowed ? 'block' : 'none';\n",
              "    })();\n",
              "  </script>\n",
              "</div>\n",
              "    </div>\n",
              "  </div>\n"
            ],
            "application/vnd.google.colaboratory.intrinsic+json": {
              "type": "dataframe",
              "variable_name": "df",
              "summary": "{\n  \"name\": \"df\",\n  \"rows\": 299,\n  \"fields\": [\n    {\n      \"column\": \"age\",\n      \"properties\": {\n        \"dtype\": \"number\",\n        \"std\": 11.894809074044478,\n        \"min\": 40.0,\n        \"max\": 95.0,\n        \"num_unique_values\": 47,\n        \"samples\": [\n          79.0,\n          40.0,\n          67.0\n        ],\n        \"semantic_type\": \"\",\n        \"description\": \"\"\n      }\n    },\n    {\n      \"column\": \"anaemia\",\n      \"properties\": {\n        \"dtype\": \"number\",\n        \"std\": 0,\n        \"min\": 0,\n        \"max\": 1,\n        \"num_unique_values\": 2,\n        \"samples\": [\n          1,\n          0\n        ],\n        \"semantic_type\": \"\",\n        \"description\": \"\"\n      }\n    },\n    {\n      \"column\": \"creatinine_phosphokinase\",\n      \"properties\": {\n        \"dtype\": \"number\",\n        \"std\": 970,\n        \"min\": 23,\n        \"max\": 7861,\n        \"num_unique_values\": 208,\n        \"samples\": [\n          86,\n          379\n        ],\n        \"semantic_type\": \"\",\n        \"description\": \"\"\n      }\n    },\n    {\n      \"column\": \"diabetes\",\n      \"properties\": {\n        \"dtype\": \"number\",\n        \"std\": 0,\n        \"min\": 0,\n        \"max\": 1,\n        \"num_unique_values\": 2,\n        \"samples\": [\n          1,\n          0\n        ],\n        \"semantic_type\": \"\",\n        \"description\": \"\"\n      }\n    },\n    {\n      \"column\": \"ejection_fraction\",\n      \"properties\": {\n        \"dtype\": \"number\",\n        \"std\": 11,\n        \"min\": 14,\n        \"max\": 80,\n        \"num_unique_values\": 17,\n        \"samples\": [\n          20,\n          38\n        ],\n        \"semantic_type\": \"\",\n        \"description\": \"\"\n      }\n    },\n    {\n      \"column\": \"high_blood_pressure\",\n      \"properties\": {\n        \"dtype\": \"number\",\n        \"std\": 0,\n        \"min\": 0,\n        \"max\": 1,\n        \"num_unique_values\": 2,\n        \"samples\": [\n          0,\n          1\n        ],\n        \"semantic_type\": \"\",\n        \"description\": \"\"\n      }\n    },\n    {\n      \"column\": \"platelets\",\n      \"properties\": {\n        \"dtype\": \"number\",\n        \"std\": 97804.23686859828,\n        \"min\": 25100.0,\n        \"max\": 850000.0,\n        \"num_unique_values\": 176,\n        \"samples\": [\n          297000.0,\n          255000.0\n        ],\n        \"semantic_type\": \"\",\n        \"description\": \"\"\n      }\n    },\n    {\n      \"column\": \"serum_creatinine\",\n      \"properties\": {\n        \"dtype\": \"number\",\n        \"std\": 1.034510064089853,\n        \"min\": 0.5,\n        \"max\": 9.4,\n        \"num_unique_values\": 40,\n        \"samples\": [\n          4.4,\n          3.5\n        ],\n        \"semantic_type\": \"\",\n        \"description\": \"\"\n      }\n    },\n    {\n      \"column\": \"serum_sodium\",\n      \"properties\": {\n        \"dtype\": \"number\",\n        \"std\": 4,\n        \"min\": 113,\n        \"max\": 148,\n        \"num_unique_values\": 27,\n        \"samples\": [\n          133,\n          134\n        ],\n        \"semantic_type\": \"\",\n        \"description\": \"\"\n      }\n    },\n    {\n      \"column\": \"smoking\",\n      \"properties\": {\n        \"dtype\": \"number\",\n        \"std\": 0,\n        \"min\": 0,\n        \"max\": 1,\n        \"num_unique_values\": 2,\n        \"samples\": [\n          1,\n          0\n        ],\n        \"semantic_type\": \"\",\n        \"description\": \"\"\n      }\n    },\n    {\n      \"column\": \"time\",\n      \"properties\": {\n        \"dtype\": \"number\",\n        \"std\": 77,\n        \"min\": 4,\n        \"max\": 285,\n        \"num_unique_values\": 148,\n        \"samples\": [\n          215,\n          79\n        ],\n        \"semantic_type\": \"\",\n        \"description\": \"\"\n      }\n    },\n    {\n      \"column\": \"sex_female\",\n      \"properties\": {\n        \"dtype\": \"number\",\n        \"std\": 0,\n        \"min\": 0,\n        \"max\": 1,\n        \"num_unique_values\": 2,\n        \"samples\": [\n          1,\n          0\n        ],\n        \"semantic_type\": \"\",\n        \"description\": \"\"\n      }\n    },\n    {\n      \"column\": \"sex_male\",\n      \"properties\": {\n        \"dtype\": \"number\",\n        \"std\": 0,\n        \"min\": 0,\n        \"max\": 1,\n        \"num_unique_values\": 2,\n        \"samples\": [\n          0,\n          1\n        ],\n        \"semantic_type\": \"\",\n        \"description\": \"\"\n      }\n    }\n  ]\n}"
            }
          },
          "metadata": {},
          "execution_count": 14
        }
      ]
    },
    {
      "cell_type": "code",
      "source": [
        "# seaborn - библиотека для визиализации числовых данных\n",
        "import seaborn as sns\n",
        "# создаем пустую фигуру размеров 20х10\n",
        "fig=plt.figure(figsize=(20,10))\n",
        "\n",
        "# цикл по всем числовым признакам (список cont)\n",
        "# enumerate - добавляет индекс (позицию) текущего признака\n",
        "for i, name in enumerate(cont):\n",
        "    # разбиваем фигуру на 1 строку и len(cont) столбцов\n",
        "    # i+1 - определяет позицию текущего графика\n",
        "    ax=fig.add_subplot(1,len(cont), i+1)\n",
        "    # строит boxplot (ящик с усами) для признака name по оси y\n",
        "    sns.boxplot(y=df[name], ax=ax)\n",
        "# подгоняем расположение графиков, чтобы они не накладывались друг на друга\n",
        "fig.tight_layout()"
      ],
      "metadata": {
        "colab": {
          "base_uri": "https://localhost:8080/",
          "height": 641
        },
        "id": "5ZGPucRjsXWA",
        "outputId": "68daf44b-9a8f-49a4-fe35-7b537292f514"
      },
      "execution_count": 15,
      "outputs": [
        {
          "output_type": "display_data",
          "data": {
            "text/plain": [
              "<Figure size 2000x1000 with 11 Axes>"
            ],
            "image/png": "[encoded data removed]"
          },
          "metadata": {}
        }
      ]
    },
    {
      "cell_type": "code",
      "source": [
        "# маштабирование данных с использованием медианы и межквартильного размаха (IQR)\n",
        "from sklearn.preprocessing import RobustScaler\n",
        "# создаем объект RobustScaler()\n",
        "rs = RobustScaler()\n",
        "# fit - рассчитывает медиану и межквартильный размах (IQR) по каждому признаку\n",
        "# transform - масштабирует данные используя формулу X = (X - median(X)) / IQR(X)\n",
        "df[cont]=rs.fit_transform(df[cont])\n",
        "df.head()\n",
        "# привели все числовые данные к одному диапазону для сравнения"
      ],
      "metadata": {
        "colab": {
          "base_uri": "https://localhost:8080/",
          "height": 226
        },
        "id": "SBqRvOElvsAZ",
        "outputId": "8a0350a8-8fe5-4f1a-9cbc-88683081b30f"
      },
      "execution_count": 16,
      "outputs": [
        {
          "output_type": "execute_result",
          "data": {
            "text/plain": [
              "        age  anaemia  creatinine_phosphokinase  diabetes  ejection_fraction  \\\n",
              "0  0.789474      0.0                  0.713212       0.0               -1.2   \n",
              "1 -0.263158      0.0                 16.350161       0.0                0.0   \n",
              "2  0.263158      0.0                 -0.223416       0.0               -1.2   \n",
              "3 -0.526316      1.0                 -0.298604       0.0               -1.2   \n",
              "4  0.263158      1.0                 -0.193340       1.0               -1.2   \n",
              "\n",
              "   high_blood_pressure  platelets  serum_creatinine  serum_sodium  smoking  \\\n",
              "0                  1.0   0.032967               1.6     -1.166667      0.0   \n",
              "1                  0.0   0.014923               0.0     -0.166667      0.0   \n",
              "2                  0.0  -1.098901               0.4     -1.333333      1.0   \n",
              "3                  0.0  -0.571429               1.6      0.000000      0.0   \n",
              "4                  0.0   0.714286               3.2     -3.500000      0.0   \n",
              "\n",
              "       time  sex_female  sex_male  \n",
              "0 -0.853846           0         1  \n",
              "1 -0.838462           0         1  \n",
              "2 -0.830769           0         1  \n",
              "3 -0.830769           0         1  \n",
              "4 -0.823077           1         0  "
            ],
            "text/html": [
              "\n",
              "  <div id=\"df-1d55d3fe-bafc-49a9-b593-96b2029412b4\" class=\"colab-df-container\">\n",
              "    <div>\n",
              "<style scoped>\n",
              "    .dataframe tbody tr th:only-of-type {\n",
              "        vertical-align: middle;\n",
              "    }\n",
              "\n",
              "    .dataframe tbody tr th {\n",
              "        vertical-align: top;\n",
              "    }\n",
              "\n",
              "    .dataframe thead th {\n",
              "        text-align: right;\n",
              "    }\n",
              "</style>\n",
              "<table border=\"1\" class=\"dataframe\">\n",
              "  <thead>\n",
              "    <tr style=\"text-align: right;\">\n",
              "      <th></th>\n",
              "      <th>age</th>\n",
              "      <th>anaemia</th>\n",
              "      <th>creatinine_phosphokinase</th>\n",
              "      <th>diabetes</th>\n",
              "      <th>ejection_fraction</th>\n",
              "      <th>high_blood_pressure</th>\n",
              "      <th>platelets</th>\n",
              "      <th>serum_creatinine</th>\n",
              "      <th>serum_sodium</th>\n",
              "      <th>smoking</th>\n",
              "      <th>time</th>\n",
              "      <th>sex_female</th>\n",
              "      <th>sex_male</th>\n",
              "    </tr>\n",
              "  </thead>\n",
              "  <tbody>\n",
              "    <tr>\n",
              "      <th>0</th>\n",
              "      <td>0.789474</td>\n",
              "      <td>0.0</td>\n",
              "      <td>0.713212</td>\n",
              "      <td>0.0</td>\n",
              "      <td>-1.2</td>\n",
              "      <td>1.0</td>\n",
              "      <td>0.032967</td>\n",
              "      <td>1.6</td>\n",
              "      <td>-1.166667</td>\n",
              "      <td>0.0</td>\n",
              "      <td>-0.853846</td>\n",
              "      <td>0</td>\n",
              "      <td>1</td>\n",
              "    </tr>\n",
              "    <tr>\n",
              "      <th>1</th>\n",
              "      <td>-0.263158</td>\n",
              "      <td>0.0</td>\n",
              "      <td>16.350161</td>\n",
              "      <td>0.0</td>\n",
              "      <td>0.0</td>\n",
              "      <td>0.0</td>\n",
              "      <td>0.014923</td>\n",
              "      <td>0.0</td>\n",
              "      <td>-0.166667</td>\n",
              "      <td>0.0</td>\n",
              "      <td>-0.838462</td>\n",
              "      <td>0</td>\n",
              "      <td>1</td>\n",
              "    </tr>\n",
              "    <tr>\n",
              "      <th>2</th>\n",
              "      <td>0.263158</td>\n",
              "      <td>0.0</td>\n",
              "      <td>-0.223416</td>\n",
              "      <td>0.0</td>\n",
              "      <td>-1.2</td>\n",
              "      <td>0.0</td>\n",
              "      <td>-1.098901</td>\n",
              "      <td>0.4</td>\n",
              "      <td>-1.333333</td>\n",
              "      <td>1.0</td>\n",
              "      <td>-0.830769</td>\n",
              "      <td>0</td>\n",
              "      <td>1</td>\n",
              "    </tr>\n",
              "    <tr>\n",
              "      <th>3</th>\n",
              "      <td>-0.526316</td>\n",
              "      <td>1.0</td>\n",
              "      <td>-0.298604</td>\n",
              "      <td>0.0</td>\n",
              "      <td>-1.2</td>\n",
              "      <td>0.0</td>\n",
              "      <td>-0.571429</td>\n",
              "      <td>1.6</td>\n",
              "      <td>0.000000</td>\n",
              "      <td>0.0</td>\n",
              "      <td>-0.830769</td>\n",
              "      <td>0</td>\n",
              "      <td>1</td>\n",
              "    </tr>\n",
              "    <tr>\n",
              "      <th>4</th>\n",
              "      <td>0.263158</td>\n",
              "      <td>1.0</td>\n",
              "      <td>-0.193340</td>\n",
              "      <td>1.0</td>\n",
              "      <td>-1.2</td>\n",
              "      <td>0.0</td>\n",
              "      <td>0.714286</td>\n",
              "      <td>3.2</td>\n",
              "      <td>-3.500000</td>\n",
              "      <td>0.0</td>\n",
              "      <td>-0.823077</td>\n",
              "      <td>1</td>\n",
              "      <td>0</td>\n",
              "    </tr>\n",
              "  </tbody>\n",
              "</table>\n",
              "</div>\n",
              "    <div class=\"colab-df-buttons\">\n",
              "\n",
              "  <div class=\"colab-df-container\">\n",
              "    <button class=\"colab-df-convert\" onclick=\"convertToInteractive('df-1d55d3fe-bafc-49a9-b593-96b2029412b4')\"\n",
              "            title=\"Convert this dataframe to an interactive table.\"\n",
              "            style=\"display:none;\">\n",
              "\n",
              "  <svg xmlns=\"http://www.w3.org/2000/svg\" height=\"24px\" viewBox=\"0 -960 960 960\">\n",
              "    <path d=\"M120-120v-720h720v720H120Zm60-500h600v-160H180v160Zm220 220h160v-160H400v160Zm0 220h160v-160H400v160ZM180-400h160v-160H180v160Zm440 0h160v-160H620v160ZM180-180h160v-160H180v160Zm440 0h160v-160H620v160Z\"/>\n",
              "  </svg>\n",
              "    </button>\n",
              "\n",
              "  <style>\n",
              "    .colab-df-container {\n",
              "      display:flex;\n",
              "      gap: 12px;\n",
              "    }\n",
              "\n",
              "    .colab-df-convert {\n",
              "      background-color: #E8F0FE;\n",
              "      border: none;\n",
              "      border-radius: 50%;\n",
              "      cursor: pointer;\n",
              "      display: none;\n",
              "      fill: #1967D2;\n",
              "      height: 32px;\n",
              "      padding: 0 0 0 0;\n",
              "      width: 32px;\n",
              "    }\n",
              "\n",
              "    .colab-df-convert:hover {\n",
              "      background-color: #E2EBFA;\n",
              "      box-shadow: 0px 1px 2px rgba(60, 64, 67, 0.3), 0px 1px 3px 1px rgba(60, 64, 67, 0.15);\n",
              "      fill: #174EA6;\n",
              "    }\n",
              "\n",
              "    .colab-df-buttons div {\n",
              "      margin-bottom: 4px;\n",
              "    }\n",
              "\n",
              "    [theme=dark] .colab-df-convert {\n",
              "      background-color: #3B4455;\n",
              "      fill: #D2E3FC;\n",
              "    }\n",
              "\n",
              "    [theme=dark] .colab-df-convert:hover {\n",
              "      background-color: #434B5C;\n",
              "      box-shadow: 0px 1px 3px 1px rgba(0, 0, 0, 0.15);\n",
              "      filter: drop-shadow(0px 1px 2px rgba(0, 0, 0, 0.3));\n",
              "      fill: #FFFFFF;\n",
              "    }\n",
              "  </style>\n",
              "\n",
              "    <script>\n",
              "      const buttonEl =\n",
              "        document.querySelector('#df-1d55d3fe-bafc-49a9-b593-96b2029412b4 button.colab-df-convert');\n",
              "      buttonEl.style.display =\n",
              "        google.colab.kernel.accessAllowed ? 'block' : 'none';\n",
              "\n",
              "      async function convertToInteractive(key) {\n",
              "        const element = document.querySelector('#df-1d55d3fe-bafc-49a9-b593-96b2029412b4');\n",
              "        const dataTable =\n",
              "          await google.colab.kernel.invokeFunction('convertToInteractive',\n",
              "                                                    [key], {});\n",
              "        if (!dataTable) return;\n",
              "\n",
              "        const docLinkHtml = 'Like what you see? Visit the ' +\n",
              "          '<a target=\"_blank\" href=https://colab.research.google.com/notebooks/data_table.ipynb>data table notebook</a>'\n",
              "          + ' to learn more about interactive tables.';\n",
              "        element.innerHTML = '';\n",
              "        dataTable['output_type'] = 'display_data';\n",
              "        await google.colab.output.renderOutput(dataTable, element);\n",
              "        const docLink = document.createElement('div');\n",
              "        docLink.innerHTML = docLinkHtml;\n",
              "        element.appendChild(docLink);\n",
              "      }\n",
              "    </script>\n",
              "  </div>\n",
              "\n",
              "\n",
              "<div id=\"df-0122d5f7-5a2c-4b08-86a9-70b8cd89e147\">\n",
              "  <button class=\"colab-df-quickchart\" onclick=\"quickchart('df-0122d5f7-5a2c-4b08-86a9-70b8cd89e147')\"\n",
              "            title=\"Suggest charts\"\n",
              "            style=\"display:none;\">\n",
              "\n",
              "<svg xmlns=\"http://www.w3.org/2000/svg\" height=\"24px\"viewBox=\"0 0 24 24\"\n",
              "     width=\"24px\">\n",
              "    <g>\n",
              "        <path d=\"M19 3H5c-1.1 0-2 .9-2 2v14c0 1.1.9 2 2 2h14c1.1 0 2-.9 2-2V5c0-1.1-.9-2-2-2zM9 17H7v-7h2v7zm4 0h-2V7h2v10zm4 0h-2v-4h2v4z\"/>\n",
              "    </g>\n",
              "</svg>\n",
              "  </button>\n",
              "\n",
              "<style>\n",
              "  .colab-df-quickchart {\n",
              "      --bg-color: #E8F0FE;\n",
              "      --fill-color: #1967D2;\n",
              "      --hover-bg-color: #E2EBFA;\n",
              "      --hover-fill-color: #174EA6;\n",
              "      --disabled-fill-color: #AAA;\n",
              "      --disabled-bg-color: #DDD;\n",
              "  }\n",
              "\n",
              "  [theme=dark] .colab-df-quickchart {\n",
              "      --bg-color: #3B4455;\n",
              "      --fill-color: #D2E3FC;\n",
              "      --hover-bg-color: #434B5C;\n",
              "      --hover-fill-color: #FFFFFF;\n",
              "      --disabled-bg-color: #3B4455;\n",
              "      --disabled-fill-color: #666;\n",
              "  }\n",
              "\n",
              "  .colab-df-quickchart {\n",
              "    background-color: var(--bg-color);\n",
              "    border: none;\n",
              "    border-radius: 50%;\n",
              "    cursor: pointer;\n",
              "    display: none;\n",
              "    fill: var(--fill-color);\n",
              "    height: 32px;\n",
              "    padding: 0;\n",
              "    width: 32px;\n",
              "  }\n",
              "\n",
              "  .colab-df-quickchart:hover {\n",
              "    background-color: var(--hover-bg-color);\n",
              "    box-shadow: 0 1px 2px rgba(60, 64, 67, 0.3), 0 1px 3px 1px rgba(60, 64, 67, 0.15);\n",
              "    fill: var(--button-hover-fill-color);\n",
              "  }\n",
              "\n",
              "  .colab-df-quickchart-complete:disabled,\n",
              "  .colab-df-quickchart-complete:disabled:hover {\n",
              "    background-color: var(--disabled-bg-color);\n",
              "    fill: var(--disabled-fill-color);\n",
              "    box-shadow: none;\n",
              "  }\n",
              "\n",
              "  .colab-df-spinner {\n",
              "    border: 2px solid var(--fill-color);\n",
              "    border-color: transparent;\n",
              "    border-bottom-color: var(--fill-color);\n",
              "    animation:\n",
              "      spin 1s steps(1) infinite;\n",
              "  }\n",
              "\n",
              "  @keyframes spin {\n",
              "    0% {\n",
              "      border-color: transparent;\n",
              "      border-bottom-color: var(--fill-color);\n",
              "      border-left-color: var(--fill-color);\n",
              "    }\n",
              "    20% {\n",
              "      border-color: transparent;\n",
              "      border-left-color: var(--fill-color);\n",
              "      border-top-color: var(--fill-color);\n",
              "    }\n",
              "    30% {\n",
              "      border-color: transparent;\n",
              "      border-left-color: var(--fill-color);\n",
              "      border-top-color: var(--fill-color);\n",
              "      border-right-color: var(--fill-color);\n",
              "    }\n",
              "    40% {\n",
              "      border-color: transparent;\n",
              "      border-right-color: var(--fill-color);\n",
              "      border-top-color: var(--fill-color);\n",
              "    }\n",
              "    60% {\n",
              "      border-color: transparent;\n",
              "      border-right-color: var(--fill-color);\n",
              "    }\n",
              "    80% {\n",
              "      border-color: transparent;\n",
              "      border-right-color: var(--fill-color);\n",
              "      border-bottom-color: var(--fill-color);\n",
              "    }\n",
              "    90% {\n",
              "      border-color: transparent;\n",
              "      border-bottom-color: var(--fill-color);\n",
              "    }\n",
              "  }\n",
              "</style>\n",
              "\n",
              "  <script>\n",
              "    async function quickchart(key) {\n",
              "      const quickchartButtonEl =\n",
              "        document.querySelector('#' + key + ' button');\n",
              "      quickchartButtonEl.disabled = true;  // To prevent multiple clicks.\n",
              "      quickchartButtonEl.classList.add('colab-df-spinner');\n",
              "      try {\n",
              "        const charts = await google.colab.kernel.invokeFunction(\n",
              "            'suggestCharts', [key], {});\n",
              "      } catch (error) {\n",
              "        console.error('Error during call to suggestCharts:', error);\n",
              "      }\n",
              "      quickchartButtonEl.classList.remove('colab-df-spinner');\n",
              "      quickchartButtonEl.classList.add('colab-df-quickchart-complete');\n",
              "    }\n",
              "    (() => {\n",
              "      let quickchartButtonEl =\n",
              "        document.querySelector('#df-0122d5f7-5a2c-4b08-86a9-70b8cd89e147 button');\n",
              "      quickchartButtonEl.style.display =\n",
              "        google.colab.kernel.accessAllowed ? 'block' : 'none';\n",
              "    })();\n",
              "  </script>\n",
              "</div>\n",
              "    </div>\n",
              "  </div>\n"
            ],
            "application/vnd.google.colaboratory.intrinsic+json": {
              "type": "dataframe",
              "summary": "{\n  \"name\": \"# \\u043f\\u0440\\u0438\\u0432\\u0435\\u043b\\u0438 \\u0432\\u0441\\u0435 \\u0447\\u0438\\u0441\\u043b\\u043e\\u0432\\u044b\\u0435 \\u0434\\u0430\\u043d\\u043d\\u044b\\u0435 \\u043a \\u043e\\u0434\\u043d\\u043e\\u043c\\u0443 \\u0434\\u0438\\u0430\\u043f\\u0430\\u0437\\u043e\\u043d\\u0443 \\u0434\\u043b\\u044f \\u0441\\u0440\\u0430\\u0432\\u043d\\u0435\\u043d\\u0438\\u044f\",\n  \"rows\": 5,\n  \"fields\": [\n    {\n      \"column\": \"age\",\n      \"properties\": {\n        \"dtype\": \"number\",\n        \"std\": 0.512989176042577,\n        \"min\": -0.5263157894736842,\n        \"max\": 0.7894736842105263,\n        \"num_unique_values\": 4,\n        \"samples\": [\n          -0.2631578947368421,\n          -0.5263157894736842,\n          0.7894736842105263\n        ],\n        \"semantic_type\": \"\",\n        \"description\": \"\"\n      }\n    },\n    {\n      \"column\": \"anaemia\",\n      \"properties\": {\n        \"dtype\": \"number\",\n        \"std\": 0.5477225575051662,\n        \"min\": 0.0,\n        \"max\": 1.0,\n        \"num_unique_values\": 2,\n        \"samples\": [\n          1.0,\n          0.0\n        ],\n        \"semantic_type\": \"\",\n        \"description\": \"\"\n      }\n    },\n    {\n      \"column\": \"creatinine_phosphokinase\",\n      \"properties\": {\n        \"dtype\": \"number\",\n        \"std\": 7.323957152896586,\n        \"min\": -0.29860365198711064,\n        \"max\": 16.35016111707841,\n        \"num_unique_values\": 5,\n        \"samples\": [\n          16.35016111707841,\n          -0.1933404940923738\n        ],\n        \"semantic_type\": \"\",\n        \"description\": \"\"\n      }\n    },\n    {\n      \"column\": \"diabetes\",\n      \"properties\": {\n        \"dtype\": \"number\",\n        \"std\": 0.447213595499958,\n        \"min\": 0.0,\n        \"max\": 1.0,\n        \"num_unique_values\": 2,\n        \"samples\": [\n          1.0,\n          0.0\n        ],\n        \"semantic_type\": \"\",\n        \"description\": \"\"\n      }\n    },\n    {\n      \"column\": \"ejection_fraction\",\n      \"properties\": {\n        \"dtype\": \"number\",\n        \"std\": 0.5366563145999496,\n        \"min\": -1.2,\n        \"max\": 0.0,\n        \"num_unique_values\": 2,\n        \"samples\": [\n          0.0,\n          -1.2\n        ],\n        \"semantic_type\": \"\",\n        \"description\": \"\"\n      }\n    },\n    {\n      \"column\": \"high_blood_pressure\",\n      \"properties\": {\n        \"dtype\": \"number\",\n        \"std\": 0.44721359549995804,\n        \"min\": 0.0,\n        \"max\": 1.0,\n        \"num_unique_values\": 2,\n        \"samples\": [\n          0.0,\n          1.0\n        ],\n        \"semantic_type\": \"\",\n        \"description\": \"\"\n      }\n    },\n    {\n      \"column\": \"platelets\",\n      \"properties\": {\n        \"dtype\": \"number\",\n        \"std\": 0.6856893047274254,\n        \"min\": -1.098901098901099,\n        \"max\": 0.7142857142857143,\n        \"num_unique_values\": 5,\n        \"samples\": [\n          0.0149234065934069,\n          0.7142857142857143\n        ],\n        \"semantic_type\": \"\",\n        \"description\": \"\"\n      }\n    },\n    {\n      \"column\": \"serum_creatinine\",\n      \"properties\": {\n        \"dtype\": \"number\",\n        \"std\": 1.2521980673998827,\n        \"min\": 0.0,\n        \"max\": 3.200000000000001,\n        \"num_unique_values\": 4,\n        \"samples\": [\n          0.0,\n          3.200000000000001\n        ],\n        \"semantic_type\": \"\",\n        \"description\": \"\"\n      }\n    },\n    {\n      \"column\": \"serum_sodium\",\n      \"properties\": {\n        \"dtype\": \"number\",\n        \"std\": 1.3974182544169722,\n        \"min\": -3.5,\n        \"max\": 0.0,\n        \"num_unique_values\": 5,\n        \"samples\": [\n          -0.16666666666666666,\n          -3.5\n        ],\n        \"semantic_type\": \"\",\n        \"description\": \"\"\n      }\n    },\n    {\n      \"column\": \"smoking\",\n      \"properties\": {\n        \"dtype\": \"number\",\n        \"std\": 0.44721359549995804,\n        \"min\": 0.0,\n        \"max\": 1.0,\n        \"num_unique_values\": 2,\n        \"samples\": [\n          1.0,\n          0.0\n        ],\n        \"semantic_type\": \"\",\n        \"description\": \"\"\n      }\n    },\n    {\n      \"column\": \"time\",\n      \"properties\": {\n        \"dtype\": \"number\",\n        \"std\": 0.011665962221617759,\n        \"min\": -0.8538461538461538,\n        \"max\": -0.823076923076923,\n        \"num_unique_values\": 4,\n        \"samples\": [\n          -0.8384615384615385,\n          -0.823076923076923\n        ],\n        \"semantic_type\": \"\",\n        \"description\": \"\"\n      }\n    },\n    {\n      \"column\": \"sex_female\",\n      \"properties\": {\n        \"dtype\": \"number\",\n        \"std\": 0,\n        \"min\": 0,\n        \"max\": 1,\n        \"num_unique_values\": 2,\n        \"samples\": [\n          1,\n          0\n        ],\n        \"semantic_type\": \"\",\n        \"description\": \"\"\n      }\n    },\n    {\n      \"column\": \"sex_male\",\n      \"properties\": {\n        \"dtype\": \"number\",\n        \"std\": 0,\n        \"min\": 0,\n        \"max\": 1,\n        \"num_unique_values\": 2,\n        \"samples\": [\n          0,\n          1\n        ],\n        \"semantic_type\": \"\",\n        \"description\": \"\"\n      }\n    }\n  ]\n}"
            }
          },
          "metadata": {},
          "execution_count": 16
        }
      ]
    },
    {
      "cell_type": "code",
      "source": [
        "# выполняем обратное преобразование для проверки корректности масштабирования\n",
        "rs.inverse_transform(df[cont])[:5,:]"
      ],
      "metadata": {
        "colab": {
          "base_uri": "https://localhost:8080/"
        },
        "id": "Zv-HaSYRwAPN",
        "outputId": "47f8fb7f-80d6-4a47-a5f1-65b7725e559c"
      },
      "execution_count": 17,
      "outputs": [
        {
          "output_type": "execute_result",
          "data": {
            "text/plain": [
              "array([[7.5000000e+01, 0.0000000e+00, 5.8200000e+02, 0.0000000e+00,\n",
              "        2.0000000e+01, 1.0000000e+00, 2.6500000e+05, 1.9000000e+00,\n",
              "        1.3000000e+02, 0.0000000e+00, 4.0000000e+00],\n",
              "       [5.5000000e+01, 0.0000000e+00, 7.8610000e+03, 0.0000000e+00,\n",
              "        3.8000000e+01, 0.0000000e+00, 2.6335803e+05, 1.1000000e+00,\n",
              "        1.3600000e+02, 0.0000000e+00, 6.0000000e+00],\n",
              "       [6.5000000e+01, 0.0000000e+00, 1.4600000e+02, 0.0000000e+00,\n",
              "        2.0000000e+01, 0.0000000e+00, 1.6200000e+05, 1.3000000e+00,\n",
              "        1.2900000e+02, 1.0000000e+00, 7.0000000e+00],\n",
              "       [5.0000000e+01, 1.0000000e+00, 1.1100000e+02, 0.0000000e+00,\n",
              "        2.0000000e+01, 0.0000000e+00, 2.1000000e+05, 1.9000000e+00,\n",
              "        1.3700000e+02, 0.0000000e+00, 7.0000000e+00],\n",
              "       [6.5000000e+01, 1.0000000e+00, 1.6000000e+02, 1.0000000e+00,\n",
              "        2.0000000e+01, 0.0000000e+00, 3.2700000e+05, 2.7000000e+00,\n",
              "        1.1600000e+02, 0.0000000e+00, 8.0000000e+00]])"
            ]
          },
          "metadata": {},
          "execution_count": 17
        }
      ]
    },
    {
      "cell_type": "code",
      "source": [
        "# повторяет код как был выше, только уже с масштабированными даными\n",
        "import seaborn as sns\n",
        "fig=plt.figure(figsize=(20,10))\n",
        "\n",
        "for i, name in enumerate(cont):\n",
        "    ax=fig.add_subplot(1,len(cont), i+1)\n",
        "    sns.boxplot(y=df[name], ax=ax)\n",
        "\n",
        "fig.tight_layout()"
      ],
      "metadata": {
        "colab": {
          "base_uri": "https://localhost:8080/",
          "height": 641
        },
        "id": "kIG8dGWQwEVG",
        "outputId": "0d464c06-04fa-4695-a976-8c4181fb4cd9"
      },
      "execution_count": 18,
      "outputs": [
        {
          "output_type": "display_data",
          "data": {
            "text/plain": [
              "<Figure size 2000x1000 with 11 Axes>"
            ],
            "image/png": "[encoded data removed]"
          },
          "metadata": {}
        }
      ]
    },
    {
      "cell_type": "code",
      "source": [
        "# Корреляция между числовыми признаками\n",
        "\n",
        "# df[cont].corr() - вычисляем корреляционную матрицу для числовых признаков\n",
        "corr = df[cont].corr()\n",
        "# создаем цветовую палитру для визуализации\n",
        "cmap = sns.diverging_palette(5, 250, as_cmap=True)\n",
        "\n",
        "# функция для улучшения стиля таблицы (шрифт, размеры)\n",
        "def magnify():\n",
        "    return [dict(selector=\"th\",\n",
        "                 props=[(\"font-size\", \"7pt\")]),\n",
        "            dict(selector=\"td\",\n",
        "                 props=[('padding', \"0em 0em\")]),\n",
        "            dict(selector=\"th:hover\",\n",
        "                 props=[(\"font-size\", \"12pt\")]),\n",
        "            dict(selector=\"tr:hover td:hover\",\n",
        "                 props=[('max-width', '200px'),\n",
        "                        ('font-size', '12pt')])\n",
        "]\n",
        "\n",
        "# добавляем цветовой градиент к таблице на основе значений корреляции\n",
        "corr.style.background_gradient(cmap, axis=1)\\\n",
        "    .format(precision=3)\\\n",
        "    .set_properties(**{'max-width': '80px', 'font-size': '12pt'})\\\n",
        "    .set_caption(\"Корреляция непрерывных признаков\")\\\n",
        "    .set_table_styles(magnify())"
      ],
      "metadata": {
        "colab": {
          "base_uri": "https://localhost:8080/",
          "height": 286
        },
        "id": "DXgMzEJiwN0G",
        "outputId": "874f7d81-b8d0-481a-9b84-1ab57c882a85"
      },
      "execution_count": 19,
      "outputs": [
        {
          "output_type": "execute_result",
          "data": {
            "text/plain": [
              "<pandas.io.formats.style.Styler at 0x7bffc84c9930>"
            ],
            "text/html": [
              "<style type=\"text/css\">\n",
              "#T_f50cf th {\n",
              "  font-size: 7pt;\n",
              "}\n",
              "#T_f50cf td {\n",
              "  padding: 0em 0em;\n",
              "}\n",
              "#T_f50cf th:hover {\n",
              "  font-size: 12pt;\n",
              "}\n",
              "#T_f50cf tr:hover td:hover {\n",
              "  max-width: 200px;\n",
              "  font-size: 12pt;\n",
              "}\n",
              "#T_f50cf_row0_col0, #T_f50cf_row1_col1, #T_f50cf_row2_col2, #T_f50cf_row3_col3, #T_f50cf_row4_col4, #T_f50cf_row5_col5, #T_f50cf_row6_col6, #T_f50cf_row7_col7, #T_f50cf_row8_col8, #T_f50cf_row9_col9, #T_f50cf_row10_col10 {\n",
              "  background-color: #4479bb;\n",
              "  color: #f1f1f1;\n",
              "  max-width: 80px;\n",
              "  font-size: 12pt;\n",
              "}\n",
              "#T_f50cf_row0_col1, #T_f50cf_row10_col8 {\n",
              "  background-color: #e599a8;\n",
              "  color: #000000;\n",
              "  max-width: 80px;\n",
              "  font-size: 12pt;\n",
              "}\n",
              "#T_f50cf_row0_col2 {\n",
              "  background-color: #dd657d;\n",
              "  color: #f1f1f1;\n",
              "  max-width: 80px;\n",
              "  font-size: 12pt;\n",
              "}\n",
              "#T_f50cf_row0_col3, #T_f50cf_row2_col5 {\n",
              "  background-color: #dd5f78;\n",
              "  color: #f1f1f1;\n",
              "  max-width: 80px;\n",
              "  font-size: 12pt;\n",
              "}\n",
              "#T_f50cf_row0_col4, #T_f50cf_row1_col0, #T_f50cf_row8_col10 {\n",
              "  background-color: #e48fa0;\n",
              "  color: #f1f1f1;\n",
              "  max-width: 80px;\n",
              "  font-size: 12pt;\n",
              "}\n",
              "#T_f50cf_row0_col5 {\n",
              "  background-color: #e59aa9;\n",
              "  color: #000000;\n",
              "  max-width: 80px;\n",
              "  font-size: 12pt;\n",
              "}\n",
              "#T_f50cf_row0_col6, #T_f50cf_row6_col3 {\n",
              "  background-color: #df6d84;\n",
              "  color: #f1f1f1;\n",
              "  max-width: 80px;\n",
              "  font-size: 12pt;\n",
              "}\n",
              "#T_f50cf_row0_col7 {\n",
              "  background-color: #e8aeba;\n",
              "  color: #000000;\n",
              "  max-width: 80px;\n",
              "  font-size: 12pt;\n",
              "}\n",
              "#T_f50cf_row0_col8, #T_f50cf_row2_col7, #T_f50cf_row7_col2, #T_f50cf_row9_col0 {\n",
              "  background-color: #df7086;\n",
              "  color: #f1f1f1;\n",
              "  max-width: 80px;\n",
              "  font-size: 12pt;\n",
              "}\n",
              "#T_f50cf_row0_col9, #T_f50cf_row1_col8, #T_f50cf_row5_col1 {\n",
              "  background-color: #e28396;\n",
              "  color: #f1f1f1;\n",
              "  max-width: 80px;\n",
              "  font-size: 12pt;\n",
              "}\n",
              "#T_f50cf_row0_col10, #T_f50cf_row1_col2, #T_f50cf_row2_col1, #T_f50cf_row3_col9, #T_f50cf_row4_col9, #T_f50cf_row5_col10, #T_f50cf_row6_col0, #T_f50cf_row7_col8, #T_f50cf_row8_col7, #T_f50cf_row9_col3, #T_f50cf_row10_col0 {\n",
              "  background-color: #d73c5b;\n",
              "  color: #f1f1f1;\n",
              "  max-width: 80px;\n",
              "  font-size: 12pt;\n",
              "}\n",
              "#T_f50cf_row1_col3, #T_f50cf_row2_col3, #T_f50cf_row2_col10, #T_f50cf_row7_col4 {\n",
              "  background-color: #df7288;\n",
              "  color: #f1f1f1;\n",
              "  max-width: 80px;\n",
              "  font-size: 12pt;\n",
              "}\n",
              "#T_f50cf_row1_col4, #T_f50cf_row5_col4 {\n",
              "  background-color: #e17e92;\n",
              "  color: #f1f1f1;\n",
              "  max-width: 80px;\n",
              "  font-size: 12pt;\n",
              "}\n",
              "#T_f50cf_row1_col5, #T_f50cf_row5_col8, #T_f50cf_row8_col1, #T_f50cf_row10_col6 {\n",
              "  background-color: #e28194;\n",
              "  color: #f1f1f1;\n",
              "  max-width: 80px;\n",
              "  font-size: 12pt;\n",
              "}\n",
              "#T_f50cf_row1_col6, #T_f50cf_row2_col4, #T_f50cf_row3_col4, #T_f50cf_row7_col6 {\n",
              "  background-color: #de687f;\n",
              "  color: #f1f1f1;\n",
              "  max-width: 80px;\n",
              "  font-size: 12pt;\n",
              "}\n",
              "#T_f50cf_row1_col7, #T_f50cf_row5_col6 {\n",
              "  background-color: #e28698;\n",
              "  color: #f1f1f1;\n",
              "  max-width: 80px;\n",
              "  font-size: 12pt;\n",
              "}\n",
              "#T_f50cf_row1_col9, #T_f50cf_row9_col4, #T_f50cf_row10_col1 {\n",
              "  background-color: #db546f;\n",
              "  color: #f1f1f1;\n",
              "  max-width: 80px;\n",
              "  font-size: 12pt;\n",
              "}\n",
              "#T_f50cf_row1_col10, #T_f50cf_row3_col0 {\n",
              "  background-color: #d94a67;\n",
              "  color: #f1f1f1;\n",
              "  max-width: 80px;\n",
              "  font-size: 12pt;\n",
              "}\n",
              "#T_f50cf_row2_col0, #T_f50cf_row4_col1 {\n",
              "  background-color: #dc5c76;\n",
              "  color: #f1f1f1;\n",
              "  max-width: 80px;\n",
              "  font-size: 12pt;\n",
              "}\n",
              "#T_f50cf_row2_col6 {\n",
              "  background-color: #e17d91;\n",
              "  color: #f1f1f1;\n",
              "  max-width: 80px;\n",
              "  font-size: 12pt;\n",
              "}\n",
              "#T_f50cf_row2_col8, #T_f50cf_row3_col6, #T_f50cf_row8_col2, #T_f50cf_row10_col3 {\n",
              "  background-color: #e28799;\n",
              "  color: #f1f1f1;\n",
              "  max-width: 80px;\n",
              "  font-size: 12pt;\n",
              "}\n",
              "#T_f50cf_row2_col9, #T_f50cf_row8_col9 {\n",
              "  background-color: #e0768b;\n",
              "  color: #f1f1f1;\n",
              "  max-width: 80px;\n",
              "  font-size: 12pt;\n",
              "}\n",
              "#T_f50cf_row3_col1, #T_f50cf_row3_col2, #T_f50cf_row3_col5, #T_f50cf_row4_col0, #T_f50cf_row5_col9, #T_f50cf_row6_col4, #T_f50cf_row7_col3, #T_f50cf_row8_col0 {\n",
              "  background-color: #de667e;\n",
              "  color: #f1f1f1;\n",
              "  max-width: 80px;\n",
              "  font-size: 12pt;\n",
              "}\n",
              "#T_f50cf_row3_col7, #T_f50cf_row4_col5 {\n",
              "  background-color: #dc5b75;\n",
              "  color: #f1f1f1;\n",
              "  max-width: 80px;\n",
              "  font-size: 12pt;\n",
              "}\n",
              "#T_f50cf_row3_col8 {\n",
              "  background-color: #da4d69;\n",
              "  color: #f1f1f1;\n",
              "  max-width: 80px;\n",
              "  font-size: 12pt;\n",
              "}\n",
              "#T_f50cf_row3_col10, #T_f50cf_row5_col7 {\n",
              "  background-color: #e0748a;\n",
              "  color: #f1f1f1;\n",
              "  max-width: 80px;\n",
              "  font-size: 12pt;\n",
              "}\n",
              "#T_f50cf_row4_col2, #T_f50cf_row10_col5 {\n",
              "  background-color: #d84361;\n",
              "  color: #f1f1f1;\n",
              "  max-width: 80px;\n",
              "  font-size: 12pt;\n",
              "}\n",
              "#T_f50cf_row4_col3 {\n",
              "  background-color: #da506b;\n",
              "  color: #f1f1f1;\n",
              "  max-width: 80px;\n",
              "  font-size: 12pt;\n",
              "}\n",
              "#T_f50cf_row4_col6, #T_f50cf_row9_col2, #T_f50cf_row9_col8 {\n",
              "  background-color: #de6b82;\n",
              "  color: #f1f1f1;\n",
              "  max-width: 80px;\n",
              "  font-size: 12pt;\n",
              "}\n",
              "#T_f50cf_row4_col7 {\n",
              "  background-color: #da4e6a;\n",
              "  color: #f1f1f1;\n",
              "  max-width: 80px;\n",
              "  font-size: 12pt;\n",
              "}\n",
              "#T_f50cf_row4_col8 {\n",
              "  background-color: #e48e9f;\n",
              "  color: #f1f1f1;\n",
              "  max-width: 80px;\n",
              "  font-size: 12pt;\n",
              "}\n",
              "#T_f50cf_row4_col10, #T_f50cf_row5_col2, #T_f50cf_row9_col7 {\n",
              "  background-color: #dd6179;\n",
              "  color: #f1f1f1;\n",
              "  max-width: 80px;\n",
              "  font-size: 12pt;\n",
              "}\n",
              "#T_f50cf_row5_col0 {\n",
              "  background-color: #e492a3;\n",
              "  color: #f1f1f1;\n",
              "  max-width: 80px;\n",
              "  font-size: 12pt;\n",
              "}\n",
              "#T_f50cf_row5_col3, #T_f50cf_row7_col5, #T_f50cf_row9_col6 {\n",
              "  background-color: #e07389;\n",
              "  color: #f1f1f1;\n",
              "  max-width: 80px;\n",
              "  font-size: 12pt;\n",
              "}\n",
              "#T_f50cf_row6_col1, #T_f50cf_row6_col7 {\n",
              "  background-color: #d83e5d;\n",
              "  color: #f1f1f1;\n",
              "  max-width: 80px;\n",
              "  font-size: 12pt;\n",
              "}\n",
              "#T_f50cf_row6_col2 {\n",
              "  background-color: #db5570;\n",
              "  color: #f1f1f1;\n",
              "  max-width: 80px;\n",
              "  font-size: 12pt;\n",
              "}\n",
              "#T_f50cf_row6_col5 {\n",
              "  background-color: #dc5e77;\n",
              "  color: #f1f1f1;\n",
              "  max-width: 80px;\n",
              "  font-size: 12pt;\n",
              "}\n",
              "#T_f50cf_row6_col8, #T_f50cf_row9_col10 {\n",
              "  background-color: #dd627b;\n",
              "  color: #f1f1f1;\n",
              "  max-width: 80px;\n",
              "  font-size: 12pt;\n",
              "}\n",
              "#T_f50cf_row6_col9 {\n",
              "  background-color: #db5771;\n",
              "  color: #f1f1f1;\n",
              "  max-width: 80px;\n",
              "  font-size: 12pt;\n",
              "}\n",
              "#T_f50cf_row6_col10, #T_f50cf_row10_col7 {\n",
              "  background-color: #da516c;\n",
              "  color: #f1f1f1;\n",
              "  max-width: 80px;\n",
              "  font-size: 12pt;\n",
              "}\n",
              "#T_f50cf_row7_col0 {\n",
              "  background-color: #e7a5b2;\n",
              "  color: #000000;\n",
              "  max-width: 80px;\n",
              "  font-size: 12pt;\n",
              "}\n",
              "#T_f50cf_row7_col1 {\n",
              "  background-color: #e28497;\n",
              "  color: #f1f1f1;\n",
              "  max-width: 80px;\n",
              "  font-size: 12pt;\n",
              "}\n",
              "#T_f50cf_row7_col9 {\n",
              "  background-color: #de6c83;\n",
              "  color: #f1f1f1;\n",
              "  max-width: 80px;\n",
              "  font-size: 12pt;\n",
              "}\n",
              "#T_f50cf_row7_col10, #T_f50cf_row9_col1 {\n",
              "  background-color: #d94764;\n",
              "  color: #f1f1f1;\n",
              "  max-width: 80px;\n",
              "  font-size: 12pt;\n",
              "}\n",
              "#T_f50cf_row8_col3 {\n",
              "  background-color: #dc5973;\n",
              "  color: #f1f1f1;\n",
              "  max-width: 80px;\n",
              "  font-size: 12pt;\n",
              "}\n",
              "#T_f50cf_row8_col4 {\n",
              "  background-color: #e8abb7;\n",
              "  color: #000000;\n",
              "  max-width: 80px;\n",
              "  font-size: 12pt;\n",
              "}\n",
              "#T_f50cf_row8_col5 {\n",
              "  background-color: #e18093;\n",
              "  color: #f1f1f1;\n",
              "  max-width: 80px;\n",
              "  font-size: 12pt;\n",
              "}\n",
              "#T_f50cf_row8_col6 {\n",
              "  background-color: #e3889a;\n",
              "  color: #f1f1f1;\n",
              "  max-width: 80px;\n",
              "  font-size: 12pt;\n",
              "}\n",
              "#T_f50cf_row9_col5 {\n",
              "  background-color: #db5872;\n",
              "  color: #f1f1f1;\n",
              "  max-width: 80px;\n",
              "  font-size: 12pt;\n",
              "}\n",
              "#T_f50cf_row10_col2 {\n",
              "  background-color: #e17a8f;\n",
              "  color: #f1f1f1;\n",
              "  max-width: 80px;\n",
              "  font-size: 12pt;\n",
              "}\n",
              "#T_f50cf_row10_col4 {\n",
              "  background-color: #e38a9c;\n",
              "  color: #f1f1f1;\n",
              "  max-width: 80px;\n",
              "  font-size: 12pt;\n",
              "}\n",
              "#T_f50cf_row10_col9 {\n",
              "  background-color: #e0778c;\n",
              "  color: #f1f1f1;\n",
              "  max-width: 80px;\n",
              "  font-size: 12pt;\n",
              "}\n",
              "</style>\n",
              "<table id=\"T_f50cf\" class=\"dataframe\">\n",
              "  <caption>Корреляция непрерывных признаков</caption>\n",
              "  <thead>\n",
              "    <tr>\n",
              "      <th class=\"blank level0\" >&nbsp;</th>\n",
              "      <th id=\"T_f50cf_level0_col0\" class=\"col_heading level0 col0\" >age</th>\n",
              "      <th id=\"T_f50cf_level0_col1\" class=\"col_heading level0 col1\" >anaemia</th>\n",
              "      <th id=\"T_f50cf_level0_col2\" class=\"col_heading level0 col2\" >creatinine_phosphokinase</th>\n",
              "      <th id=\"T_f50cf_level0_col3\" class=\"col_heading level0 col3\" >diabetes</th>\n",
              "      <th id=\"T_f50cf_level0_col4\" class=\"col_heading level0 col4\" >ejection_fraction</th>\n",
              "      <th id=\"T_f50cf_level0_col5\" class=\"col_heading level0 col5\" >high_blood_pressure</th>\n",
              "      <th id=\"T_f50cf_level0_col6\" class=\"col_heading level0 col6\" >platelets</th>\n",
              "      <th id=\"T_f50cf_level0_col7\" class=\"col_heading level0 col7\" >serum_creatinine</th>\n",
              "      <th id=\"T_f50cf_level0_col8\" class=\"col_heading level0 col8\" >serum_sodium</th>\n",
              "      <th id=\"T_f50cf_level0_col9\" class=\"col_heading level0 col9\" >smoking</th>\n",
              "      <th id=\"T_f50cf_level0_col10\" class=\"col_heading level0 col10\" >time</th>\n",
              "    </tr>\n",
              "  </thead>\n",
              "  <tbody>\n",
              "    <tr>\n",
              "      <th id=\"T_f50cf_level0_row0\" class=\"row_heading level0 row0\" >age</th>\n",
              "      <td id=\"T_f50cf_row0_col0\" class=\"data row0 col0\" >1.000</td>\n",
              "      <td id=\"T_f50cf_row0_col1\" class=\"data row0 col1\" >0.088</td>\n",
              "      <td id=\"T_f50cf_row0_col2\" class=\"data row0 col2\" >-0.082</td>\n",
              "      <td id=\"T_f50cf_row0_col3\" class=\"data row0 col3\" >-0.101</td>\n",
              "      <td id=\"T_f50cf_row0_col4\" class=\"data row0 col4\" >0.060</td>\n",
              "      <td id=\"T_f50cf_row0_col5\" class=\"data row0 col5\" >0.093</td>\n",
              "      <td id=\"T_f50cf_row0_col6\" class=\"data row0 col6\" >-0.052</td>\n",
              "      <td id=\"T_f50cf_row0_col7\" class=\"data row0 col7\" >0.159</td>\n",
              "      <td id=\"T_f50cf_row0_col8\" class=\"data row0 col8\" >-0.046</td>\n",
              "      <td id=\"T_f50cf_row0_col9\" class=\"data row0 col9\" >0.019</td>\n",
              "      <td id=\"T_f50cf_row0_col10\" class=\"data row0 col10\" >-0.224</td>\n",
              "    </tr>\n",
              "    <tr>\n",
              "      <th id=\"T_f50cf_level0_row1\" class=\"row_heading level0 row1\" >anaemia</th>\n",
              "      <td id=\"T_f50cf_row1_col0\" class=\"data row1 col0\" >0.088</td>\n",
              "      <td id=\"T_f50cf_row1_col1\" class=\"data row1 col1\" >1.000</td>\n",
              "      <td id=\"T_f50cf_row1_col2\" class=\"data row1 col2\" >-0.191</td>\n",
              "      <td id=\"T_f50cf_row1_col3\" class=\"data row1 col3\" >-0.013</td>\n",
              "      <td id=\"T_f50cf_row1_col4\" class=\"data row1 col4\" >0.032</td>\n",
              "      <td id=\"T_f50cf_row1_col5\" class=\"data row1 col5\" >0.038</td>\n",
              "      <td id=\"T_f50cf_row1_col6\" class=\"data row1 col6\" >-0.044</td>\n",
              "      <td id=\"T_f50cf_row1_col7\" class=\"data row1 col7\" >0.052</td>\n",
              "      <td id=\"T_f50cf_row1_col8\" class=\"data row1 col8\" >0.042</td>\n",
              "      <td id=\"T_f50cf_row1_col9\" class=\"data row1 col9\" >-0.107</td>\n",
              "      <td id=\"T_f50cf_row1_col10\" class=\"data row1 col10\" >-0.141</td>\n",
              "    </tr>\n",
              "    <tr>\n",
              "      <th id=\"T_f50cf_level0_row2\" class=\"row_heading level0 row2\" >creatinine_phosphokinase</th>\n",
              "      <td id=\"T_f50cf_row2_col0\" class=\"data row2 col0\" >-0.082</td>\n",
              "      <td id=\"T_f50cf_row2_col1\" class=\"data row2 col1\" >-0.191</td>\n",
              "      <td id=\"T_f50cf_row2_col2\" class=\"data row2 col2\" >1.000</td>\n",
              "      <td id=\"T_f50cf_row2_col3\" class=\"data row2 col3\" >-0.010</td>\n",
              "      <td id=\"T_f50cf_row2_col4\" class=\"data row2 col4\" >-0.044</td>\n",
              "      <td id=\"T_f50cf_row2_col5\" class=\"data row2 col5\" >-0.071</td>\n",
              "      <td id=\"T_f50cf_row2_col6\" class=\"data row2 col6\" >0.024</td>\n",
              "      <td id=\"T_f50cf_row2_col7\" class=\"data row2 col7\" >-0.016</td>\n",
              "      <td id=\"T_f50cf_row2_col8\" class=\"data row2 col8\" >0.060</td>\n",
              "      <td id=\"T_f50cf_row2_col9\" class=\"data row2 col9\" >0.002</td>\n",
              "      <td id=\"T_f50cf_row2_col10\" class=\"data row2 col10\" >-0.009</td>\n",
              "    </tr>\n",
              "    <tr>\n",
              "      <th id=\"T_f50cf_level0_row3\" class=\"row_heading level0 row3\" >diabetes</th>\n",
              "      <td id=\"T_f50cf_row3_col0\" class=\"data row3 col0\" >-0.101</td>\n",
              "      <td id=\"T_f50cf_row3_col1\" class=\"data row3 col1\" >-0.013</td>\n",
              "      <td id=\"T_f50cf_row3_col2\" class=\"data row3 col2\" >-0.010</td>\n",
              "      <td id=\"T_f50cf_row3_col3\" class=\"data row3 col3\" >1.000</td>\n",
              "      <td id=\"T_f50cf_row3_col4\" class=\"data row3 col4\" >-0.005</td>\n",
              "      <td id=\"T_f50cf_row3_col5\" class=\"data row3 col5\" >-0.013</td>\n",
              "      <td id=\"T_f50cf_row3_col6\" class=\"data row3 col6\" >0.092</td>\n",
              "      <td id=\"T_f50cf_row3_col7\" class=\"data row3 col7\" >-0.047</td>\n",
              "      <td id=\"T_f50cf_row3_col8\" class=\"data row3 col8\" >-0.090</td>\n",
              "      <td id=\"T_f50cf_row3_col9\" class=\"data row3 col9\" >-0.147</td>\n",
              "      <td id=\"T_f50cf_row3_col10\" class=\"data row3 col10\" >0.034</td>\n",
              "    </tr>\n",
              "    <tr>\n",
              "      <th id=\"T_f50cf_level0_row4\" class=\"row_heading level0 row4\" >ejection_fraction</th>\n",
              "      <td id=\"T_f50cf_row4_col0\" class=\"data row4 col0\" >0.060</td>\n",
              "      <td id=\"T_f50cf_row4_col1\" class=\"data row4 col1\" >0.032</td>\n",
              "      <td id=\"T_f50cf_row4_col2\" class=\"data row4 col2\" >-0.044</td>\n",
              "      <td id=\"T_f50cf_row4_col3\" class=\"data row4 col3\" >-0.005</td>\n",
              "      <td id=\"T_f50cf_row4_col4\" class=\"data row4 col4\" >1.000</td>\n",
              "      <td id=\"T_f50cf_row4_col5\" class=\"data row4 col5\" >0.024</td>\n",
              "      <td id=\"T_f50cf_row4_col6\" class=\"data row4 col6\" >0.072</td>\n",
              "      <td id=\"T_f50cf_row4_col7\" class=\"data row4 col7\" >-0.011</td>\n",
              "      <td id=\"T_f50cf_row4_col8\" class=\"data row4 col8\" >0.176</td>\n",
              "      <td id=\"T_f50cf_row4_col9\" class=\"data row4 col9\" >-0.067</td>\n",
              "      <td id=\"T_f50cf_row4_col10\" class=\"data row4 col10\" >0.042</td>\n",
              "    </tr>\n",
              "    <tr>\n",
              "      <th id=\"T_f50cf_level0_row5\" class=\"row_heading level0 row5\" >high_blood_pressure</th>\n",
              "      <td id=\"T_f50cf_row5_col0\" class=\"data row5 col0\" >0.093</td>\n",
              "      <td id=\"T_f50cf_row5_col1\" class=\"data row5 col1\" >0.038</td>\n",
              "      <td id=\"T_f50cf_row5_col2\" class=\"data row5 col2\" >-0.071</td>\n",
              "      <td id=\"T_f50cf_row5_col3\" class=\"data row5 col3\" >-0.013</td>\n",
              "      <td id=\"T_f50cf_row5_col4\" class=\"data row5 col4\" >0.024</td>\n",
              "      <td id=\"T_f50cf_row5_col5\" class=\"data row5 col5\" >1.000</td>\n",
              "      <td id=\"T_f50cf_row5_col6\" class=\"data row5 col6\" >0.050</td>\n",
              "      <td id=\"T_f50cf_row5_col7\" class=\"data row5 col7\" >-0.005</td>\n",
              "      <td id=\"T_f50cf_row5_col8\" class=\"data row5 col8\" >0.037</td>\n",
              "      <td id=\"T_f50cf_row5_col9\" class=\"data row5 col9\" >-0.056</td>\n",
              "      <td id=\"T_f50cf_row5_col10\" class=\"data row5 col10\" >-0.196</td>\n",
              "    </tr>\n",
              "    <tr>\n",
              "      <th id=\"T_f50cf_level0_row6\" class=\"row_heading level0 row6\" >platelets</th>\n",
              "      <td id=\"T_f50cf_row6_col0\" class=\"data row6 col0\" >-0.052</td>\n",
              "      <td id=\"T_f50cf_row6_col1\" class=\"data row6 col1\" >-0.044</td>\n",
              "      <td id=\"T_f50cf_row6_col2\" class=\"data row6 col2\" >0.024</td>\n",
              "      <td id=\"T_f50cf_row6_col3\" class=\"data row6 col3\" >0.092</td>\n",
              "      <td id=\"T_f50cf_row6_col4\" class=\"data row6 col4\" >0.072</td>\n",
              "      <td id=\"T_f50cf_row6_col5\" class=\"data row6 col5\" >0.050</td>\n",
              "      <td id=\"T_f50cf_row6_col6\" class=\"data row6 col6\" >1.000</td>\n",
              "      <td id=\"T_f50cf_row6_col7\" class=\"data row6 col7\" >-0.041</td>\n",
              "      <td id=\"T_f50cf_row6_col8\" class=\"data row6 col8\" >0.062</td>\n",
              "      <td id=\"T_f50cf_row6_col9\" class=\"data row6 col9\" >0.028</td>\n",
              "      <td id=\"T_f50cf_row6_col10\" class=\"data row6 col10\" >0.011</td>\n",
              "    </tr>\n",
              "    <tr>\n",
              "      <th id=\"T_f50cf_level0_row7\" class=\"row_heading level0 row7\" >serum_creatinine</th>\n",
              "      <td id=\"T_f50cf_row7_col0\" class=\"data row7 col0\" >0.159</td>\n",
              "      <td id=\"T_f50cf_row7_col1\" class=\"data row7 col1\" >0.052</td>\n",
              "      <td id=\"T_f50cf_row7_col2\" class=\"data row7 col2\" >-0.016</td>\n",
              "      <td id=\"T_f50cf_row7_col3\" class=\"data row7 col3\" >-0.047</td>\n",
              "      <td id=\"T_f50cf_row7_col4\" class=\"data row7 col4\" >-0.011</td>\n",
              "      <td id=\"T_f50cf_row7_col5\" class=\"data row7 col5\" >-0.005</td>\n",
              "      <td id=\"T_f50cf_row7_col6\" class=\"data row7 col6\" >-0.041</td>\n",
              "      <td id=\"T_f50cf_row7_col7\" class=\"data row7 col7\" >1.000</td>\n",
              "      <td id=\"T_f50cf_row7_col8\" class=\"data row7 col8\" >-0.189</td>\n",
              "      <td id=\"T_f50cf_row7_col9\" class=\"data row7 col9\" >-0.027</td>\n",
              "      <td id=\"T_f50cf_row7_col10\" class=\"data row7 col10\" >-0.149</td>\n",
              "    </tr>\n",
              "    <tr>\n",
              "      <th id=\"T_f50cf_level0_row8\" class=\"row_heading level0 row8\" >serum_sodium</th>\n",
              "      <td id=\"T_f50cf_row8_col0\" class=\"data row8 col0\" >-0.046</td>\n",
              "      <td id=\"T_f50cf_row8_col1\" class=\"data row8 col1\" >0.042</td>\n",
              "      <td id=\"T_f50cf_row8_col2\" class=\"data row8 col2\" >0.060</td>\n",
              "      <td id=\"T_f50cf_row8_col3\" class=\"data row8 col3\" >-0.090</td>\n",
              "      <td id=\"T_f50cf_row8_col4\" class=\"data row8 col4\" >0.176</td>\n",
              "      <td id=\"T_f50cf_row8_col5\" class=\"data row8 col5\" >0.037</td>\n",
              "      <td id=\"T_f50cf_row8_col6\" class=\"data row8 col6\" >0.062</td>\n",
              "      <td id=\"T_f50cf_row8_col7\" class=\"data row8 col7\" >-0.189</td>\n",
              "      <td id=\"T_f50cf_row8_col8\" class=\"data row8 col8\" >1.000</td>\n",
              "      <td id=\"T_f50cf_row8_col9\" class=\"data row8 col9\" >0.005</td>\n",
              "      <td id=\"T_f50cf_row8_col10\" class=\"data row8 col10\" >0.088</td>\n",
              "    </tr>\n",
              "    <tr>\n",
              "      <th id=\"T_f50cf_level0_row9\" class=\"row_heading level0 row9\" >smoking</th>\n",
              "      <td id=\"T_f50cf_row9_col0\" class=\"data row9 col0\" >0.019</td>\n",
              "      <td id=\"T_f50cf_row9_col1\" class=\"data row9 col1\" >-0.107</td>\n",
              "      <td id=\"T_f50cf_row9_col2\" class=\"data row9 col2\" >0.002</td>\n",
              "      <td id=\"T_f50cf_row9_col3\" class=\"data row9 col3\" >-0.147</td>\n",
              "      <td id=\"T_f50cf_row9_col4\" class=\"data row9 col4\" >-0.067</td>\n",
              "      <td id=\"T_f50cf_row9_col5\" class=\"data row9 col5\" >-0.056</td>\n",
              "      <td id=\"T_f50cf_row9_col6\" class=\"data row9 col6\" >0.028</td>\n",
              "      <td id=\"T_f50cf_row9_col7\" class=\"data row9 col7\" >-0.027</td>\n",
              "      <td id=\"T_f50cf_row9_col8\" class=\"data row9 col8\" >0.005</td>\n",
              "      <td id=\"T_f50cf_row9_col9\" class=\"data row9 col9\" >1.000</td>\n",
              "      <td id=\"T_f50cf_row9_col10\" class=\"data row9 col10\" >-0.023</td>\n",
              "    </tr>\n",
              "    <tr>\n",
              "      <th id=\"T_f50cf_level0_row10\" class=\"row_heading level0 row10\" >time</th>\n",
              "      <td id=\"T_f50cf_row10_col0\" class=\"data row10 col0\" >-0.224</td>\n",
              "      <td id=\"T_f50cf_row10_col1\" class=\"data row10 col1\" >-0.141</td>\n",
              "      <td id=\"T_f50cf_row10_col2\" class=\"data row10 col2\" >-0.009</td>\n",
              "      <td id=\"T_f50cf_row10_col3\" class=\"data row10 col3\" >0.034</td>\n",
              "      <td id=\"T_f50cf_row10_col4\" class=\"data row10 col4\" >0.042</td>\n",
              "      <td id=\"T_f50cf_row10_col5\" class=\"data row10 col5\" >-0.196</td>\n",
              "      <td id=\"T_f50cf_row10_col6\" class=\"data row10 col6\" >0.011</td>\n",
              "      <td id=\"T_f50cf_row10_col7\" class=\"data row10 col7\" >-0.149</td>\n",
              "      <td id=\"T_f50cf_row10_col8\" class=\"data row10 col8\" >0.088</td>\n",
              "      <td id=\"T_f50cf_row10_col9\" class=\"data row10 col9\" >-0.023</td>\n",
              "      <td id=\"T_f50cf_row10_col10\" class=\"data row10 col10\" >1.000</td>\n",
              "    </tr>\n",
              "  </tbody>\n",
              "</table>\n"
            ]
          },
          "metadata": {},
          "execution_count": 19
        }
      ]
    },
    {
      "cell_type": "code",
      "source": [
        "# преобразование данных в массивы NumPy\n",
        "# конвертируем DataFrame в  NumPy\n",
        "# X - содержит все признаки (фичи) (матрица признаков)\n",
        "X=df.values\n",
        "# конвертируем столбец target (diabetes) в  NumPy\n",
        "# y - содержит метки классов (вектор ответов)\n",
        "y=target.values"
      ],
      "metadata": {
        "id": "mXXbZhEI7E_z"
      },
      "execution_count": 20,
      "outputs": []
    },
    {
      "cell_type": "code",
      "source": [
        "from sklearn.utils.class_weight import compute_class_weight\n",
        "\n",
        "# Преобразуем classes в numpy.ndarray\n",
        "classes = np.array([0, 1])\n",
        "\n",
        "# Расчет весов классов\n",
        "class_weights = compute_class_weight(class_weight='balanced', classes=classes, y=y)\n",
        "\n",
        "# Преобразуем результат в numpy массив с float32, если это необходимо\n",
        "class_weights = class_weights.astype(np.float32)\n",
        "\n",
        "# Вывод\n",
        "class_weights"
      ],
      "metadata": {
        "colab": {
          "base_uri": "https://localhost:8080/"
        },
        "id": "rcJf2gXy7Jl7",
        "outputId": "c44f48cd-34ae-43f2-c2f7-f79fcc54fb1b"
      },
      "execution_count": 21,
      "outputs": [
        {
          "output_type": "execute_result",
          "data": {
            "text/plain": [
              "array([0.7364532, 1.5572916], dtype=float32)"
            ]
          },
          "metadata": {},
          "execution_count": 21
        }
      ]
    },
    {
      "cell_type": "code",
      "source": [
        "# разделение на обучающую, валиданионную, тестовую выборки\n",
        "from sklearn.model_selection import train_test_split\n",
        "# train_test_split разделяет данные на обучающую (80%) и врЕменную dum (20%) выборку\n",
        "X_train, X_dum, y_train, y_dum=train_test_split(X,y, test_size=0.2)\n",
        "# train_test_split разделяет врЕменную выборку dum (20%) на тестовую и валидационную пополам (по 10%)\n",
        "X_val, X_test, y_val, y_test= train_test_split(X_dum, y_dum ,test_size=0.5)"
      ],
      "metadata": {
        "id": "W0Haf6Ug7OX0"
      },
      "execution_count": 22,
      "outputs": []
    },
    {
      "cell_type": "code",
      "source": [
        "import torch\n",
        "import torch.optim as optim\n",
        "import torch.nn as nn\n",
        "from torch.utils.data import Dataset, TensorDataset, DataLoader\n",
        "import torchvision.transforms as T"
      ],
      "metadata": {
        "id": "iVQ3qVlu7REe"
      },
      "execution_count": 23,
      "outputs": []
    },
    {
      "cell_type": "code",
      "source": [
        "# проверка на наличие GPU(CUDA), если его он доступен, то выбирается, а если нет то выбирается CPU\n",
        "device = 'cuda' if torch.cuda.is_available() else 'cpu' # вычисления на графическом процессоре, если возможно\n",
        "device"
      ],
      "metadata": {
        "colab": {
          "base_uri": "https://localhost:8080/",
          "height": 35
        },
        "id": "I4B_t_TO7WVY",
        "outputId": "6247e37c-50c9-44cf-b51f-0757ab3bfa07"
      },
      "execution_count": 24,
      "outputs": [
        {
          "output_type": "execute_result",
          "data": {
            "text/plain": [
              "'cpu'"
            ],
            "application/vnd.google.colaboratory.intrinsic+json": {
              "type": "string"
            }
          },
          "metadata": {},
          "execution_count": 24
        }
      ]
    },
    {
      "cell_type": "code",
      "source": [
        "# Создание пользовательского класса Dataset для PyTorch\n",
        "\n",
        "class MyDataset(Dataset):\n",
        "  # Принимает данные (data) и метки (targets) и конвертирует из в тензоры\n",
        "  def __init__(self, data, targets, transform=None):\n",
        "      # признаки\n",
        "      self.data = torch.Tensor(data)\n",
        "      # метки классов\n",
        "      self.targets = torch.LongTensor(targets)\n",
        "      # доп преобразование если это нужно\n",
        "      self.transform = transform\n",
        "  # возвращаем пару (признак, метка) по индексу\n",
        "  def __getitem__(self, index):\n",
        "      x = self.data[index]\n",
        "      y = self.targets[index]\n",
        "      return x, y\n",
        "  # возвращаем все метки классов\n",
        "  def get_labels(self):\n",
        "    return self.targets\n",
        "  # количество объектов в датасете\n",
        "  def __len__(self):\n",
        "      return len(self.data)"
      ],
      "metadata": {
        "id": "qSaElom57bMW"
      },
      "execution_count": 25,
      "outputs": []
    },
    {
      "cell_type": "code",
      "source": [
        "train_dataset=MyDataset(X_train,y_train)\n",
        "val_dataset=MyDataset(X_val,y_val)\n",
        "test_dataset=MyDataset(X_test,y_test)"
      ],
      "metadata": {
        "id": "ySON5MDp7d5o"
      },
      "execution_count": 26,
      "outputs": []
    },
    {
      "cell_type": "code",
      "source": [
        "print(f'''Длина тестовой выборки: {len(test_dataset)}\n",
        "Длина валидационной выборки: {len(val_dataset)}\n",
        "Длина тренировочной выборки: {len(train_dataset)}''')"
      ],
      "metadata": {
        "colab": {
          "base_uri": "https://localhost:8080/"
        },
        "id": "GeX8vvIb7gBP",
        "outputId": "f60d84b0-f290-4936-d410-2368469955ff"
      },
      "execution_count": 27,
      "outputs": [
        {
          "output_type": "stream",
          "name": "stdout",
          "text": [
            "Длина тестовой выборки: 30\n",
            "Длина валидационной выборки: 30\n",
            "Длина тренировочной выборки: 239\n"
          ]
        }
      ]
    },
    {
      "cell_type": "code",
      "source": [
        "train_dataset[0]"
      ],
      "metadata": {
        "colab": {
          "base_uri": "https://localhost:8080/"
        },
        "id": "AYqrvvn_7njh",
        "outputId": "fd1cbb24-5644-4e5e-cd94-20142fd967b9"
      },
      "execution_count": 28,
      "outputs": [
        {
          "output_type": "execute_result",
          "data": {
            "text/plain": [
              "(tensor([-0.6842,  0.0000,  0.7132,  0.0000, -0.8667,  0.0000, -1.4505, -0.6000,\n",
              "         -0.5000,  0.0000,  0.6615,  0.0000,  1.0000]),\n",
              " tensor(0))"
            ]
          },
          "metadata": {},
          "execution_count": 28
        }
      ]
    },
    {
      "cell_type": "code",
      "source": [
        "! pip install torchsampler==0.1.1"
      ],
      "metadata": {
        "colab": {
          "base_uri": "https://localhost:8080/"
        },
        "id": "rY2wSwgA7p1U",
        "outputId": "0cbfe029-e802-414f-86b5-1557b0f19e57"
      },
      "execution_count": 29,
      "outputs": [
        {
          "output_type": "stream",
          "name": "stdout",
          "text": [
            "Collecting torchsampler==0.1.1\n",
            "  Downloading torchsampler-0.1.1-py3-none-any.whl.metadata (4.6 kB)\n",
            "Requirement already satisfied: torch>=1.3 in /usr/local/lib/python3.10/dist-packages (from torchsampler==0.1.1) (2.5.1+cu121)\n",
            "Requirement already satisfied: torchvision>=0.5 in /usr/local/lib/python3.10/dist-packages (from torchsampler==0.1.1) (0.20.1+cu121)\n",
            "Requirement already satisfied: pandas in /usr/local/lib/python3.10/dist-packages (from torchsampler==0.1.1) (2.2.2)\n",
            "Requirement already satisfied: filelock in /usr/local/lib/python3.10/dist-packages (from torch>=1.3->torchsampler==0.1.1) (3.16.1)\n",
            "Requirement already satisfied: typing-extensions>=4.8.0 in /usr/local/lib/python3.10/dist-packages (from torch>=1.3->torchsampler==0.1.1) (4.12.2)\n",
            "Requirement already satisfied: networkx in /usr/local/lib/python3.10/dist-packages (from torch>=1.3->torchsampler==0.1.1) (3.4.2)\n",
            "Requirement already satisfied: jinja2 in /usr/local/lib/python3.10/dist-packages (from torch>=1.3->torchsampler==0.1.1) (3.1.4)\n",
            "Requirement already satisfied: fsspec in /usr/local/lib/python3.10/dist-packages (from torch>=1.3->torchsampler==0.1.1) (2024.10.0)\n",
            "Requirement already satisfied: sympy==1.13.1 in /usr/local/lib/python3.10/dist-packages (from torch>=1.3->torchsampler==0.1.1) (1.13.1)\n",
            "Requirement already satisfied: mpmath<1.4,>=1.1.0 in /usr/local/lib/python3.10/dist-packages (from sympy==1.13.1->torch>=1.3->torchsampler==0.1.1) (1.3.0)\n",
            "Requirement already satisfied: numpy in /usr/local/lib/python3.10/dist-packages (from torchvision>=0.5->torchsampler==0.1.1) (1.26.4)\n",
            "Requirement already satisfied: pillow!=8.3.*,>=5.3.0 in /usr/local/lib/python3.10/dist-packages (from torchvision>=0.5->torchsampler==0.1.1) (11.0.0)\n",
            "Requirement already satisfied: python-dateutil>=2.8.2 in /usr/local/lib/python3.10/dist-packages (from pandas->torchsampler==0.1.1) (2.8.2)\n",
            "Requirement already satisfied: pytz>=2020.1 in /usr/local/lib/python3.10/dist-packages (from pandas->torchsampler==0.1.1) (2024.2)\n",
            "Requirement already satisfied: tzdata>=2022.7 in /usr/local/lib/python3.10/dist-packages (from pandas->torchsampler==0.1.1) (2024.2)\n",
            "Requirement already satisfied: six>=1.5 in /usr/local/lib/python3.10/dist-packages (from python-dateutil>=2.8.2->pandas->torchsampler==0.1.1) (1.17.0)\n",
            "Requirement already satisfied: MarkupSafe>=2.0 in /usr/local/lib/python3.10/dist-packages (from jinja2->torch>=1.3->torchsampler==0.1.1) (3.0.2)\n",
            "Downloading torchsampler-0.1.1-py3-none-any.whl (5.4 kB)\n",
            "Installing collected packages: torchsampler\n",
            "Successfully installed torchsampler-0.1.1\n"
          ]
        }
      ]
    },
    {
      "cell_type": "code",
      "source": [
        "from torchsampler import ImbalancedDatasetSampler\n",
        "# помогает сбалансировать обучение, выбирая все классы с одинаковой вероятностью (тк модель может игнорировать редкие классы)"
      ],
      "metadata": {
        "id": "1aWjEi5k7tgO"
      },
      "execution_count": 30,
      "outputs": []
    },
    {
      "cell_type": "code",
      "source": [
        "# количество объектов в каждом пакете (batch)\n",
        "batch_size=16 # размер пакета\n",
        "# DataLoader - позволяет батчево (пакетно) подавать данные для обучения\n",
        "train_loader = DataLoader(train_dataset, batch_size=batch_size,shuffle=False,\n",
        "                          sampler=ImbalancedDatasetSampler(train_dataset))\n",
        "# shuffle=True - для валидационной и тестовой выборок включено случайное перемешивание данных (позволяет уменьшить влияние порядка объектов при оценке)\n",
        "val_loader = DataLoader(val_dataset, batch_size=batch_size,shuffle=True)\n",
        "test_loader = DataLoader(test_dataset, batch_size=batch_size,shuffle=True)"
      ],
      "metadata": {
        "id": "9XittQBzxPTv"
      },
      "execution_count": 31,
      "outputs": []
    },
    {
      "cell_type": "code",
      "source": [
        "# Создание нейронной сети (FFNN)\n",
        "\n",
        "# nn.Module - базовый класс PyTorch для всех моделей\n",
        "class Classification_Model_FFNN(nn.Module):\n",
        "  # num_inputs- количество входных признаков\n",
        "  # num_classes - количество выходных классов\n",
        "  def __init__(self, num_inputs, num_classes):\n",
        "      super(Classification_Model_FFNN, self).__init__()\n",
        "      # nn.Sequential - создание последовательности слоев нейронной сети\n",
        "      self.pipe = nn.Sequential(\n",
        "          # nn.Linear - полносвязный слой выполняющий линейное преобразование\n",
        "          nn.Linear(num_inputs, 64, bias=False),\n",
        "          # nn.ReLU6 - активационная функция (огр значения до 6)\n",
        "          nn.ReLU6(inplace=True),\n",
        "          # nn.BatchNorm1d - Нормализация данных для ускорения обучения и стабилизации градиентов\n",
        "          nn.BatchNorm1d(64),\n",
        "\n",
        "          nn.Linear(64, 48, bias=False),\n",
        "          nn.ReLU6(inplace=True),\n",
        "          nn.BatchNorm1d(48),\n",
        "\n",
        "          nn.Linear(48, 32, bias=False),\n",
        "          nn.ReLU6(inplace=True),\n",
        "          nn.BatchNorm1d(32),\n",
        "\n",
        "          nn.Linear(32, 16, bias=False),\n",
        "          nn.ReLU6(inplace=True),\n",
        "          nn.BatchNorm1d(16),\n",
        "\n",
        "          nn.Linear(16, num_classes))\n",
        "\n",
        "  def forward(self, x):\n",
        "      return self.pipe(x)"
      ],
      "metadata": {
        "id": "JI38DVN7xXfD"
      },
      "execution_count": 32,
      "outputs": []
    },
    {
      "cell_type": "code",
      "source": [
        "#Инициализация модели и отправка на устройство\n",
        "\n",
        "#создаем объект модели с 13 признаками (входы) и 2 классами (выходами)\n",
        "model=Classification_Model_FFNN(13,2)\n",
        "# перемещаем модель на устройство cuda или cpu\n",
        "model.to(device);"
      ],
      "metadata": {
        "id": "1ufGAXklxafR"
      },
      "execution_count": 33,
      "outputs": []
    },
    {
      "cell_type": "code",
      "source": [
        "! pip install torchinfo"
      ],
      "metadata": {
        "colab": {
          "base_uri": "https://localhost:8080/"
        },
        "id": "EOZWAfqDxewk",
        "outputId": "0966c51c-180e-4625-faaf-d9360333a80b"
      },
      "execution_count": 34,
      "outputs": [
        {
          "output_type": "stream",
          "name": "stdout",
          "text": [
            "Collecting torchinfo\n",
            "  Downloading torchinfo-1.8.0-py3-none-any.whl.metadata (21 kB)\n",
            "Downloading torchinfo-1.8.0-py3-none-any.whl (23 kB)\n",
            "Installing collected packages: torchinfo\n",
            "Successfully installed torchinfo-1.8.0\n"
          ]
        }
      ]
    },
    {
      "cell_type": "code",
      "source": [
        "from torchinfo import summary\n",
        "# summary - показывает детальную информацию о модели (количество слоев, пареметры (весы и смещения), размеры на каждом слое)\n",
        "# input_size=(1, 13) - размер входного тензора\n",
        "summary(model,input_size=(1, 13))"
      ],
      "metadata": {
        "colab": {
          "base_uri": "https://localhost:8080/"
        },
        "id": "qMKFC4Z7xdfJ",
        "outputId": "c233e0ff-7976-4a56-bd6e-913d1f78cf75"
      },
      "execution_count": 36,
      "outputs": [
        {
          "output_type": "execute_result",
          "data": {
            "text/plain": [
              "==========================================================================================\n",
              "Layer (type:depth-idx)                   Output Shape              Param #\n",
              "==========================================================================================\n",
              "Classification_Model_FFNN                [1, 2]                    --\n",
              "├─Sequential: 1-1                        [1, 2]                    --\n",
              "│    └─Linear: 2-1                       [1, 64]                   832\n",
              "│    └─ReLU6: 2-2                        [1, 64]                   --\n",
              "│    └─BatchNorm1d: 2-3                  [1, 64]                   128\n",
              "│    └─Linear: 2-4                       [1, 48]                   3,072\n",
              "│    └─ReLU6: 2-5                        [1, 48]                   --\n",
              "│    └─BatchNorm1d: 2-6                  [1, 48]                   96\n",
              "│    └─Linear: 2-7                       [1, 32]                   1,536\n",
              "│    └─ReLU6: 2-8                        [1, 32]                   --\n",
              "│    └─BatchNorm1d: 2-9                  [1, 32]                   64\n",
              "│    └─Linear: 2-10                      [1, 16]                   512\n",
              "│    └─ReLU6: 2-11                       [1, 16]                   --\n",
              "│    └─BatchNorm1d: 2-12                 [1, 16]                   32\n",
              "│    └─Linear: 2-13                      [1, 2]                    34\n",
              "==========================================================================================\n",
              "Total params: 6,306\n",
              "Trainable params: 6,306\n",
              "Non-trainable params: 0\n",
              "Total mult-adds (M): 0.01\n",
              "==========================================================================================\n",
              "Input size (MB): 0.00\n",
              "Forward/backward pass size (MB): 0.00\n",
              "Params size (MB): 0.03\n",
              "Estimated Total Size (MB): 0.03\n",
              "=========================================================================================="
            ]
          },
          "metadata": {},
          "execution_count": 36
        }
      ]
    },
    {
      "cell_type": "code",
      "source": [
        "# Настройка функции потерь и оптимизатора\n",
        "\n",
        "# nn.CrossEntropyLoss - функция потерь для задачи классификации\n",
        "# weight=torch.tensor(class_weights - учитывает веса классов для дисбалансированных данных\n",
        "criterion = nn.CrossEntropyLoss(weight=torch.tensor(class_weights))\n",
        "#criterion = nn.CrossEntropyLoss()\n",
        "# optim.Adam - оптимизатор - используется для обновления параметров модели\n",
        "optimizer = optim.Adam(model.parameters(), weight_decay=0.1)"
      ],
      "metadata": {
        "id": "9JpRU9xFxmI2"
      },
      "execution_count": 37,
      "outputs": []
    },
    {
      "cell_type": "code",
      "source": [
        "from tqdm import tqdm"
      ],
      "metadata": {
        "id": "-hU-AU75xonT"
      },
      "execution_count": 38,
      "outputs": []
    },
    {
      "cell_type": "code",
      "source": [
        "# Функция для рассчета точности\n",
        "\n",
        "def accuracy(predictions, labels):\n",
        "    # torch.argmax(predictions, dim=1) - выбирает индекс максимального значения вдоль оси dim = 1(выходной класс модели)\n",
        "    classes = torch.argmax(predictions, dim=1)\n",
        "    # classes == labels - сравнивает предсказанные классы с истинными метками\n",
        "    # преобразуем реультат в float\n",
        "    # torch.mean - вычисляет среднее значение\n",
        "    return torch.mean((classes == labels).float())"
      ],
      "metadata": {
        "id": "8IZd6sb7xtpN"
      },
      "execution_count": 39,
      "outputs": []
    },
    {
      "cell_type": "code",
      "source": [
        "# Функция обучения модели\n",
        "\n",
        "train_losses=[]\n",
        "train_accs=[]\n",
        "def train(model,epoch):\n",
        "  print('\\nEpoch : %d'%epoch)\n",
        "  model.train() # включаем режим обучения (веса модели можно обновлять)\n",
        "  running_loss= 0. # накопленная ошибка за эпоху\n",
        "  running_acc = 0. # накопленная точность за эпоху\n",
        "  for data in tqdm(train_loader):\n",
        "      inputs, targets=data[0].to(device),data[1].to(device) # загружаем данные на устройство (распаковываем пакеты)\n",
        "      optimizer.zero_grad() # обнуляем градиенты для нового шага обучения\n",
        "      outputs=model(inputs) # считаем предсказания - прямой проход модели\n",
        "      loss=criterion(outputs,targets) # вычисляем функцию потерь\n",
        "      loss.backward() # обратное распространение ошибки для расчета градиентов\n",
        "      optimizer.step() # итерация алгоритма оптимизации: обновление весов модели\n",
        "\n",
        "      running_loss += loss.item() # добавляем текущую ошибку к общей\n",
        "      running_acc += accuracy(outputs,targets) # добавляем текущую точность к общей\n",
        "\n",
        "    # среднее значение и точность за эпоху\n",
        "  train_loss=running_loss/len(train_loader)\n",
        "  train_acc=running_acc/len(train_loader)\n",
        "\n",
        "    # сохраняем значения для последующего анализа\n",
        "  train_losses.append(train_loss)\n",
        "  train_accs.append(train_acc)\n",
        "  print('Средняя ошибка модели на тренировочной выборке: %.4f'%(train_loss)+'   Средняя точность модели на тренировочной выборке: %.4f'%(train_acc))"
      ],
      "metadata": {
        "id": "qjrCNS6yxwZw"
      },
      "execution_count": 40,
      "outputs": []
    },
    {
      "cell_type": "code",
      "source": [
        "val_losses=[]\n",
        "val_accs=[]\n",
        "def val(model,epoch):\n",
        "    print('\\nEpoch : %d'%epoch)\n",
        "    model.eval() # включаем режим валидации, веса модели заморожены\n",
        "    running_loss = 0.\n",
        "    running_acc = 0.\n",
        "    with torch.no_grad(): # отключаем расчет градиентов для ускорения\n",
        "        for data in tqdm(val_loader):\n",
        "            inputs, targets=data[0].to(device),data[1].to(device)\n",
        "            outputs=model(inputs) # прямой проход: предсказания модели\n",
        "            loss=criterion(outputs,targets) # вычисляем ошибку\n",
        "\n",
        "            running_loss += loss.item() # добавляем текущую ошибку к общей\n",
        "            running_acc += accuracy(outputs,targets) # добавляем текущую точность к общей\n",
        "\n",
        "        # среднее значение и точность за эпоху\n",
        "        val_loss=running_loss/len(val_loader)\n",
        "        val_acc=running_acc/len(val_loader)\n",
        "\n",
        "        # сохраняем значения для последующего анализа\n",
        "        val_losses.append(val_loss)\n",
        "        val_accs.append(val_acc)\n",
        "        print('Средняя ошибка модели на валидационной выборке: %.4f'%(val_loss)+'   Средняя точность модели на валидационной выборке: %.4f'%(val_acc))"
      ],
      "metadata": {
        "id": "PGq8hVG4xzlG"
      },
      "execution_count": 41,
      "outputs": []
    },
    {
      "cell_type": "code",
      "source": [
        "# класс для ранней остановки\n",
        "\n",
        "\n",
        "class EarlyStopper:\n",
        "    def __init__(self, patience=1, min_delta=0):\n",
        "        self.patience = patience # количество эпох в течение которых допустимо ухудшение\n",
        "        self.min_delta = min_delta # минимальное улучшение для \"лучшего\" результата\n",
        "        self.counter = 0 # счетчик ухудшений\n",
        "        self.min_validation_loss = float('inf') # минимальная ошибка на валидации\n",
        "\n",
        "    def early_stop(self, validation_loss):\n",
        "        if validation_loss < self.min_validation_loss:\n",
        "            self.min_validation_loss = validation_loss\n",
        "            self.counter = 0 # сбрасываем счетчик ухудшений\n",
        "        elif validation_loss > (self.min_validation_loss + self.min_delta):\n",
        "            self.counter += 1 # увеличиваем счетчик ухудшений\n",
        "            if self.counter >= self.patience:\n",
        "                return True # прерываем обучение\n",
        "        return False"
      ],
      "metadata": {
        "id": "ZNo5KpW1x1Rr"
      },
      "execution_count": 42,
      "outputs": []
    },
    {
      "cell_type": "code",
      "source": [
        "max_epochs=100\n",
        "best_acc=0.0\n",
        "early_stopper = EarlyStopper(patience=5, min_delta=0.1)\n",
        "for epoch in range(1,max_epochs+1):\n",
        "    train(model,epoch) # запускаем обучение\n",
        "    val(model,epoch) # запускаем валидацию\n",
        "    # сохранение лучшей модели\n",
        "    if val_accs[-1] > best_acc:\n",
        "       torch.save(model, 'best-model.pt') # сохраняем модель с лучшей точностью\n",
        "       best_acc = val_accs[-1]\n",
        "    # ранняя остановка\n",
        "    if early_stopper.early_stop(val_losses[-1]):\n",
        "      break"
      ],
      "metadata": {
        "colab": {
          "base_uri": "https://localhost:8080/"
        },
        "id": "lFxDWF3Fx3PQ",
        "outputId": "e5d88c1d-6873-4201-fd07-4bd552c0acf1"
      },
      "execution_count": 43,
      "outputs": [
        {
          "output_type": "stream",
          "name": "stdout",
          "text": [
            "\n",
            "Epoch : 1\n"
          ]
        },
        {
          "output_type": "stream",
          "name": "stderr",
          "text": [
            "100%|██████████| 15/15 [00:00<00:00, 135.07it/s]\n"
          ]
        },
        {
          "output_type": "stream",
          "name": "stdout",
          "text": [
            "Средняя ошибка модели на тренировочной выборке: 0.6497   Средняя точность модели на тренировочной выборке: 0.6397\n",
            "\n",
            "Epoch : 1\n"
          ]
        },
        {
          "output_type": "stream",
          "name": "stderr",
          "text": [
            "100%|██████████| 2/2 [00:00<00:00, 246.14it/s]\n"
          ]
        },
        {
          "output_type": "stream",
          "name": "stdout",
          "text": [
            "Средняя ошибка модели на валидационной выборке: 0.7131   Средняя точность модели на валидационной выборке: 0.2768\n",
            "\n",
            "Epoch : 2\n"
          ]
        },
        {
          "output_type": "stream",
          "name": "stderr",
          "text": [
            "100%|██████████| 15/15 [00:00<00:00, 347.73it/s]\n"
          ]
        },
        {
          "output_type": "stream",
          "name": "stdout",
          "text": [
            "Средняя ошибка модели на тренировочной выборке: 0.4783   Средняя точность модели на тренировочной выборке: 0.7533\n",
            "\n",
            "Epoch : 2\n"
          ]
        },
        {
          "output_type": "stream",
          "name": "stderr",
          "text": [
            "100%|██████████| 2/2 [00:00<00:00, 792.42it/s]\n"
          ]
        },
        {
          "output_type": "stream",
          "name": "stdout",
          "text": [
            "Средняя ошибка модели на валидационной выборке: 0.6459   Средняя точность модели на валидационной выборке: 0.5268\n",
            "\n",
            "Epoch : 3\n"
          ]
        },
        {
          "output_type": "stream",
          "name": "stderr",
          "text": [
            "100%|██████████| 15/15 [00:00<00:00, 355.73it/s]\n"
          ]
        },
        {
          "output_type": "stream",
          "name": "stdout",
          "text": [
            "Средняя ошибка модели на тренировочной выборке: 0.4058   Средняя точность модели на тренировочной выборке: 0.8147\n",
            "\n",
            "Epoch : 3\n"
          ]
        },
        {
          "output_type": "stream",
          "name": "stderr",
          "text": [
            "100%|██████████| 2/2 [00:00<00:00, 759.91it/s]\n"
          ]
        },
        {
          "output_type": "stream",
          "name": "stdout",
          "text": [
            "Средняя ошибка модели на валидационной выборке: 0.5717   Средняя точность модели на валидационной выборке: 0.7009\n",
            "\n",
            "Epoch : 4\n"
          ]
        },
        {
          "output_type": "stream",
          "name": "stderr",
          "text": [
            "100%|██████████| 15/15 [00:00<00:00, 252.22it/s]\n"
          ]
        },
        {
          "output_type": "stream",
          "name": "stdout",
          "text": [
            "Средняя ошибка модели на тренировочной выборке: 0.3454   Средняя точность модели на тренировочной выборке: 0.8531\n",
            "\n",
            "Epoch : 4\n"
          ]
        },
        {
          "output_type": "stream",
          "name": "stderr",
          "text": [
            "100%|██████████| 2/2 [00:00<00:00, 641.58it/s]\n"
          ]
        },
        {
          "output_type": "stream",
          "name": "stdout",
          "text": [
            "Средняя ошибка модели на валидационной выборке: 0.5831   Средняя точность модели на валидационной выборке: 0.7232\n",
            "\n",
            "Epoch : 5\n"
          ]
        },
        {
          "output_type": "stream",
          "name": "stderr",
          "text": [
            "100%|██████████| 15/15 [00:00<00:00, 233.04it/s]\n"
          ]
        },
        {
          "output_type": "stream",
          "name": "stdout",
          "text": [
            "Средняя ошибка модели на тренировочной выборке: 0.3844   Средняя точность модели на тренировочной выборке: 0.8283\n",
            "\n",
            "Epoch : 5\n"
          ]
        },
        {
          "output_type": "stream",
          "name": "stderr",
          "text": [
            "100%|██████████| 2/2 [00:00<00:00, 479.62it/s]\n"
          ]
        },
        {
          "output_type": "stream",
          "name": "stdout",
          "text": [
            "Средняя ошибка модели на валидационной выборке: 0.5781   Средняя точность модели на валидационной выборке: 0.7277\n",
            "\n",
            "Epoch : 6\n"
          ]
        },
        {
          "output_type": "stream",
          "name": "stderr",
          "text": [
            "100%|██████████| 15/15 [00:00<00:00, 234.29it/s]\n"
          ]
        },
        {
          "output_type": "stream",
          "name": "stdout",
          "text": [
            "Средняя ошибка модели на тренировочной выборке: 0.3221   Средняя точность модели на тренировочной выборке: 0.8703\n",
            "\n",
            "Epoch : 6\n"
          ]
        },
        {
          "output_type": "stream",
          "name": "stderr",
          "text": [
            "100%|██████████| 2/2 [00:00<00:00, 740.45it/s]\n"
          ]
        },
        {
          "output_type": "stream",
          "name": "stdout",
          "text": [
            "Средняя ошибка модели на валидационной выборке: 0.5459   Средняя точность модели на валидационной выборке: 0.7679\n",
            "\n",
            "Epoch : 7\n"
          ]
        },
        {
          "output_type": "stream",
          "name": "stderr",
          "text": [
            "100%|██████████| 15/15 [00:00<00:00, 345.61it/s]\n"
          ]
        },
        {
          "output_type": "stream",
          "name": "stdout",
          "text": [
            "Средняя ошибка модели на тренировочной выборке: 0.3784   Средняя точность модели на тренировочной выборке: 0.8164\n",
            "\n",
            "Epoch : 7\n"
          ]
        },
        {
          "output_type": "stream",
          "name": "stderr",
          "text": [
            "100%|██████████| 2/2 [00:00<00:00, 332.05it/s]\n"
          ]
        },
        {
          "output_type": "stream",
          "name": "stdout",
          "text": [
            "Средняя ошибка модели на валидационной выборке: 0.5287   Средняя точность модели на валидационной выборке: 0.7634\n",
            "\n",
            "Epoch : 8\n"
          ]
        },
        {
          "output_type": "stream",
          "name": "stderr",
          "text": [
            "100%|██████████| 15/15 [00:00<00:00, 253.11it/s]\n"
          ]
        },
        {
          "output_type": "stream",
          "name": "stdout",
          "text": [
            "Средняя ошибка модели на тренировочной выборке: 0.2817   Средняя точность модели на тренировочной выборке: 0.8786\n",
            "\n",
            "Epoch : 8\n"
          ]
        },
        {
          "output_type": "stream",
          "name": "stderr",
          "text": [
            "100%|██████████| 2/2 [00:00<00:00, 628.03it/s]\n"
          ]
        },
        {
          "output_type": "stream",
          "name": "stdout",
          "text": [
            "Средняя ошибка модели на валидационной выборке: 0.5700   Средняя точность модели на валидационной выборке: 0.6607\n",
            "\n",
            "Epoch : 9\n"
          ]
        },
        {
          "output_type": "stream",
          "name": "stderr",
          "text": [
            "100%|██████████| 15/15 [00:00<00:00, 334.89it/s]\n"
          ]
        },
        {
          "output_type": "stream",
          "name": "stdout",
          "text": [
            "Средняя ошибка модели на тренировочной выборке: 0.2486   Средняя точность модели на тренировочной выборке: 0.8833\n",
            "\n",
            "Epoch : 9\n"
          ]
        },
        {
          "output_type": "stream",
          "name": "stderr",
          "text": [
            "100%|██████████| 2/2 [00:00<00:00, 528.38it/s]\n"
          ]
        },
        {
          "output_type": "stream",
          "name": "stdout",
          "text": [
            "Средняя ошибка модели на валидационной выборке: 0.5956   Средняя точность модели на валидационной выборке: 0.7277\n",
            "\n",
            "Epoch : 10\n"
          ]
        },
        {
          "output_type": "stream",
          "name": "stderr",
          "text": [
            "100%|██████████| 15/15 [00:00<00:00, 341.15it/s]\n"
          ]
        },
        {
          "output_type": "stream",
          "name": "stdout",
          "text": [
            "Средняя ошибка модели на тренировочной выборке: 0.3019   Средняя точность модели на тренировочной выборке: 0.8747\n",
            "\n",
            "Epoch : 10\n"
          ]
        },
        {
          "output_type": "stream",
          "name": "stderr",
          "text": [
            "100%|██████████| 2/2 [00:00<00:00, 746.12it/s]\n"
          ]
        },
        {
          "output_type": "stream",
          "name": "stdout",
          "text": [
            "Средняя ошибка модели на валидационной выборке: 0.4825   Средняя точность модели на валидационной выборке: 0.7946\n",
            "\n",
            "Epoch : 11\n"
          ]
        },
        {
          "output_type": "stream",
          "name": "stderr",
          "text": [
            "100%|██████████| 15/15 [00:00<00:00, 312.55it/s]\n"
          ]
        },
        {
          "output_type": "stream",
          "name": "stdout",
          "text": [
            "Средняя ошибка модели на тренировочной выборке: 0.2551   Средняя точность модели на тренировочной выборке: 0.8789\n",
            "\n",
            "Epoch : 11\n"
          ]
        },
        {
          "output_type": "stream",
          "name": "stderr",
          "text": [
            "100%|██████████| 2/2 [00:00<00:00, 724.34it/s]\n"
          ]
        },
        {
          "output_type": "stream",
          "name": "stdout",
          "text": [
            "Средняя ошибка модели на валидационной выборке: 0.4725   Средняя точность модели на валидационной выборке: 0.7366\n",
            "\n",
            "Epoch : 12\n"
          ]
        },
        {
          "output_type": "stream",
          "name": "stderr",
          "text": [
            "100%|██████████| 15/15 [00:00<00:00, 340.90it/s]\n"
          ]
        },
        {
          "output_type": "stream",
          "name": "stdout",
          "text": [
            "Средняя ошибка модели на тренировочной выборке: 0.2087   Средняя точность модели на тренировочной выборке: 0.9164\n",
            "\n",
            "Epoch : 12\n"
          ]
        },
        {
          "output_type": "stream",
          "name": "stderr",
          "text": [
            "100%|██████████| 2/2 [00:00<00:00, 595.02it/s]\n"
          ]
        },
        {
          "output_type": "stream",
          "name": "stdout",
          "text": [
            "Средняя ошибка модели на валидационной выборке: 0.4789   Средняя точность модели на валидационной выборке: 0.7768\n",
            "\n",
            "Epoch : 13\n"
          ]
        },
        {
          "output_type": "stream",
          "name": "stderr",
          "text": [
            "100%|██████████| 15/15 [00:00<00:00, 337.85it/s]\n"
          ]
        },
        {
          "output_type": "stream",
          "name": "stdout",
          "text": [
            "Средняя ошибка модели на тренировочной выборке: 0.2570   Средняя точность модели на тренировочной выборке: 0.8914\n",
            "\n",
            "Epoch : 13\n"
          ]
        },
        {
          "output_type": "stream",
          "name": "stderr",
          "text": [
            "100%|██████████| 2/2 [00:00<00:00, 747.98it/s]\n"
          ]
        },
        {
          "output_type": "stream",
          "name": "stdout",
          "text": [
            "Средняя ошибка модели на валидационной выборке: 0.4728   Средняя точность модели на валидационной выборке: 0.8304\n",
            "\n",
            "Epoch : 14\n"
          ]
        },
        {
          "output_type": "stream",
          "name": "stderr",
          "text": [
            "100%|██████████| 15/15 [00:00<00:00, 319.61it/s]\n"
          ]
        },
        {
          "output_type": "stream",
          "name": "stdout",
          "text": [
            "Средняя ошибка модели на тренировочной выборке: 0.2377   Средняя точность модели на тренировочной выборке: 0.9081\n",
            "\n",
            "Epoch : 14\n"
          ]
        },
        {
          "output_type": "stream",
          "name": "stderr",
          "text": [
            "100%|██████████| 2/2 [00:00<00:00, 750.05it/s]\n"
          ]
        },
        {
          "output_type": "stream",
          "name": "stdout",
          "text": [
            "Средняя ошибка модели на валидационной выборке: 0.4653   Средняя точность модели на валидационной выборке: 0.7991\n",
            "\n",
            "Epoch : 15\n"
          ]
        },
        {
          "output_type": "stream",
          "name": "stderr",
          "text": [
            "100%|██████████| 15/15 [00:00<00:00, 341.84it/s]\n"
          ]
        },
        {
          "output_type": "stream",
          "name": "stdout",
          "text": [
            "Средняя ошибка модели на тренировочной выборке: 0.2433   Средняя точность модели на тренировочной выборке: 0.8906\n",
            "\n",
            "Epoch : 15\n"
          ]
        },
        {
          "output_type": "stream",
          "name": "stderr",
          "text": [
            "100%|██████████| 2/2 [00:00<00:00, 787.22it/s]\n"
          ]
        },
        {
          "output_type": "stream",
          "name": "stdout",
          "text": [
            "Средняя ошибка модели на валидационной выборке: 0.5846   Средняя точность модели на валидационной выборке: 0.7946\n",
            "\n",
            "Epoch : 16\n"
          ]
        },
        {
          "output_type": "stream",
          "name": "stderr",
          "text": [
            "100%|██████████| 15/15 [00:00<00:00, 298.15it/s]\n"
          ]
        },
        {
          "output_type": "stream",
          "name": "stdout",
          "text": [
            "Средняя ошибка модели на тренировочной выборке: 0.2777   Средняя точность модели на тренировочной выборке: 0.8661\n",
            "\n",
            "Epoch : 16\n"
          ]
        },
        {
          "output_type": "stream",
          "name": "stderr",
          "text": [
            "100%|██████████| 2/2 [00:00<00:00, 836.02it/s]\n"
          ]
        },
        {
          "output_type": "stream",
          "name": "stdout",
          "text": [
            "Средняя ошибка модели на валидационной выборке: 0.5840   Средняя точность модели на валидационной выборке: 0.7009\n",
            "\n",
            "Epoch : 17\n"
          ]
        },
        {
          "output_type": "stream",
          "name": "stderr",
          "text": [
            "100%|██████████| 15/15 [00:00<00:00, 310.78it/s]\n"
          ]
        },
        {
          "output_type": "stream",
          "name": "stdout",
          "text": [
            "Средняя ошибка модели на тренировочной выборке: 0.2296   Средняя точность модели на тренировочной выборке: 0.9125\n",
            "\n",
            "Epoch : 17\n"
          ]
        },
        {
          "output_type": "stream",
          "name": "stderr",
          "text": [
            "100%|██████████| 2/2 [00:00<00:00, 477.82it/s]\n"
          ]
        },
        {
          "output_type": "stream",
          "name": "stdout",
          "text": [
            "Средняя ошибка модели на валидационной выборке: 0.4853   Средняя точность модели на валидационной выборке: 0.7768\n",
            "\n",
            "Epoch : 18\n"
          ]
        },
        {
          "output_type": "stream",
          "name": "stderr",
          "text": [
            "100%|██████████| 15/15 [00:00<00:00, 239.25it/s]\n"
          ]
        },
        {
          "output_type": "stream",
          "name": "stdout",
          "text": [
            "Средняя ошибка модели на тренировочной выборке: 0.2419   Средняя точность модели на тренировочной выборке: 0.8703\n",
            "\n",
            "Epoch : 18\n"
          ]
        },
        {
          "output_type": "stream",
          "name": "stderr",
          "text": [
            "100%|██████████| 2/2 [00:00<00:00, 468.90it/s]\n"
          ]
        },
        {
          "output_type": "stream",
          "name": "stdout",
          "text": [
            "Средняя ошибка модели на валидационной выборке: 0.5790   Средняя точность модели на валидационной выборке: 0.7009\n",
            "\n",
            "Epoch : 19\n"
          ]
        },
        {
          "output_type": "stream",
          "name": "stderr",
          "text": [
            "100%|██████████| 15/15 [00:00<00:00, 238.09it/s]\n"
          ]
        },
        {
          "output_type": "stream",
          "name": "stdout",
          "text": [
            "Средняя ошибка модели на тренировочной выборке: 0.2484   Средняя точность модели на тренировочной выборке: 0.9000\n",
            "\n",
            "Epoch : 19\n"
          ]
        },
        {
          "output_type": "stream",
          "name": "stderr",
          "text": [
            "100%|██████████| 2/2 [00:00<00:00, 695.17it/s]\n"
          ]
        },
        {
          "output_type": "stream",
          "name": "stdout",
          "text": [
            "Средняя ошибка модели на валидационной выборке: 0.6229   Средняя точность модели на валидационной выборке: 0.7009\n",
            "\n",
            "Epoch : 20\n"
          ]
        },
        {
          "output_type": "stream",
          "name": "stderr",
          "text": [
            "100%|██████████| 15/15 [00:00<00:00, 198.62it/s]\n"
          ]
        },
        {
          "output_type": "stream",
          "name": "stdout",
          "text": [
            "Средняя ошибка модели на тренировочной выборке: 0.2412   Средняя точность модели на тренировочной выборке: 0.9033\n",
            "\n",
            "Epoch : 20\n"
          ]
        },
        {
          "output_type": "stream",
          "name": "stderr",
          "text": [
            "100%|██████████| 2/2 [00:00<00:00, 718.63it/s]\n"
          ]
        },
        {
          "output_type": "stream",
          "name": "stdout",
          "text": [
            "Средняя ошибка модели на валидационной выборке: 0.5607   Средняя точность модели на валидационной выборке: 0.7277\n",
            "\n",
            "Epoch : 21\n"
          ]
        },
        {
          "output_type": "stream",
          "name": "stderr",
          "text": [
            "100%|██████████| 15/15 [00:00<00:00, 261.77it/s]\n"
          ]
        },
        {
          "output_type": "stream",
          "name": "stdout",
          "text": [
            "Средняя ошибка модели на тренировочной выборке: 0.2141   Средняя точность модели на тренировочной выборке: 0.9203\n",
            "\n",
            "Epoch : 21\n"
          ]
        },
        {
          "output_type": "stream",
          "name": "stderr",
          "text": [
            "100%|██████████| 2/2 [00:00<00:00, 604.37it/s]"
          ]
        },
        {
          "output_type": "stream",
          "name": "stdout",
          "text": [
            "Средняя ошибка модели на валидационной выборке: 0.6091   Средняя точность модели на валидационной выборке: 0.7277\n"
          ]
        },
        {
          "output_type": "stream",
          "name": "stderr",
          "text": [
            "\n"
          ]
        }
      ]
    },
    {
      "cell_type": "code",
      "source": [
        "# лучшая достигнутая точность на валидационной выборке\n",
        "\n",
        "best_acc"
      ],
      "metadata": {
        "colab": {
          "base_uri": "https://localhost:8080/"
        },
        "id": "XctfSdqM34rr",
        "outputId": "b31312eb-f84b-4914-ebc0-c006f87d5a33"
      },
      "execution_count": 44,
      "outputs": [
        {
          "output_type": "execute_result",
          "data": {
            "text/plain": [
              "tensor(0.8304)"
            ]
          },
          "metadata": {},
          "execution_count": 44
        }
      ]
    },
    {
      "cell_type": "code",
      "source": [
        "# график ошибки обучения и валидации\n",
        "\n",
        "plt.rcParams[\"figure.figsize\"] = (20,5)\n",
        "plt.plot(train_losses,'-o')\n",
        "plt.plot(val_losses,'-o')\n",
        "plt.xlabel('эпоха')\n",
        "plt.ylabel('ошибка')\n",
        "plt.legend(['Обучение','Валидация'])\n",
        "plt.title('Ошибка обучения vs Ошибка валидации')\n",
        "plt.show()"
      ],
      "metadata": {
        "colab": {
          "base_uri": "https://localhost:8080/",
          "height": 381
        },
        "id": "QIpAIYB838Ns",
        "outputId": "fcb99e82-d6cd-475d-f399-b41742380cb7"
      },
      "execution_count": 45,
      "outputs": [
        {
          "output_type": "display_data",
          "data": {
            "text/plain": [
              "<Figure size 2000x500 with 1 Axes>"
            ],
            "image/png": "[encoded data removed]"
          },
          "metadata": {}
        }
      ]
    },
    {
      "cell_type": "code",
      "source": [
        "# график точности обучения и валидации\n",
        "\n",
        "plt.rcParams[\"figure.figsize\"] = (20,5)\n",
        "plt.plot(train_accs,'-o')\n",
        "plt.plot(val_accs,'-o')\n",
        "plt.xlabel('эпоха')\n",
        "plt.ylabel('точность')\n",
        "plt.legend(['Обучение','Валидация'])\n",
        "plt.title('Точность на обучении vs Точночть на валидации')\n",
        "plt.show()"
      ],
      "metadata": {
        "colab": {
          "base_uri": "https://localhost:8080/",
          "height": 381
        },
        "id": "UDIwNWns3-6v",
        "outputId": "51ab4b7e-c7bf-4d44-9d86-ea3a1b9598dc"
      },
      "execution_count": 46,
      "outputs": [
        {
          "output_type": "display_data",
          "data": {
            "text/plain": [
              "<Figure size 2000x500 with 1 Axes>"
            ],
            "image/png": "[encoded data removed]"
          },
          "metadata": {}
        }
      ]
    },
    {
      "cell_type": "code",
      "source": [
        "# загрузка лучшей модели\n",
        "\n",
        "model = torch.load('best-model.pt');\n",
        "model.eval();"
      ],
      "metadata": {
        "colab": {
          "base_uri": "https://localhost:8080/"
        },
        "id": "7bMVbTaX4CcP",
        "outputId": "5ef0c50c-27c2-4ffa-dcd2-54d4a838ee36"
      },
      "execution_count": 47,
      "outputs": [
        {
          "output_type": "stream",
          "name": "stderr",
          "text": [
            "<ipython-input-47-8ed965894ae5>:3: FutureWarning: You are using `torch.load` with `weights_only=False` (the current default value), which uses the default pickle module implicitly. It is possible to construct malicious pickle data which will execute arbitrary code during unpickling (See https://github.com/pytorch/pytorch/blob/main/SECURITY.md#untrusted-models for more details). In a future release, the default value for `weights_only` will be flipped to `True`. This limits the functions that could be executed during unpickling. Arbitrary objects will no longer be allowed to be loaded via this mode unless they are explicitly allowlisted by the user via `torch.serialization.add_safe_globals`. We recommend you start setting `weights_only=True` for any use case where you don't have full control of the loaded file. Please open an issue on GitHub for any issues related to this experimental feature.\n",
            "  model = torch.load('best-model.pt');\n"
          ]
        }
      ]
    },
    {
      "cell_type": "code",
      "source": [
        "# получение предсказаний на тестовой выборке\n",
        "\n",
        "preds=[]\n",
        "trgts=[]\n",
        "with torch.no_grad():\n",
        "  for data in tqdm(test_loader):\n",
        "    inputs, targets=data[0].to(device),data[1].to(device) # загружаем данные\n",
        "    outputs=model(inputs) # предсказания модели\n",
        "    targets=targets.to('cpu').numpy() # переводим метки в CPU\n",
        "    pred = outputs.data.max(1, keepdim=True)[1] # находим класс с максимальной вероятностью\n",
        "    pred = pred.to('cpu').numpy() # переводим предсказания в CPU\n",
        "    trgts.append(targets) # сохраняем реальные метки\n",
        "    preds.append(pred) # сохраняем предсказания"
      ],
      "metadata": {
        "colab": {
          "base_uri": "https://localhost:8080/"
        },
        "id": "4kE_LXGR4FPi",
        "outputId": "7878aff0-2904-4ff5-bb71-d3e48b920b90"
      },
      "execution_count": 48,
      "outputs": [
        {
          "output_type": "stream",
          "name": "stderr",
          "text": [
            "100%|██████████| 2/2 [00:00<00:00, 344.84it/s]\n"
          ]
        }
      ]
    },
    {
      "cell_type": "code",
      "source": [
        "# объединение предсказаний и реальных меток\n",
        "\n",
        "# распаковываем вложенные циклы в один плоский список\n",
        "targets=[x for sub in trgts for x in sub]\n",
        "predictions=[x[0] for sub in preds for x in sub]\n",
        "targets=np.array(targets)\n",
        "predictions=np.array(predictions)"
      ],
      "metadata": {
        "id": "mAs7Y2nD4IdZ"
      },
      "execution_count": 49,
      "outputs": []
    },
    {
      "cell_type": "code",
      "source": [
        "# матрица ошибок\n",
        "\n",
        "from sklearn.metrics import confusion_matrix, ConfusionMatrixDisplay, f1_score\n",
        "# confusion_matrix  создает матрицу ошибок которая показывает истинные и предсказанные классы\n",
        "cm = confusion_matrix(targets, predictions)\n",
        "# визуализируем матрицу как график\n",
        "ConfusionMatrixDisplay(cm).plot()"
      ],
      "metadata": {
        "colab": {
          "base_uri": "https://localhost:8080/",
          "height": 488
        },
        "id": "SmcNaCqL4Knn",
        "outputId": "3092fb40-89dd-44b0-dc9d-010d927d8a07"
      },
      "execution_count": 50,
      "outputs": [
        {
          "output_type": "execute_result",
          "data": {
            "text/plain": [
              "<sklearn.metrics._plot.confusion_matrix.ConfusionMatrixDisplay at 0x7bff244ea980>"
            ]
          },
          "metadata": {},
          "execution_count": 50
        },
        {
          "output_type": "display_data",
          "data": {
            "text/plain": [
              "<Figure size 2000x500 with 2 Axes>"
            ],
            "image/png": "[encoded data removed]"
          },
          "metadata": {}
        }
      ]
    },
    {
      "cell_type": "code",
      "source": [
        "# вычисление f1 меры - среднее гармоническое между точностью и полнотой\n",
        "\n",
        "f1_score(targets, predictions,average='micro')"
      ],
      "metadata": {
        "colab": {
          "base_uri": "https://localhost:8080/"
        },
        "id": "74FdDPoX4NPZ",
        "outputId": "948fa72e-0879-43a4-c9e6-e19e28bbc252"
      },
      "execution_count": 51,
      "outputs": [
        {
          "output_type": "execute_result",
          "data": {
            "text/plain": [
              "0.8"
            ]
          },
          "metadata": {},
          "execution_count": 51
        }
      ]
    }
  ]
}