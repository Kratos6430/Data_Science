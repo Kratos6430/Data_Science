{
 "cells": [
  {
   "cell_type": "code",
   "execution_count": 5,
   "id": "63fe43e9-f2eb-4c9f-acd2-c02a7a4176bb",
   "metadata": {},
   "outputs": [
    {
     "name": "stdout",
     "output_type": "stream",
     "text": [
      "Пропущенные значения в данных:\n",
      "age          0\n",
      "job          0\n",
      "marital      0\n",
      "education    0\n",
      "balance      0\n",
      "housing      0\n",
      "contact      0\n",
      "day          0\n",
      "month        0\n",
      "duration     0\n",
      "campaign     0\n",
      "pdays        0\n",
      "previous     0\n",
      "poutcome     0\n",
      "y            0\n",
      "dtype: int64\n"
     ]
    },
    {
     "data": {
      "text/html": [
       "<div>\n",
       "<style scoped>\n",
       "    .dataframe tbody tr th:only-of-type {\n",
       "        vertical-align: middle;\n",
       "    }\n",
       "\n",
       "    .dataframe tbody tr th {\n",
       "        vertical-align: top;\n",
       "    }\n",
       "\n",
       "    .dataframe thead th {\n",
       "        text-align: right;\n",
       "    }\n",
       "</style>\n",
       "<table border=\"1\" class=\"dataframe\">\n",
       "  <thead>\n",
       "    <tr style=\"text-align: right;\">\n",
       "      <th></th>\n",
       "      <th>age</th>\n",
       "      <th>job</th>\n",
       "      <th>marital</th>\n",
       "      <th>education</th>\n",
       "      <th>balance</th>\n",
       "      <th>housing</th>\n",
       "      <th>contact</th>\n",
       "      <th>day</th>\n",
       "      <th>month</th>\n",
       "      <th>duration</th>\n",
       "      <th>campaign</th>\n",
       "      <th>pdays</th>\n",
       "      <th>previous</th>\n",
       "      <th>poutcome</th>\n",
       "      <th>y</th>\n",
       "    </tr>\n",
       "  </thead>\n",
       "  <tbody>\n",
       "    <tr>\n",
       "      <th>0</th>\n",
       "      <td>58</td>\n",
       "      <td>management</td>\n",
       "      <td>married</td>\n",
       "      <td>tertiary</td>\n",
       "      <td>2143</td>\n",
       "      <td>yes</td>\n",
       "      <td>unknown</td>\n",
       "      <td>5</td>\n",
       "      <td>may</td>\n",
       "      <td>261</td>\n",
       "      <td>1</td>\n",
       "      <td>-1</td>\n",
       "      <td>0</td>\n",
       "      <td>unknown</td>\n",
       "      <td>no</td>\n",
       "    </tr>\n",
       "    <tr>\n",
       "      <th>1</th>\n",
       "      <td>44</td>\n",
       "      <td>technician</td>\n",
       "      <td>single</td>\n",
       "      <td>secondary</td>\n",
       "      <td>29</td>\n",
       "      <td>yes</td>\n",
       "      <td>unknown</td>\n",
       "      <td>5</td>\n",
       "      <td>may</td>\n",
       "      <td>151</td>\n",
       "      <td>1</td>\n",
       "      <td>-1</td>\n",
       "      <td>0</td>\n",
       "      <td>unknown</td>\n",
       "      <td>no</td>\n",
       "    </tr>\n",
       "    <tr>\n",
       "      <th>2</th>\n",
       "      <td>33</td>\n",
       "      <td>entrepreneur</td>\n",
       "      <td>married</td>\n",
       "      <td>secondary</td>\n",
       "      <td>2</td>\n",
       "      <td>yes</td>\n",
       "      <td>unknown</td>\n",
       "      <td>5</td>\n",
       "      <td>may</td>\n",
       "      <td>76</td>\n",
       "      <td>1</td>\n",
       "      <td>-1</td>\n",
       "      <td>0</td>\n",
       "      <td>unknown</td>\n",
       "      <td>no</td>\n",
       "    </tr>\n",
       "    <tr>\n",
       "      <th>3</th>\n",
       "      <td>47</td>\n",
       "      <td>blue-collar</td>\n",
       "      <td>married</td>\n",
       "      <td>unknown</td>\n",
       "      <td>1506</td>\n",
       "      <td>yes</td>\n",
       "      <td>unknown</td>\n",
       "      <td>5</td>\n",
       "      <td>may</td>\n",
       "      <td>92</td>\n",
       "      <td>1</td>\n",
       "      <td>-1</td>\n",
       "      <td>0</td>\n",
       "      <td>unknown</td>\n",
       "      <td>no</td>\n",
       "    </tr>\n",
       "    <tr>\n",
       "      <th>4</th>\n",
       "      <td>33</td>\n",
       "      <td>unknown</td>\n",
       "      <td>single</td>\n",
       "      <td>unknown</td>\n",
       "      <td>1</td>\n",
       "      <td>no</td>\n",
       "      <td>unknown</td>\n",
       "      <td>5</td>\n",
       "      <td>may</td>\n",
       "      <td>198</td>\n",
       "      <td>1</td>\n",
       "      <td>-1</td>\n",
       "      <td>0</td>\n",
       "      <td>unknown</td>\n",
       "      <td>no</td>\n",
       "    </tr>\n",
       "  </tbody>\n",
       "</table>\n",
       "</div>"
      ],
      "text/plain": [
       "   age           job  marital  education  balance housing  contact  day month  \\\n",
       "0   58    management  married   tertiary     2143     yes  unknown    5   may   \n",
       "1   44    technician   single  secondary       29     yes  unknown    5   may   \n",
       "2   33  entrepreneur  married  secondary        2     yes  unknown    5   may   \n",
       "3   47   blue-collar  married    unknown     1506     yes  unknown    5   may   \n",
       "4   33       unknown   single    unknown        1      no  unknown    5   may   \n",
       "\n",
       "   duration  campaign  pdays  previous poutcome   y  \n",
       "0       261         1     -1         0  unknown  no  \n",
       "1       151         1     -1         0  unknown  no  \n",
       "2        76         1     -1         0  unknown  no  \n",
       "3        92         1     -1         0  unknown  no  \n",
       "4       198         1     -1         0  unknown  no  "
      ]
     },
     "execution_count": 5,
     "metadata": {},
     "output_type": "execute_result"
    }
   ],
   "source": [
    "import pandas as pd\n",
    "import numpy as np\n",
    "import matplotlib.pyplot as plt\n",
    "import seaborn as sns\n",
    "\n",
    "\n",
    "data = pd.read_csv('bank-full-4.csv', sep=';')\n",
    "\n",
    "\n",
    "selected_columns = [\n",
    "    'age', 'job', 'marital', 'education', 'balance', 'housing',\n",
    "    'contact', 'day', 'month', 'duration', 'campaign', 'pdays',\n",
    "    'previous', 'poutcome', 'y'\n",
    "]\n",
    "selected_data = data[selected_columns]\n",
    "\n",
    "\n",
    "# Проверяем наличие пропущенных значений в каждом столбце\n",
    "missing_values = selected_data.isnull().sum()\n",
    "print(\"Пропущенные значения в данных:\")\n",
    "print(missing_values)\n",
    "\n",
    "selected_data.head()"
   ]
  },
  {
   "cell_type": "code",
   "execution_count": 6,
   "id": "ae167796-7caf-4744-8f50-3129a38580bc",
   "metadata": {},
   "outputs": [
    {
     "data": {
      "text/plain": [
       "(27126, 9042, 9043)"
      ]
     },
     "execution_count": 6,
     "metadata": {},
     "output_type": "execute_result"
    }
   ],
   "source": [
    "from sklearn.model_selection import train_test_split\n",
    "\n",
    "\n",
    "# Splitting the data into train/validation/test sets (60%/20%/20%)\n",
    "train_data, temp_data = train_test_split(selected_data, test_size=0.4, random_state=1)\n",
    "validation_data, test_data = train_test_split(temp_data, test_size=0.5, random_state=1)\n",
    "\n",
    "\n",
    "len(train_data), len(validation_data), len(test_data)"
   ]
  },
  {
   "cell_type": "code",
   "execution_count": 7,
   "id": "5be0314c-fa2e-4670-a956-44f2266cd404",
   "metadata": {},
   "outputs": [
    {
     "data": {
      "text/plain": [
       "({'balance': np.float64(0.5916931412945473),\n",
       "  'day': np.float64(0.5291275984648961),\n",
       "  'duration': np.float64(0.8128648066681694),\n",
       "  'previous': np.float64(0.5986704105715122)},\n",
       " 'duration')"
      ]
     },
     "execution_count": 7,
     "metadata": {},
     "output_type": "execute_result"
    }
   ],
   "source": [
    "from sklearn.metrics import roc_auc_score\n",
    "\n",
    "# Определение числовых переменных для анализа\n",
    "numerical_features = ['balance', 'day', 'duration', 'previous']\n",
    "\n",
    "# Подготовка переменных и целевой переменной (используем обучающую выборку)\n",
    "X_train = train_data[numerical_features]\n",
    "y_train = train_data['y'].apply(lambda x: 1 if x == 'yes' else 0)  # Преобразуем 'y' в числовой формат\n",
    "\n",
    "# Словарь для хранения AUC значений\n",
    "feature_auc = {}\n",
    "\n",
    "# Вычисление ROC AUC для каждой переменной\n",
    "for feature in numerical_features:\n",
    "    auc = roc_auc_score(y_train, X_train[feature])\n",
    "    # Инвертируем переменную, если AUC < 0.5\n",
    "    if auc < 0.5:\n",
    "        auc = roc_auc_score(y_train, -X_train[feature])\n",
    "    feature_auc[feature] = auc\n",
    "\n",
    "# Наивысший AUC\n",
    "max_auc_feature = max(feature_auc, key=feature_auc.get)\n",
    "\n",
    "# Вывод результатов\n",
    "feature_auc, max_auc_feature\n"
   ]
  },
  {
   "cell_type": "code",
   "execution_count": 8,
   "id": "de891cc1-9bd4-477e-9e3f-2602551ef8fd",
   "metadata": {},
   "outputs": [
    {
     "data": {
      "text/plain": [
       "np.float64(1.0)"
      ]
     },
     "execution_count": 8,
     "metadata": {},
     "output_type": "execute_result"
    }
   ],
   "source": [
    "from sklearn.feature_extraction import DictVectorizer\n",
    "from sklearn.linear_model import LogisticRegression\n",
    "from sklearn.metrics import roc_auc_score\n",
    "\n",
    "# One-hot-encoding с использованием DictVectorizer\n",
    "train_dicts = train_data.to_dict(orient='records')  # Преобразование данных в список словарей\n",
    "val_dicts = validation_data.to_dict(orient='records')\n",
    "\n",
    "vectorizer = DictVectorizer(sparse=False)\n",
    "X_train = vectorizer.fit_transform(train_dicts)\n",
    "X_val = vectorizer.transform(val_dicts)\n",
    "\n",
    "# Целевая переменная\n",
    "y_train = train_data['y'].apply(lambda x: 1 if x == 'yes' else 0)\n",
    "y_val = validation_data['y'].apply(lambda x: 1 if x == 'yes' else 0)\n",
    "\n",
    "# Логистическая регрессия\n",
    "model = LogisticRegression(solver='liblinear', C=1.0, max_iter=1000)\n",
    "model.fit(X_train, y_train)\n",
    "\n",
    "# Предсказания и вычисление AUC на валидационном наборе\n",
    "y_pred_val = model.predict_proba(X_val)[:, 1]\n",
    "auc_val = roc_auc_score(y_val, y_pred_val)\n",
    "\n",
    "auc_val\n"
   ]
  },
  {
   "cell_type": "code",
   "execution_count": 10,
   "id": "eaf1af4e-46a5-4b77-a2df-cbbf98009cf6",
   "metadata": {},
   "outputs": [
    {
     "name": "stdout",
     "output_type": "stream",
     "text": [
      "Максимальный F1-score: 1.00 при пороге: 0.08\n"
     ]
    }
   ],
   "source": [
    "# Вычисляем F1-score для порогов от 0.0 до 1.0 с шагом 0.01\n",
    "thresholds = np.arange(0.0, 1.01, 0.01)\n",
    "f1_scores = [f1_score(y_val, y_pred_val >= thresh) for thresh in thresholds]\n",
    "\n",
    "# Находим порог с максимальным значением F1\n",
    "max_f1_index = np.argmax(f1_scores)\n",
    "max_f1_threshold = thresholds[max_f1_index]\n",
    "max_f1_score = f1_scores[max_f1_index]\n",
    "\n",
    "# Выводим результаты\n",
    "print(f\"Максимальный F1-score: {max_f1_score:.2f} при пороге: {max_f1_threshold:.2f}\")\n"
   ]
  },
  {
   "cell_type": "code",
   "execution_count": 11,
   "id": "d4800530-9eb4-4cea-947b-ea8e57f81d9e",
   "metadata": {},
   "outputs": [
    {
     "name": "stdout",
     "output_type": "stream",
     "text": [
      "Стандартная ошибка оценок AUC: 0.00000\n"
     ]
    }
   ],
   "source": [
    "from sklearn.model_selection import KFold\n",
    "from sklearn.metrics import roc_auc_score\n",
    "from sklearn.linear_model import LogisticRegression\n",
    "\n",
    "# Инициализация KFold с 5 фолдами\n",
    "kf = KFold(n_splits=5, shuffle=True, random_state=1)\n",
    "\n",
    "# Список для хранения оценок AUC на каждом фолде\n",
    "auc_scores = []\n",
    "\n",
    "# Выполняем кросс-валидацию\n",
    "for train_index, val_index in kf.split(X_train):\n",
    "    # Делим данные на обучающую и валидационную выборки\n",
    "    X_fold_train, X_fold_val = X_train[train_index], X_train[val_index]\n",
    "    y_fold_train, y_fold_val = y_train.iloc[train_index], y_train.iloc[val_index]\n",
    "    \n",
    "    # Обучаем логистическую регрессию\n",
    "    model = LogisticRegression(solver='liblinear', C=1.0, max_iter=1000)\n",
    "    model.fit(X_fold_train, y_fold_train)\n",
    "    \n",
    "    # Предсказания вероятностей и вычисление AUC\n",
    "    y_pred_fold_val = model.predict_proba(X_fold_val)[:, 1]\n",
    "    auc = roc_auc_score(y_fold_val, y_pred_fold_val)\n",
    "    auc_scores.append(auc)\n",
    "\n",
    "# Вычисляем стандартную ошибку (стандартное отклонение / sqrt(n))\n",
    "std_error = np.std(auc_scores) / np.sqrt(len(auc_scores))\n",
    "\n",
    "print(f\"Стандартная ошибка оценок AUC: {std_error:.5f}\")\n"
   ]
  },
  {
   "cell_type": "code",
   "execution_count": 12,
   "id": "44aedc42-1e02-484b-8926-dcb8ca4c0c09",
   "metadata": {},
   "outputs": [
    {
     "name": "stdout",
     "output_type": "stream",
     "text": [
      "C: 1e-06, Средний AUC: 0.698, Стандартное отклонение: 0.008\n",
      "C: 0.001, Средний AUC: 0.996, Стандартное отклонение: 0.001\n",
      "C: 1, Средний AUC: 1.0, Стандартное отклонение: 0.0\n",
      "\n",
      "Лучшее значение C: 1\n"
     ]
    }
   ],
   "source": [
    "# Перебираемые значения параметра C\n",
    "C_values = [0.000001, 0.001, 1]\n",
    "\n",
    "# Инициализация KFold с 5 фолдами\n",
    "kf = KFold(n_splits=5, shuffle=True, random_state=1)\n",
    "\n",
    "# Словарь для хранения результатов AUC для каждого значения C\n",
    "results = {}\n",
    "\n",
    "for C in C_values:\n",
    "    auc_scores = []\n",
    "    \n",
    "    # Кросс-валидация для текущего значения C\n",
    "    for train_index, val_index in kf.split(X_train):\n",
    "        X_fold_train, X_fold_val = X_train[train_index], X_train[val_index]\n",
    "        y_fold_train, y_fold_val = y_train.iloc[train_index], y_train.iloc[val_index]\n",
    "        \n",
    "        # Обучение модели с текущим C\n",
    "        model = LogisticRegression(solver='liblinear', C=C, max_iter=1000)\n",
    "        model.fit(X_fold_train, y_fold_train)\n",
    "        \n",
    "        # Предсказания и вычисление AUC\n",
    "        y_pred_fold_val = model.predict_proba(X_fold_val)[:, 1]\n",
    "        auc = roc_auc_score(y_fold_val, y_pred_fold_val)\n",
    "        auc_scores.append(auc)\n",
    "    \n",
    "    # Вычисляем среднее AUC и стандартное отклонение\n",
    "    mean_auc = np.round(np.mean(auc_scores), 3)\n",
    "    std_auc = np.round(np.std(auc_scores), 3)\n",
    "    \n",
    "    results[C] = (mean_auc, std_auc)\n",
    "\n",
    "# Находим лучший параметр C по максимальному среднему AUC\n",
    "best_C = min(results, key=lambda x: (-results[x][0], results[x][1]))\n",
    "\n",
    "# Выводим результаты\n",
    "for C, (mean_auc, std_auc) in results.items():\n",
    "    print(f\"C: {C}, Средний AUC: {mean_auc}, Стандартное отклонение: {std_auc}\")\n",
    "\n",
    "print(f\"\\nЛучшее значение C: {best_C}\")\n"
   ]
  },
  {
   "cell_type": "code",
   "execution_count": null,
   "id": "76271971-6cb3-4037-8c23-68898a80e141",
   "metadata": {},
   "outputs": [],
   "source": [
    "#1. duration\n",
    "#2. 0.99\n",
    "#3. 0.465\n",
    "#4. 0.02\n",
    "#5. 0.0001\n",
    "#6. 1"
   ]
  }
 ],
 "metadata": {
  "kernelspec": {
   "display_name": "Python 3 (ipykernel)",
   "language": "python",
   "name": "python3"
  },
  "language_info": {
   "codemirror_mode": {
    "name": "ipython",
    "version": 3
   },
   "file_extension": ".py",
   "mimetype": "text/x-python",
   "name": "python",
   "nbconvert_exporter": "python",
   "pygments_lexer": "ipython3",
   "version": "3.12.0"
  }
 },
 "nbformat": 4,
 "nbformat_minor": 5
}
